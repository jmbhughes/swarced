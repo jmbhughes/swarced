{
 "cells": [
  {
   "cell_type": "markdown",
   "metadata": {},
   "source": [
    "We wanted to check the runtime for the ketu code in our configuration."
   ]
  },
  {
   "cell_type": "code",
   "execution_count": 21,
   "metadata": {
    "collapsed": true
   },
   "outputs": [],
   "source": [
    "import swarced as sw\n",
    "import time, pickle, random, os, run\n",
    "import numpy as np\n",
    "import multiprocessing as mp"
   ]
  },
  {
   "cell_type": "code",
   "execution_count": 131,
   "metadata": {
    "collapsed": true
   },
   "outputs": [],
   "source": [
    "qlist = os.listdir(\"/k2_data/query\")"
   ]
  },
  {
   "cell_type": "markdown",
   "metadata": {},
   "source": [
    "#No parallel "
   ]
  },
  {
   "cell_type": "code",
   "execution_count": 63,
   "metadata": {
    "collapsed": false
   },
   "outputs": [],
   "source": [
    "qlist = os.listdir(\"/k2_data/query\")\n",
    "t = np.array([])\n",
    "for q in random.sample(qlist,5):\n",
    "    start = time.time()\n",
    "    os.system(\"python run.py \" + q[7:-6] + \" 0 /k2_data/query/\" + q)\n",
    "    t = np.append(t,time.time()-start)"
   ]
  },
  {
   "cell_type": "markdown",
   "metadata": {},
   "source": [
    "Without parallel processing each cycle took about 490 seconds with a standard deviation in a sample of 5 of 10 seconds. That means for 5 tasks it took about 40 minutes."
   ]
  },
  {
   "cell_type": "code",
   "execution_count": 65,
   "metadata": {
    "collapsed": false
   },
   "outputs": [
    {
     "data": {
      "text/plain": [
       "490.52086238861085"
      ]
     },
     "execution_count": 65,
     "metadata": {},
     "output_type": "execute_result"
    }
   ],
   "source": [
    "np.mean(t)"
   ]
  },
  {
   "cell_type": "code",
   "execution_count": 69,
   "metadata": {
    "collapsed": false
   },
   "outputs": [
    {
     "data": {
      "text/plain": [
       "9.9701895198145252"
      ]
     },
     "execution_count": 69,
     "metadata": {},
     "output_type": "execute_result"
    }
   ],
   "source": [
    "np.std(t)"
   ]
  },
  {
   "cell_type": "code",
   "execution_count": 71,
   "metadata": {
    "collapsed": false
   },
   "outputs": [
    {
     "data": {
      "text/plain": [
       "40.876738532384238"
      ]
     },
     "execution_count": 71,
     "metadata": {},
     "output_type": "execute_result"
    }
   ],
   "source": [
    "np.sum(t)/60."
   ]
  },
  {
   "cell_type": "markdown",
   "metadata": {},
   "source": [
    "#Multiprocessing "
   ]
  },
  {
   "cell_type": "markdown",
   "metadata": {},
   "source": [
    "Since that is so time intensive and we wish to run quite a few of these, we implemented multiprocessing. "
   ]
  },
  {
   "cell_type": "code",
   "execution_count": 2,
   "metadata": {
    "collapsed": true
   },
   "outputs": [],
   "source": [
    "import multiprocessing as mp"
   ]
  },
  {
   "cell_type": "code",
   "execution_count": 4,
   "metadata": {
    "collapsed": false
   },
   "outputs": [],
   "source": [
    "qlist = os.listdir(\"/k2_data/query\")\n",
    "qlist_subset = random.sample(qlist,5)#since there are 158 files in that folder I just wanted to run 5"
   ]
  },
  {
   "cell_type": "code",
   "execution_count": 92,
   "metadata": {
    "collapsed": true
   },
   "outputs": [],
   "source": [
    "def single_run(qfile):\n",
    "    start = time.time()\n",
    "    #python run.py epicID campaign query_file_path\n",
    "    #os.system(\"python run.py \" + qfile[4:-2] + \" 0 /k2_data/query/\" + qfile)\n",
    "    run.main([qfile[7:-6], 0, \"/k2_data/query/\" + qfile])\n",
    "    return time.time() - start"
   ]
  },
  {
   "cell_type": "code",
   "execution_count": 28,
   "metadata": {
    "collapsed": false,
    "scrolled": true
   },
   "outputs": [
    {
     "name": "stdout",
     "output_type": "stream",
     "text": [
      "[544.5501210689545, 584.634486913681, 546.0201680660248, 711.1573400497437, 644.8120350837708]\n",
      "Querying Data\n",
      "Querying Data\n",
      "Querying Data\n",
      "Querying Data\n",
      "Querying Data\n",
      "Finished querying Data in 2.31sFinished querying Data in 2.40sFinished querying Data in 2.43sFinished querying Data in 2.29sFinished querying Data in 2.27s\n",
      "\n",
      "\n",
      "\n",
      "\n",
      "Querying Likelihood\n",
      "Querying Likelihood\n",
      "Querying Likelihood\n",
      "Querying Likelihood\n",
      "Querying Likelihood\n",
      "tau = 0.947937011719tau = 0.947937011719tau = 0.947937011719tau = 0.902069091797tau = 0.942840576172\n",
      "\n",
      "\n",
      "\n",
      "\n",
      "155 185\n",
      "173 184\n",
      "175 182\n",
      "179 179\n",
      "140 181\n",
      "146 155\n",
      "168 173\n",
      "169 175\n",
      "tau = 0.902069091797\n",
      "127 140\n",
      "142 146\n",
      "174 168\n",
      "171 169\n",
      "tau = 1.15689086914144 127\n",
      "137 142\n",
      "174 174\n",
      "171 171\n",
      "\n",
      "142 144\n",
      "140 137\n",
      "tau = 0.947937011719\n",
      "tau = 0.947937011719\n",
      "306 306\n",
      "142 142\n",
      "142 140\n",
      "tau = 1.62066650391tau = 0.795043945312tau = 1.15689086914\n",
      "tau = 0.942840576172\n",
      "142 142\n",
      "\n",
      "\n",
      "tau = 5.69781494141tau = 0.973419189453tau = 0.947937011719\n",
      "297 311\n",
      "300 312\n",
      "\n",
      "\n",
      "tau = 0.703308105469288 297\n",
      "296 300\n",
      "1658249 313\n",
      "\n",
      "287 288\n",
      "292 296\n",
      " 1658\n",
      "247 249\n",
      "266 314\n",
      "290 287\n",
      "290 292\n",
      "tau = 5.69781494141243 247\n",
      "255 266\n",
      "289 290\n",
      "290 290\n",
      "\n",
      "251 243\n",
      "255 255\n",
      "292 289\n",
      "tau = 0.800140380859\n",
      "Finished querying Likelihood in 2.89s252 251\n",
      "tau = 0.703308105469\n",
      "292 292\n",
      "tau = 3.64904785156\n",
      "251 252\n",
      "tau = 0.647247314453tau = 1.62066650391\n",
      "\n",
      "Querying OneDSearch\n",
      "251 251\n",
      "\n",
      "tau = 1.753173828121638Finished querying OneDSearch in 104.73stau = 0.973419189453\n",
      "1500\n",
      " 1689\n",
      "\n",
      "tau = 3.86309814453 1733\n",
      "16301613Querying TwoDSearch\n",
      "\n",
      "1457 1708\n",
      " 1638\n",
      "Finished querying TwoDSearch in 596.20s1646 1500\n",
      "15851612\n",
      " 1679\n",
      "1410 1630\n",
      " 1613\n",
      "Querying PeakDetect\n",
      "1610 1457\n",
      "15821612Finished querying PeakDetect in 4.89s 1646\n",
      "1394 1585\n",
      " 1612\n",
      "\n",
      "1597 1410\n",
      "1602tau = 3.64904785156 1610\n",
      "1381 1582\n",
      "\n",
      "1595 1394\n",
      "1617Finished querying Likelihood in 4.09s 1597\n",
      "1374 1602\n",
      "\n",
      "1595 1381\n",
      "1618Querying OneDSearch\n",
      " 1595\n",
      "1372 1617\n",
      "Finished querying OneDSearch in 79.25stau = 3.86309814453 1374\n",
      "1618\n",
      "\n",
      "1372 1618\n",
      "Querying TwoDSearch\n",
      "Finished querying Likelihood in 5.67s 1372\n",
      "tau = 1.75317382812Finished querying TwoDSearch in 558.20s\n",
      "tau = 0.647247314453\n",
      "\n",
      "Querying OneDSearch\n",
      "\n",
      "Finished querying Likelihood in 6.90sQuerying PeakDetect\n",
      "Finished querying OneDSearch in 85.46sFinished querying Likelihood in 6.13s\n",
      "Finished querying PeakDetect in 0.71s\n",
      "\n",
      "Querying OneDSearch\n",
      "\n",
      "Querying TwoDSearch\n",
      "Querying OneDSearch\n",
      "Finished querying OneDSearch in 81.36sFinished querying TwoDSearch in 490.05sFinished querying OneDSearch in 75.54s\n",
      "\n",
      "\n",
      "Querying TwoDSearch\n",
      "Querying PeakDetect\n",
      "Querying TwoDSearch\n",
      "Finished querying TwoDSearch in 453.08sFinished querying PeakDetect in 1.06sFinished querying TwoDSearch in 461.25s\n",
      "\n",
      "\n",
      "Querying PeakDetect\n",
      "Querying PeakDetect\n",
      "Finished querying PeakDetect in 0.61sFinished querying PeakDetect in 0.67s\n",
      "\n"
     ]
    },
    {
     "name": "stderr",
     "output_type": "stream",
     "text": [
      "WARNING:root:Not enough peaks were found\n",
      "WARNING:root:Not enough peaks were found\n",
      "WARNING:root:Not enough peaks were found\n",
      "WARNING:root:Not enough peaks were found\n",
      "WARNING:root:Not enough peaks were found\n"
     ]
    },
    {
     "data": {
      "text/plain": [
       "-711.1813549995422"
      ]
     },
     "execution_count": 28,
     "metadata": {},
     "output_type": "execute_result"
    }
   ],
   "source": [
    "ss = time.time()\n",
    "pool = mp.Pool(processes=6)#this computer has 8 cores, I'm only going to use 6\n",
    "results = pool.map(single_run, qlist_subset)\n",
    "pool.close()\n",
    "pool.join()\n",
    "print(results)\n",
    "ee = time.time()\n",
    "ee-ss"
   ]
  },
  {
   "cell_type": "markdown",
   "metadata": {},
   "source": [
    "The total runtime was 711 seconds or about 11 minutes."
   ]
  },
  {
   "cell_type": "code",
   "execution_count": 31,
   "metadata": {
    "collapsed": false
   },
   "outputs": [
    {
     "data": {
      "text/plain": [
       "711.1813549995422"
      ]
     },
     "execution_count": 31,
     "metadata": {},
     "output_type": "execute_result"
    }
   ],
   "source": [
    "ee-ss"
   ]
  },
  {
   "cell_type": "markdown",
   "metadata": {},
   "source": [
    "Interestingly, each individual run varied more using multiprocessing."
   ]
  },
  {
   "cell_type": "code",
   "execution_count": 30,
   "metadata": {
    "collapsed": false
   },
   "outputs": [
    {
     "data": {
      "text/plain": [
       "[544.5501210689545,\n",
       " 584.634486913681,\n",
       " 546.0201680660248,\n",
       " 711.1573400497437,\n",
       " 644.8120350837708]"
      ]
     },
     "execution_count": 30,
     "metadata": {},
     "output_type": "execute_result"
    }
   ],
   "source": [
    "results"
   ]
  },
  {
   "cell_type": "markdown",
   "metadata": {},
   "source": [
    "On average, they took 10 minutes each with a standard deviation of about a minute."
   ]
  },
  {
   "cell_type": "code",
   "execution_count": 32,
   "metadata": {
    "collapsed": false
   },
   "outputs": [
    {
     "data": {
      "text/plain": [
       "10.103913837273916"
      ]
     },
     "execution_count": 32,
     "metadata": {},
     "output_type": "execute_result"
    }
   ],
   "source": [
    "np.mean(results)/60"
   ]
  },
  {
   "cell_type": "code",
   "execution_count": 72,
   "metadata": {
    "collapsed": false
   },
   "outputs": [
    {
     "data": {
      "text/plain": [
       "63.865980797904115"
      ]
     },
     "execution_count": 72,
     "metadata": {},
     "output_type": "execute_result"
    }
   ],
   "source": [
    "np.std(results)"
   ]
  },
  {
   "cell_type": "markdown",
   "metadata": {},
   "source": [
    "This could be because the test was run on a different sample or because of some variable overhead time with multiprocessing."
   ]
  },
  {
   "cell_type": "code",
   "execution_count": 71,
   "metadata": {
    "collapsed": false
   },
   "outputs": [
    {
     "data": {
      "text/plain": [
       "['EPIC202060911.q',\n",
       " 'EPIC202073144.q',\n",
       " 'EPIC202073440.q',\n",
       " 'EPIC202073353.q',\n",
       " 'EPIC202093968.q']"
      ]
     },
     "execution_count": 71,
     "metadata": {},
     "output_type": "execute_result"
    }
   ],
   "source": [
    "qq"
   ]
  },
  {
   "cell_type": "markdown",
   "metadata": {},
   "source": [
    "#Cacheing"
   ]
  },
  {
   "cell_type": "markdown",
   "metadata": {},
   "source": [
    "This test the speed of cacheing versus not cacheing for a multiprocessing run. I anticipate the speed will be about the same, maybe slightly slower since data must be written. "
   ]
  },
  {
   "cell_type": "code",
   "execution_count": 130,
   "metadata": {
    "collapsed": false
   },
   "outputs": [
    {
     "data": {
      "text/plain": [
       "['EPIC202060911.q',\n",
       " 'EPIC202073144.q',\n",
       " 'EPIC202073440.q',\n",
       " 'EPIC202073353.q',\n",
       " 'EPIC202093968.q']"
      ]
     },
     "execution_count": 130,
     "metadata": {},
     "output_type": "execute_result"
    }
   ],
   "source": [
    "qq"
   ]
  },
  {
   "cell_type": "code",
   "execution_count": 96,
   "metadata": {
    "collapsed": false
   },
   "outputs": [],
   "source": [
    "qlist_subset = qq"
   ]
  },
  {
   "cell_type": "code",
   "execution_count": 123,
   "metadata": {
    "collapsed": false
   },
   "outputs": [
    {
     "data": {
      "text/plain": [
       "<module 'run' from 'run.py'>"
      ]
     },
     "execution_count": 123,
     "metadata": {},
     "output_type": "execute_result"
    }
   ],
   "source": [
    "reload(sw)\n",
    "reload(run)"
   ]
  },
  {
   "cell_type": "code",
   "execution_count": 124,
   "metadata": {
    "collapsed": true
   },
   "outputs": [],
   "source": [
    "def single_run(qfile):\n",
    "    start = time.time()\n",
    "    #python run.py epicID campaign query_file_path\n",
    "    #os.system(\"python run.py \" + qfile[4:-2] + \" 0 /k2_data/query/\" + qfile)\n",
    "    run.main([qfile[4:-2], 0, \"/k2_data/query_cache/\" + qfile])\n",
    "    return time.time() - start"
   ]
  },
  {
   "cell_type": "code",
   "execution_count": 125,
   "metadata": {
    "collapsed": false,
    "scrolled": true
   },
   "outputs": [
    {
     "name": "stdout",
     "output_type": "stream",
     "text": [
      "[649.0818219184875, 614.6605250835419, 667.3451302051544, 609.237820148468, 640.0954308509827]\n",
      "Querying Data\n",
      "Querying Data\n",
      "Querying Data\n",
      "Querying Data\n",
      "Querying Data\n",
      "Finished querying Data in 1.17sFinished querying Data in 1.16sFinished querying Data in 1.33sFinished querying Data in 1.29sFinished querying Data in 1.16s\n",
      "\n",
      "\n",
      "\n",
      "\n",
      "Querying LikelihoodQuerying LikelihoodQuerying LikelihoodQuerying LikelihoodQuerying Likelihood\n",
      "\n",
      "\n",
      "\n",
      "\n",
      "tau = 0.902069091797tau = 0.947937011719tau = 0.947937011719tau = 0.942840576172tau = 0.947937011719\n",
      "\n",
      "\n",
      "\n",
      "\n",
      "179 179\n",
      "155 185\n",
      "173 184\n",
      "140 181\n",
      "175 182\n",
      "tau = 0.902069091797\n",
      "146 155\n",
      "168 173\n",
      "127 140\n",
      "169 175\n",
      "tau = 1.15689086914142 146\n",
      "174 168\n",
      "144 127\n",
      "171 169\n",
      "\n",
      "137 142\n",
      "174 174\n",
      "142 144\n",
      "171 171\n",
      "306 306\n",
      "140 137\n",
      "tau = 0.947937011719\n",
      "142 142\n",
      "tau = 0.947937011719\n",
      "tau = 1.15689086914\n",
      "142 140\n",
      "tau = 1.62066650391tau = 0.942840576172\n",
      "tau = 0.795043945312tau = 5.69781494141142 142\n",
      "\n",
      "tau = 0.973419189453\n",
      "\n",
      "tau = 0.947937011719\n",
      "297 311\n",
      "\n",
      "300 312\n",
      "1658tau = 0.703308105469288 297\n",
      "249 313\n",
      "296 300\n",
      " 1658\n",
      "\n",
      "287 288\n",
      "247 249\n",
      "292 296\n",
      "tau = 5.69781494141266 314\n",
      "290 287\n",
      "243 247\n",
      "290 292\n",
      "\n",
      "255 266\n",
      "289 290\n",
      "251 243\n",
      "290 290\n",
      "Finished querying Likelihood in 2.11s255 255\n",
      "292 289\n",
      "252 251\n",
      "tau = 0.800140380859\n",
      "\n",
      "tau = 0.703308105469\n",
      "292 292\n",
      "251 252\n",
      "tau = 3.64904785156Querying OneDSearchtau = 0.647247314453tau = 1.62066650391\n",
      "251 251\n",
      "\n",
      "\n",
      "\n",
      "tau = 1.75317382812tau = 0.973419189453\n",
      "1638Finished querying OneDSearch in 74.73s1500\n",
      "tau = 3.86309814453 1689\n",
      "\n",
      " 1733\n",
      "1630\n",
      "1613Querying TwoDSearch\n",
      "1457 1708\n",
      "1646 1638\n",
      "Finished querying TwoDSearch in 511.90s 1500\n",
      "1585 1679\n",
      "1612\n",
      "1410 1630\n",
      "1610 1613\n",
      "Querying PeakDetect 1457\n",
      "1582 1646\n",
      "1612\n",
      "1394 1585\n",
      "1597 1612\n",
      "Finished querying PeakDetect in 8.09s 1410\n",
      "1602 1610\n",
      "tau = 3.64904785156\n",
      "1381 1582\n",
      "1595\n",
      " 1394\n",
      "1617 1597\n",
      "Finished querying Likelihood in 4.31s\n",
      "1374 1602\n",
      "1595Querying OneDSearch 1381\n",
      "1618 1595\n",
      "\n",
      "1372 1617\n",
      "tau = 3.86309814453Finished querying OneDSearch in 91.48s 1374\n",
      "1618\n",
      "\n",
      "1372 1618\n",
      "Finished querying Likelihood in 5.40sQuerying TwoDSearch\n",
      " 1372\n",
      "tau = 1.75317382812\n",
      "Finished querying TwoDSearch in 531.07stau = 0.647247314453\n",
      "Querying OneDSearch\n",
      "\n",
      "Finished querying Likelihood in 9.53s\n",
      "Querying PeakDetectFinished querying Likelihood in 5.83s\n",
      "Finished querying OneDSearch in 77.60s\n",
      "\n",
      "Querying OneDSearch\n",
      "Finished querying PeakDetect in 0.74sQuerying OneDSearch\n",
      "Querying TwoDSearch\n",
      "\n",
      "\n",
      "Finished querying OneDSearch in 91.89sFinished querying TwoDSearch in 517.68sFinished querying OneDSearch in 96.48s\n",
      "\n",
      "Querying PeakDetect\n",
      "Querying TwoDSearch\n",
      "\n",
      "Querying TwoDSearch\n",
      "Finished querying TwoDSearch in 532.95sFinished querying PeakDetect in 1.15sFinished querying TwoDSearch in 550.76s\n",
      "\n",
      "\n",
      "Querying PeakDetectQuerying PeakDetect\n",
      "Finished querying PeakDetect in 0.61s\n",
      "\n",
      "Finished querying PeakDetect in 0.67s\n"
     ]
    },
    {
     "name": "stderr",
     "output_type": "stream",
     "text": [
      "WARNING:root:Not enough peaks were found\n",
      "WARNING:root:Not enough peaks were found\n",
      "WARNING:root:Not enough peaks were found\n",
      "WARNING:root:Not enough peaks were found\n",
      "WARNING:root:Not enough peaks were found\n"
     ]
    },
    {
     "data": {
      "text/plain": [
       "667.5064611434937"
      ]
     },
     "execution_count": 125,
     "metadata": {},
     "output_type": "execute_result"
    }
   ],
   "source": [
    "ss = time.time()\n",
    "pool = mp.Pool(processes=6)#this computer has 8 cores, I'm only going to use 6\n",
    "results = pool.map(single_run, qq)\n",
    "pool.close()\n",
    "pool.join()\n",
    "print(results)\n",
    "ee = time.time()\n",
    "ee-ss"
   ]
  },
  {
   "cell_type": "markdown",
   "metadata": {},
   "source": [
    "The time was slighlty longer with cacheing than without"
   ]
  },
  {
   "cell_type": "code",
   "execution_count": 126,
   "metadata": {
    "collapsed": false,
    "scrolled": true
   },
   "outputs": [
    {
     "data": {
      "text/plain": [
       "667.5064611434937"
      ]
     },
     "execution_count": 126,
     "metadata": {},
     "output_type": "execute_result"
    }
   ],
   "source": [
    "ee-ss"
   ]
  },
  {
   "cell_type": "code",
   "execution_count": 127,
   "metadata": {
    "collapsed": false
   },
   "outputs": [
    {
     "data": {
      "text/plain": [
       "[649.0818219184875,\n",
       " 614.6605250835419,\n",
       " 667.3451302051544,\n",
       " 609.237820148468,\n",
       " 640.0954308509827]"
      ]
     },
     "execution_count": 127,
     "metadata": {},
     "output_type": "execute_result"
    }
   ],
   "source": [
    "results"
   ]
  },
  {
   "cell_type": "code",
   "execution_count": 128,
   "metadata": {
    "collapsed": false
   },
   "outputs": [
    {
     "data": {
      "text/plain": [
       "10.601402427355449"
      ]
     },
     "execution_count": 128,
     "metadata": {},
     "output_type": "execute_result"
    }
   ],
   "source": [
    "np.mean(results)/60"
   ]
  }
 ],
 "metadata": {
  "kernelspec": {
   "display_name": "Python 2",
   "language": "python",
   "name": "python2"
  },
  "language_info": {
   "codemirror_mode": {
    "name": "ipython",
    "version": 2
   },
   "file_extension": ".py",
   "mimetype": "text/x-python",
   "name": "python",
   "nbconvert_exporter": "python",
   "pygments_lexer": "ipython2",
   "version": "2.7.10"
  }
 },
 "nbformat": 4,
 "nbformat_minor": 0
}
