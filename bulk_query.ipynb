{
 "cells": [
  {
   "cell_type": "code",
   "execution_count": 2,
   "metadata": {
    "collapsed": true
   },
   "outputs": [],
   "source": [
    "%matplotlib inline\n",
    "import swarced as sw\n",
    "from astropy.io import ascii\n",
    "import random, os, pickle\n",
    "import numpy as np\n",
    "import matplotlib.pyplot as pl"
   ]
  },
  {
   "cell_type": "markdown",
   "metadata": {},
   "source": [
    "#Forming Queries for Injected Planets "
   ]
  },
  {
   "cell_type": "markdown",
   "metadata": {},
   "source": [
    "For any execution of a ketu run, you must have a query  dictionary. For bulk runs without cacheing we've chosen to make query files that are then loaded into ketu. "
   ]
  },
  {
   "cell_type": "code",
   "execution_count": 20,
   "metadata": {
    "collapsed": false
   },
   "outputs": [],
   "source": [
    "path = \"/k2_data/c0_known_EB_lc/\"\n",
    "lclist = os.listdir(path)\n",
    "ref = ascii.read(\"/k2_data/c0_EB\")"
   ]
  },
  {
   "cell_type": "code",
   "execution_count": 22,
   "metadata": {
    "collapsed": false,
    "scrolled": true
   },
   "outputs": [],
   "source": [
    "for lc in lclist:\n",
    "    epicid = lclist[0].split(\"-\")[0][4:]\n",
    "    q = sw.get_query(epicid,0)\n",
    "    q['basis_file'] = \"/Users/mhughes/k2/elcs/c0.h5\"\n",
    "    q['light_curve_file'] = \"/Users/mhughes/k2/c0_known_EB_lc/\" + lc\n",
    "    q['catalog_file'] =  \"/Users/mhughes/k2/catalogs/epic.h5\"\n",
    "    q['time_spacing'] = 0.02\n",
    "    q['durations'] = [0.05,0.1,0.2]\n",
    "    sw.save_query(q, open(path + lc.split(\".\")[0] + \".query\", 'wb'))"
   ]
  },
  {
   "cell_type": "markdown",
   "metadata": {},
   "source": [
    "#Forming Queries for Random Campaign 2 Sample "
   ]
  },
  {
   "cell_type": "code",
   "execution_count": 26,
   "metadata": {
    "collapsed": false
   },
   "outputs": [],
   "source": [
    "lclist = ascii.read(\"/k2_data/all_c2_lcs\")\n",
    "lclist = np.array([fn for fn in lclist['filenames'] if \".fits\" in fn])\n",
    "epicidlist = [int(lc.split(\"/\")[-1].split(\"-\")[0][4:]) for lc in lclist]\n",
    "mask = [epic in catalog_epicid for epic in epicidlist]\n",
    "lclist = lclist[np.array(mask)]\n",
    "lclist = random.sample(lclist, 500)\n",
    "catalog_epicid = pickle.load(open(\"/k2_data/epic_in_catalog.pkl\",\"r\"))"
   ]
  },
  {
   "cell_type": "code",
   "execution_count": 27,
   "metadata": {
    "collapsed": true
   },
   "outputs": [],
   "source": [
    "path = \"/k2_data/c2randomsample/\""
   ]
  },
  {
   "cell_type": "code",
   "execution_count": 28,
   "metadata": {
    "collapsed": false
   },
   "outputs": [],
   "source": [
    "for lc in lclist:\n",
    "    epicid = int(lc.split(\"/\")[-1].split(\"-\")[0][4:])\n",
    "    q = sw.get_query(epicid,0)\n",
    "    q['basis_file'] = \"/Users/mhughes/k2/elcs/c2-norm.h5\"\n",
    "    q['light_curve_file'] = lc\n",
    "    q['catalog_file'] =  \"/Users/mhughes/k2/catalogs/epic.h5\"\n",
    "    q['time_spacing'] = 0.1\n",
    "    q['durations'] = [0.05,0.1,0.2,0.3,0.4,0.5,0.6,0.7,0.8,0.9,1.0]\n",
    "    sw.save_query(q, open(path + lc.split(\".\")[0].split(\"/\")[-1:][0] + \".query\", 'wb'))"
   ]
  }
 ],
 "metadata": {
  "kernelspec": {
   "display_name": "Python 2",
   "language": "python",
   "name": "python2"
  },
  "language_info": {
   "codemirror_mode": {
    "name": "ipython",
    "version": 2
   },
   "file_extension": ".py",
   "mimetype": "text/x-python",
   "name": "python",
   "nbconvert_exporter": "python",
   "pygments_lexer": "ipython2",
   "version": "2.7.10"
  }
 },
 "nbformat": 4,
 "nbformat_minor": 0
}
