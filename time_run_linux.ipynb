{
 "cells": [
  {
   "cell_type": "markdown",
   "metadata": {},
   "source": [
    "We wanted to check the runtime for the ketu code in our configuration."
   ]
  },
  {
   "cell_type": "code",
   "execution_count": 1,
   "metadata": {
    "collapsed": true
   },
   "outputs": [],
   "source": [
    "import swarced as sw\n",
    "import time, pickle, random, os, run\n",
    "import numpy as np\n",
    "import multiprocessing as mp"
   ]
  },
  {
   "cell_type": "code",
   "execution_count": 131,
   "metadata": {
    "collapsed": true
   },
   "outputs": [],
   "source": [
    "qlist = os.listdir(\"/k2_data/timing\")"
   ]
  },
  {
   "cell_type": "markdown",
   "metadata": {},
   "source": [
    "#No parallel "
   ]
  },
  {
   "cell_type": "code",
   "execution_count": 63,
   "metadata": {
    "collapsed": false
   },
   "outputs": [],
   "source": [
    "qlist = os.listdir(\"/k2_data/query\")\n",
    "t = np.array([])\n",
    "for q in random.sample(qlist,5):\n",
    "    start = time.time()\n",
    "    os.system(\"python run.py \" + q[7:-6] + \" 0 /k2_data/query/\" + q)\n",
    "    t = np.append(t,time.time()-start)"
   ]
  },
  {
   "cell_type": "markdown",
   "metadata": {},
   "source": [
    "Without parallel processing each cycle took about 490 seconds with a standard deviation in a sample of 5 of 10 seconds. That means for 5 tasks it took about 40 minutes."
   ]
  },
  {
   "cell_type": "code",
   "execution_count": 65,
   "metadata": {
    "collapsed": false
   },
   "outputs": [
    {
     "data": {
      "text/plain": [
       "490.52086238861085"
      ]
     },
     "execution_count": 65,
     "metadata": {},
     "output_type": "execute_result"
    }
   ],
   "source": [
    "np.mean(t)"
   ]
  },
  {
   "cell_type": "code",
   "execution_count": 69,
   "metadata": {
    "collapsed": false
   },
   "outputs": [
    {
     "data": {
      "text/plain": [
       "9.9701895198145252"
      ]
     },
     "execution_count": 69,
     "metadata": {},
     "output_type": "execute_result"
    }
   ],
   "source": [
    "np.std(t)"
   ]
  },
  {
   "cell_type": "code",
   "execution_count": 71,
   "metadata": {
    "collapsed": false
   },
   "outputs": [
    {
     "data": {
      "text/plain": [
       "40.876738532384238"
      ]
     },
     "execution_count": 71,
     "metadata": {},
     "output_type": "execute_result"
    }
   ],
   "source": [
    "np.sum(t)/60."
   ]
  },
  {
   "cell_type": "markdown",
   "metadata": {},
   "source": [
    "#Multiprocessing "
   ]
  },
  {
   "cell_type": "markdown",
   "metadata": {},
   "source": [
    "Since that is so time intensive and we wish to run quite a few of these, we implemented multiprocessing. "
   ]
  },
  {
   "cell_type": "code",
   "execution_count": 3,
   "metadata": {
    "collapsed": true
   },
   "outputs": [],
   "source": [
    "import multiprocessing as mp"
   ]
  },
  {
   "cell_type": "code",
   "execution_count": 5,
   "metadata": {
    "collapsed": false
   },
   "outputs": [],
   "source": [
    "qlist = os.listdir(\"/k2_data/swarced/timing_linux/\")\n",
    "#qlist_subset = random.sample(qlist,5)#since there are 158 files in that folder I just wanted to run 5"
   ]
  },
  {
   "cell_type": "code",
   "execution_count": 6,
   "metadata": {
    "collapsed": false
   },
   "outputs": [
    {
     "data": {
      "text/plain": [
       "['k2_epic202073117.query',\n",
       " 'k2_epic202073185.query',\n",
       " 'k2_epic202071731.query',\n",
       " 'k2_epic202060506.query',\n",
       " 'k2_epic202060911.query',\n",
       " 'k2_epic202071579.query',\n",
       " 'k2_epic202073297.query',\n",
       " 'k2_epic202094234.query',\n",
       " 'k2_epic202073353.query',\n",
       " 'k2_epic202071842.query']"
      ]
     },
     "execution_count": 6,
     "metadata": {},
     "output_type": "execute_result"
    }
   ],
   "source": [
    "qlist"
   ]
  },
  {
   "cell_type": "code",
   "execution_count": 7,
   "metadata": {
    "collapsed": false
   },
   "outputs": [],
   "source": [
    "def single_run(qfile):\n",
    "    start = time.time()\n",
    "    #python run.py epicID campaign query_file_path\n",
    "    #os.system(\"python run.py \" + qfile[4:-2] + \" 0 /k2_data/query/\" + qfile)\n",
    "    run.main([qfile[7:-6], 0, \"/k2_data/swarced/timing_linux/\" + qfile])\n",
    "    return time.time() - start"
   ]
  },
  {
   "cell_type": "code",
   "execution_count": 12,
   "metadata": {
    "collapsed": false,
    "scrolled": true
   },
   "outputs": [
    {
     "name": "stdout",
     "output_type": "stream",
     "text": [
      "[500.9264440536499, 521.3464050292969, 495.7965190410614, 511.3093430995941, 516.5099740028381, 519.7054631710052, 515.7429430484772, 503.83150601387024, 482.67592692375183, 484.2744770050049]\n",
      "Querying Data\n",
      "Querying Data\n",
      "Querying Data\n",
      "Querying Data\n",
      "Finished querying Data in 0.92sFinished querying Data in 0.92sFinished querying Data in 0.91sFinished querying Data in 0.91s\n",
      "\n",
      "\n",
      "\n",
      "Querying Likelihood\n",
      "Querying Likelihood\n",
      "Querying Likelihood\n",
      "Querying Likelihood\n",
      "tau = 0.942840576172tau = 0.947937011719tau = 0.917358398438tau = 0.947937011719\n",
      "\n",
      "\n",
      "\n",
      "148 181\n",
      "155 181\n",
      "171 183\n",
      "153 181\n",
      "138 148\n",
      "146 155\n",
      "151 171\n",
      "139 153\n",
      "132 138\n",
      "144 146\n",
      "133 151\n",
      "131 139\n",
      "134 132\n",
      "143 144\n",
      "112 133\n",
      "135 131\n",
      "134 134\n",
      "144 143\n",
      "120 112\n",
      "140 135\n",
      "tau = 0.942840576172\n",
      "149 144\n",
      "123 120\n",
      "140 140\n",
      "tau = 1.04476928711152 149\n",
      "123 123\n",
      "tau = 0.947937011719\n",
      "\n",
      "152 152\n",
      "tau = 0.917358398438\n",
      "tau = 0.703308105469257 313\n",
      "tau = 0.947937011719\n",
      "tau = 1.62066650391\n",
      "238 257\n",
      "tau = 1.62066650391\n",
      "263 304\n",
      "238 238\n",
      "\n",
      "246 314\n",
      "248 263\n",
      "tau = 1.04986572266\n",
      "270 311\n",
      "237 246\n",
      "230 248\n",
      "tau = 0.983612060547254 270\n",
      "260 237\n",
      "235 230\n",
      "\n",
      "250 254\n",
      "238 260\n",
      "232 235\n",
      "1428256 250\n",
      "232 238\n",
      "228 232\n",
      " 1707\n",
      "265 256\n",
      "224 232\n",
      "225 228\n",
      "1340274 265\n",
      "224 224\n",
      "224 225\n",
      " 1428\n",
      "272 274\n",
      "tau = 1.62066650391\n",
      "224 224\n",
      "1293272 272\n",
      "tau = 0.983612060547tau = 1.61047363281\n",
      " 1340\n",
      "tau = 1.62066650391\n",
      "\n",
      "tau = 0.6778259277341271tau = 0.8816833496091622\n",
      " 1293\n",
      "\n",
      " 1736\n",
      "1533127715151516 1680\n",
      " 1271\n",
      " 1725\n",
      " 1622\n",
      "1429128914131309 1533\n",
      " 1277\n",
      " 1515\n",
      " 1516\n",
      "1348129013691235 1429\n",
      " 1289\n",
      " 1413\n",
      " 1309\n",
      "1318129113661238 1348\n",
      " 1290\n",
      " 1369\n",
      " 1235\n",
      "1295129313801173 1318\n",
      " 1291\n",
      " 1366\n",
      " 1238\n",
      "1281129513911207 1295\n",
      " 1293\n",
      " 1380\n",
      " 1173\n",
      "1274tau = 2.4615783691414001210 1281\n",
      "\n",
      " 1391\n",
      " 1207\n",
      "1274Finished querying Likelihood in 5.28s14001208 1274\n",
      "\n",
      " 1400\n",
      " 1210\n",
      "tau = 2.05386352539Querying OneDSearch\n",
      "tau = 0.8816833496091208\n",
      "Finished querying OneDSearch in 65.71s\n",
      " 1208\n",
      "Finished querying Likelihood in 4.64s\n",
      "Finished querying Likelihood in 4.93stau = 0.983612060547\n",
      "Querying TwoDSearch\n",
      "\n",
      "\n",
      "Querying OneDSearch\n",
      "Finished querying TwoDSearch in 438.20sQuerying OneDSearch\n",
      "Finished querying Likelihood in 5.43sFinished querying OneDSearch in 49.71s\n",
      "Finished querying OneDSearch in 62.14s\n",
      "\n",
      "Querying PeakDetect\n",
      "\n",
      "Querying OneDSearch\n",
      "Querying TwoDSearch\n",
      "Finished querying PeakDetect in 1.07sQuerying TwoDSearch\n",
      "Finished querying OneDSearch in 72.71sFinished querying TwoDSearch in 439.08s\n",
      "Finished querying TwoDSearch in 432.03s\n",
      "\n",
      "Querying Data\n",
      "Querying TwoDSearch\n",
      "Querying PeakDetect\n",
      "\n",
      "Querying PeakDetect\n",
      "Finished querying TwoDSearch in 440.93sFinished querying PeakDetect in 1.33sFinished querying Data in 0.67sFinished querying PeakDetect in 0.78s\n",
      "\n",
      "\n",
      "\n",
      "Querying PeakDetect\n",
      "Querying DataQuerying Likelihood\n",
      "Querying DataFinished querying PeakDetect in 1.25s\n",
      "tau = 0.947937011719\n",
      "\n",
      "Finished querying Data in 0.55s\n",
      "Finished querying Data in 0.60sQuerying Data\n",
      "186 186\n",
      "\n",
      "\n",
      "Querying Likelihood\n",
      "tau = 0.947937011719\n",
      "Querying Likelihood\n",
      "Finished querying Data in 0.72stau = 0.947937011719tau = 0.932647705078tau = 0.947937011719\n",
      "\n",
      "\n",
      "\n",
      "Querying Likelihood\n",
      "173 184\n"
     ]
    },
    {
     "name": "stderr",
     "output_type": "stream",
     "text": [
      "WARNING:root:Not enough peaks were found\n",
      "WARNING:root:Not enough peaks were found\n",
      "WARNING:root:Not enough peaks were found\n",
      "WARNING:root:Not enough peaks were found\n",
      "WARNING:root:Not enough peaks were found\n",
      "WARNING:root:Not enough peaks were found\n",
      "WARNING:root:Not enough peaks were found\n",
      "WARNING:root:Not enough peaks were found\n",
      "WARNING:root:Not enough peaks were found\n",
      "WARNING:root:Not enough peaks were found\n"
     ]
    },
    {
     "data": {
      "text/plain": [
       "1504.971645116806"
      ]
     },
     "execution_count": 12,
     "metadata": {},
     "output_type": "execute_result"
    },
    {
     "name": "stdout",
     "output_type": "stream",
     "text": [
      "316 316\n",
      "158 181\n",
      "tau = 0.902069091797168 173\n",
      "tau = 0.932647705078\n",
      "142 158\n",
      "\n",
      "174 168\n",
      "tau = 0.983612060547141 142\n",
      "164 180\n",
      "174 174\n",
      "\n",
      "149 141\n",
      "150 164\n",
      "tau = 0.947937011719\n",
      "1743150 149\n",
      "134 150\n",
      "tau = 1.62066650391 1743\n",
      "150 150\n",
      "130 134\n",
      "\n",
      "tau = 0.983612060547tau = 0.927551269531\n",
      "127 130\n",
      "297 311\n",
      "\n",
      "tau = 0.698211669922127 127\n",
      "288 297\n",
      "Finished querying Likelihood in 2.34s\n",
      "tau = 0.942840576172\n",
      "287 288\n",
      "\n",
      "264 304\n",
      "tau = 1.61557006836290 287\n",
      "Querying OneDSearch\n",
      "241 264\n",
      "\n",
      "289 290\n",
      "Finished querying OneDSearch in 76.90s244 241\n",
      "259 312\n",
      "292 289\n",
      "\n",
      "243 244\n",
      "225 259\n",
      "292 292\n",
      "Querying TwoDSearch\n",
      "242 243\n",
      "209 225\n",
      "tau = 1.62066650391\n",
      "Finished querying TwoDSearch in 434.47s240 242\n",
      "202 209\n",
      "tau = 1.75317382812\n",
      "240 240\n",
      "210 202\n",
      "\n",
      "Querying PeakDetect\n",
      "tau = 1.62066650391\n",
      "230 210\n",
      "1630Finished querying PeakDetect in 1.26stau = 0.779754638672230 230\n",
      " 1708\n",
      "\n",
      "\n",
      "tau = 1.61557006836\n",
      "15851421tau = 6.9362487793 1630\n",
      "1582 1663\n",
      "\n",
      " 1585\n",
      "136616051602 1421\n",
      " 1678\n",
      " 1582\n",
      "138615201617 1366\n",
      " 1605\n",
      " 1602\n",
      "139414411618 1386\n",
      " 1520\n",
      " 1617\n",
      "140313591618 1394\n",
      " 1441\n",
      " 1618\n",
      "14121289tau = 1.75317382812 1403\n",
      " 1359\n",
      "\n",
      "14151289Finished querying Likelihood in 6.04s 1412\n",
      " 1289\n",
      "\n",
      "1415tau = 7.31848144531Querying OneDSearch\n",
      " 1415\n",
      "\n",
      "Finished querying OneDSearch in 74.12stau = 0.784851074219Finished querying Likelihood in 4.68s\n",
      "\n",
      "\n",
      "Querying TwoDSearch\n",
      "Finished querying Likelihood in 5.16sQuerying OneDSearch\n",
      "Finished querying TwoDSearch in 435.06s\n",
      "Finished querying OneDSearch in 67.59s\n",
      "Querying OneDSearch\n",
      "\n",
      "Querying PeakDetect\n",
      "Finished querying OneDSearch in 68.21sQuerying TwoDSearch\n",
      "Finished querying PeakDetect in 0.62s\n",
      "Finished querying TwoDSearch in 429.84s\n",
      "Querying TwoDSearch\n",
      "\n",
      "Querying DataFinished querying TwoDSearch in 444.86sQuerying PeakDetect\n",
      "\n",
      "\n",
      "Finished querying PeakDetect in 0.89sFinished querying Data in 0.49sQuerying PeakDetect\n",
      "\n",
      "\n",
      "Finished querying PeakDetect in 0.77sQuerying Likelihood\n",
      "\n",
      "tau = 0.902069091797Querying Data\n",
      "\n",
      "179 179\n",
      "Finished querying Data in 0.53stau = 0.902069091797\n",
      "\n",
      "tau = 1.15689086914Querying Likelihood\n",
      "\n",
      "tau = 0.942840576172306 306\n",
      "\n",
      "tau = 1.15689086914\n",
      "167 178\n",
      "tau = 5.69781494141171 167\n",
      "\n",
      "169 171\n",
      "1658167 169\n",
      " 1658\n",
      "166 167\n",
      "tau = 5.69781494141165 166\n",
      "\n",
      "165 165\n",
      "Finished querying Likelihood in 1.98stau = 0.942840576172\n",
      "\n",
      "tau = 1.19256591797Querying OneDSearch\n",
      "\n",
      "Finished querying OneDSearch in 58.02s291 304\n",
      "\n",
      "285 291\n",
      "Querying TwoDSearch\n",
      "278 285\n",
      "Finished querying TwoDSearch in 419.54s273 278\n",
      "\n",
      "269 273\n",
      "Querying PeakDetect\n",
      "267 269\n",
      "Finished querying PeakDetect in 2.54s266 267\n",
      "\n",
      "266 266\n",
      "tau = 1.21295166016\n",
      "tau = 1.40661621094\n",
      "1612 1661\n",
      "1564 1612\n",
      "1535 1564\n",
      "1519 1535\n",
      "1513 1519\n",
      "1510 1513\n",
      "1510 1510\n",
      "tau = 1.40151977539\n",
      "Finished querying Likelihood in 5.10s\n",
      "Querying OneDSearch\n",
      "Finished querying OneDSearch in 57.73s\n",
      "Querying TwoDSearch\n",
      "Finished querying TwoDSearch in 418.54s\n",
      "Querying PeakDetect\n",
      "Finished querying PeakDetect in 2.26s\n"
     ]
    }
   ],
   "source": [
    "ss = time.time()\n",
    "pool = mp.Pool(processes=4)\n",
    "results = pool.map(single_run, qlist)\n",
    "pool.close()\n",
    "pool.join()\n",
    "print(results)\n",
    "ee = time.time()\n",
    "ee-ss"
   ]
  },
  {
   "cell_type": "code",
   "execution_count": 13,
   "metadata": {
    "collapsed": false
   },
   "outputs": [
    {
     "data": {
      "text/plain": [
       "[500.9264440536499,\n",
       " 521.3464050292969,\n",
       " 495.7965190410614,\n",
       " 511.3093430995941,\n",
       " 516.5099740028381,\n",
       " 519.7054631710052,\n",
       " 515.7429430484772,\n",
       " 503.83150601387024,\n",
       " 482.67592692375183,\n",
       " 484.2744770050049]"
      ]
     },
     "execution_count": 13,
     "metadata": {},
     "output_type": "execute_result"
    }
   ],
   "source": [
    "results #when using 4 processes"
   ]
  },
  {
   "cell_type": "code",
   "execution_count": 11,
   "metadata": {
    "collapsed": false
   },
   "outputs": [
    {
     "data": {
      "text/plain": [
       "[749.7376041412354,\n",
       " 848.4855890274048,\n",
       " 812.9805090427399,\n",
       " 572.5219571590424,\n",
       " 557.7331621646881,\n",
       " 749.4814970493317,\n",
       " 561.5332341194153,\n",
       " 552.8091659545898,\n",
       " 519.1493449211121,\n",
       " 494.78442001342773]"
      ]
     },
     "execution_count": 11,
     "metadata": {},
     "output_type": "execute_result"
    }
   ],
   "source": [
    "results #when using 6 processes"
   ]
  },
  {
   "cell_type": "code",
   "execution_count": 9,
   "metadata": {
    "collapsed": false,
    "scrolled": false
   },
   "outputs": [
    {
     "data": {
      "text/plain": [
       "[943.3405959606171,\n",
       " 953.3180148601532,\n",
       " 945.29740691185,\n",
       " 952.4146089553833,\n",
       " 952.4416058063507,\n",
       " 944.4976940155029,\n",
       " 945.467747926712,\n",
       " 938.39577293396,\n",
       " 495.1975939273834,\n",
       " 492.1596829891205]"
      ]
     },
     "execution_count": 9,
     "metadata": {},
     "output_type": "execute_result"
    }
   ],
   "source": [
    "results #when using 8 processes"
   ]
  },
  {
   "cell_type": "markdown",
   "metadata": {},
   "source": [
    "The total runtime was 711 seconds or about 11 minutes."
   ]
  },
  {
   "cell_type": "code",
   "execution_count": 13,
   "metadata": {
    "collapsed": false
   },
   "outputs": [
    {
     "data": {
      "text/plain": [
       "23.698778716723123"
      ]
     },
     "execution_count": 13,
     "metadata": {},
     "output_type": "execute_result"
    }
   ],
   "source": [
    "(ee-ss)/60"
   ]
  },
  {
   "cell_type": "markdown",
   "metadata": {},
   "source": [
    "Interestingly, each individual run varied more using multiprocessing."
   ]
  },
  {
   "cell_type": "code",
   "execution_count": 12,
   "metadata": {
    "collapsed": false
   },
   "outputs": [
    {
     "data": {
      "text/plain": [
       "[925.2708101272583,\n",
       " 932.8666479587555,\n",
       " 890.4222919940948,\n",
       " 925.3213918209076,\n",
       " 931.4404408931732,\n",
       " 934.708135843277,\n",
       " 942.2004339694977,\n",
       " 929.2238481044769,\n",
       " 508.67680191993713,\n",
       " 496.5251100063324]"
      ]
     },
     "execution_count": 12,
     "metadata": {},
     "output_type": "execute_result"
    }
   ],
   "source": [
    "results"
   ]
  },
  {
   "cell_type": "markdown",
   "metadata": {},
   "source": [
    "On average, they took 10 minutes each with a standard deviation of about a minute."
   ]
  },
  {
   "cell_type": "code",
   "execution_count": 32,
   "metadata": {
    "collapsed": false
   },
   "outputs": [
    {
     "data": {
      "text/plain": [
       "10.103913837273916"
      ]
     },
     "execution_count": 32,
     "metadata": {},
     "output_type": "execute_result"
    }
   ],
   "source": [
    "np.mean(results)/60"
   ]
  },
  {
   "cell_type": "code",
   "execution_count": 72,
   "metadata": {
    "collapsed": false
   },
   "outputs": [
    {
     "data": {
      "text/plain": [
       "63.865980797904115"
      ]
     },
     "execution_count": 72,
     "metadata": {},
     "output_type": "execute_result"
    }
   ],
   "source": [
    "np.std(results)"
   ]
  },
  {
   "cell_type": "markdown",
   "metadata": {},
   "source": [
    "This could be because the test was run on a different sample or because of some variable overhead time with multiprocessing."
   ]
  },
  {
   "cell_type": "code",
   "execution_count": 71,
   "metadata": {
    "collapsed": false
   },
   "outputs": [
    {
     "data": {
      "text/plain": [
       "['EPIC202060911.q',\n",
       " 'EPIC202073144.q',\n",
       " 'EPIC202073440.q',\n",
       " 'EPIC202073353.q',\n",
       " 'EPIC202093968.q']"
      ]
     },
     "execution_count": 71,
     "metadata": {},
     "output_type": "execute_result"
    }
   ],
   "source": [
    "qq"
   ]
  },
  {
   "cell_type": "markdown",
   "metadata": {},
   "source": [
    "#Cacheing"
   ]
  },
  {
   "cell_type": "markdown",
   "metadata": {},
   "source": [
    "This test the speed of cacheing versus not cacheing for a multiprocessing run. I anticipate the speed will be about the same, maybe slightly slower since data must be written. "
   ]
  },
  {
   "cell_type": "code",
   "execution_count": 130,
   "metadata": {
    "collapsed": false
   },
   "outputs": [
    {
     "data": {
      "text/plain": [
       "['EPIC202060911.q',\n",
       " 'EPIC202073144.q',\n",
       " 'EPIC202073440.q',\n",
       " 'EPIC202073353.q',\n",
       " 'EPIC202093968.q']"
      ]
     },
     "execution_count": 130,
     "metadata": {},
     "output_type": "execute_result"
    }
   ],
   "source": [
    "qq"
   ]
  },
  {
   "cell_type": "code",
   "execution_count": 96,
   "metadata": {
    "collapsed": false
   },
   "outputs": [],
   "source": [
    "qlist_subset = qq"
   ]
  },
  {
   "cell_type": "code",
   "execution_count": 123,
   "metadata": {
    "collapsed": false
   },
   "outputs": [
    {
     "data": {
      "text/plain": [
       "<module 'run' from 'run.py'>"
      ]
     },
     "execution_count": 123,
     "metadata": {},
     "output_type": "execute_result"
    }
   ],
   "source": [
    "reload(sw)\n",
    "reload(run)"
   ]
  },
  {
   "cell_type": "code",
   "execution_count": 124,
   "metadata": {
    "collapsed": true
   },
   "outputs": [],
   "source": [
    "def single_run(qfile):\n",
    "    start = time.time()\n",
    "    #python run.py epicID campaign query_file_path\n",
    "    #os.system(\"python run.py \" + qfile[4:-2] + \" 0 /k2_data/query/\" + qfile)\n",
    "    run.main([qfile[4:-2], 0, \"/k2_data/query_cache/\" + qfile])\n",
    "    return time.time() - start"
   ]
  },
  {
   "cell_type": "code",
   "execution_count": 125,
   "metadata": {
    "collapsed": true
   },
   "outputs": [
    {
     "name": "stdout",
     "output_type": "stream",
     "text": [
      "[649.0818219184875, 614.6605250835419, 667.3451302051544, 609.237820148468, 640.0954308509827]\n",
      "Querying Data\n",
      "Querying Data\n",
      "Querying Data\n",
      "Querying Data\n",
      "Querying Data\n",
      "Finished querying Data in 1.17sFinished querying Data in 1.16sFinished querying Data in 1.33sFinished querying Data in 1.29sFinished querying Data in 1.16s\n",
      "\n",
      "\n",
      "\n",
      "\n",
      "Querying LikelihoodQuerying LikelihoodQuerying LikelihoodQuerying LikelihoodQuerying Likelihood\n",
      "\n",
      "\n",
      "\n",
      "\n",
      "tau = 0.902069091797tau = 0.947937011719tau = 0.947937011719tau = 0.942840576172tau = 0.947937011719\n",
      "\n",
      "\n",
      "\n",
      "\n",
      "179 179\n",
      "155 185\n",
      "173 184\n",
      "140 181\n",
      "175 182\n",
      "tau = 0.902069091797\n",
      "146 155\n",
      "168 173\n",
      "127 140\n",
      "169 175\n",
      "tau = 1.15689086914142 146\n",
      "174 168\n",
      "144 127\n",
      "171 169\n",
      "\n",
      "137 142\n",
      "174 174\n",
      "142 144\n",
      "171 171\n",
      "306 306\n",
      "140 137\n",
      "tau = 0.947937011719\n",
      "142 142\n",
      "tau = 0.947937011719\n",
      "tau = 1.15689086914\n",
      "142 140\n",
      "tau = 1.62066650391tau = 0.942840576172\n",
      "tau = 0.795043945312tau = 5.69781494141142 142\n",
      "\n",
      "tau = 0.973419189453\n",
      "\n",
      "tau = 0.947937011719\n",
      "297 311\n",
      "\n",
      "300 312\n",
      "1658tau = 0.703308105469288 297\n",
      "249 313\n",
      "296 300\n",
      " 1658\n",
      "\n",
      "287 288\n",
      "247 249\n",
      "292 296\n",
      "tau = 5.69781494141266 314\n",
      "290 287\n",
      "243 247\n",
      "290 292\n",
      "\n",
      "255 266\n",
      "289 290\n",
      "251 243\n",
      "290 290\n",
      "Finished querying Likelihood in 2.11s255 255\n",
      "292 289\n",
      "252 251\n",
      "tau = 0.800140380859\n",
      "\n",
      "tau = 0.703308105469\n",
      "292 292\n",
      "251 252\n",
      "tau = 3.64904785156Querying OneDSearchtau = 0.647247314453tau = 1.62066650391\n",
      "251 251\n",
      "\n",
      "\n",
      "\n",
      "tau = 1.75317382812tau = 0.973419189453\n",
      "1638Finished querying OneDSearch in 74.73s1500\n",
      "tau = 3.86309814453 1689\n",
      "\n",
      " 1733\n",
      "1630\n",
      "1613Querying TwoDSearch\n",
      "1457 1708\n",
      "1646 1638\n",
      "Finished querying TwoDSearch in 511.90s 1500\n",
      "1585 1679\n",
      "1612\n",
      "1410 1630\n",
      "1610 1613\n",
      "Querying PeakDetect 1457\n",
      "1582 1646\n",
      "1612\n",
      "1394 1585\n",
      "1597 1612\n",
      "Finished querying PeakDetect in 8.09s 1410\n",
      "1602 1610\n",
      "tau = 3.64904785156\n",
      "1381 1582\n",
      "1595\n",
      " 1394\n",
      "1617 1597\n",
      "Finished querying Likelihood in 4.31s\n",
      "1374 1602\n",
      "1595Querying OneDSearch 1381\n",
      "1618 1595\n",
      "\n",
      "1372 1617\n",
      "tau = 3.86309814453Finished querying OneDSearch in 91.48s 1374\n",
      "1618\n",
      "\n",
      "1372 1618\n",
      "Finished querying Likelihood in 5.40sQuerying TwoDSearch\n",
      " 1372\n",
      "tau = 1.75317382812\n",
      "Finished querying TwoDSearch in 531.07stau = 0.647247314453\n",
      "Querying OneDSearch\n",
      "\n",
      "Finished querying Likelihood in 9.53s\n",
      "Querying PeakDetectFinished querying Likelihood in 5.83s\n",
      "Finished querying OneDSearch in 77.60s\n",
      "\n",
      "Querying OneDSearch\n",
      "Finished querying PeakDetect in 0.74sQuerying OneDSearch\n",
      "Querying TwoDSearch\n",
      "\n",
      "\n",
      "Finished querying OneDSearch in 91.89sFinished querying TwoDSearch in 517.68sFinished querying OneDSearch in 96.48s\n",
      "\n",
      "Querying PeakDetect\n",
      "Querying TwoDSearch\n",
      "\n",
      "Querying TwoDSearch\n",
      "Finished querying TwoDSearch in 532.95sFinished querying PeakDetect in 1.15sFinished querying TwoDSearch in 550.76s\n",
      "\n",
      "\n",
      "Querying PeakDetectQuerying PeakDetect\n",
      "Finished querying PeakDetect in 0.61s\n",
      "\n",
      "Finished querying PeakDetect in 0.67s\n"
     ]
    },
    {
     "name": "stderr",
     "output_type": "stream",
     "text": [
      "WARNING:root:Not enough peaks were found\n",
      "WARNING:root:Not enough peaks were found\n",
      "WARNING:root:Not enough peaks were found\n",
      "WARNING:root:Not enough peaks were found\n",
      "WARNING:root:Not enough peaks were found\n"
     ]
    },
    {
     "data": {
      "text/plain": [
       "667.5064611434937"
      ]
     },
     "execution_count": 125,
     "metadata": {},
     "output_type": "execute_result"
    }
   ],
   "source": [
    "ss = time.time()\n",
    "pool = mp.Pool(processes=6)#this computer has 8 cores, I'm only going to use 6\n",
    "results = pool.map(single_run, qq)\n",
    "pool.close()\n",
    "pool.join()\n",
    "print(results)\n",
    "ee = time.time()\n",
    "ee-ss"
   ]
  },
  {
   "cell_type": "markdown",
   "metadata": {},
   "source": [
    "The time was slighlty longer with cacheing than without"
   ]
  },
  {
   "cell_type": "code",
   "execution_count": 126,
   "metadata": {
    "collapsed": false,
    "scrolled": true
   },
   "outputs": [
    {
     "data": {
      "text/plain": [
       "667.5064611434937"
      ]
     },
     "execution_count": 126,
     "metadata": {},
     "output_type": "execute_result"
    }
   ],
   "source": [
    "ee-ss"
   ]
  },
  {
   "cell_type": "code",
   "execution_count": 127,
   "metadata": {
    "collapsed": false
   },
   "outputs": [
    {
     "data": {
      "text/plain": [
       "[649.0818219184875,\n",
       " 614.6605250835419,\n",
       " 667.3451302051544,\n",
       " 609.237820148468,\n",
       " 640.0954308509827]"
      ]
     },
     "execution_count": 127,
     "metadata": {},
     "output_type": "execute_result"
    }
   ],
   "source": [
    "results"
   ]
  },
  {
   "cell_type": "code",
   "execution_count": 128,
   "metadata": {
    "collapsed": false
   },
   "outputs": [
    {
     "data": {
      "text/plain": [
       "10.601402427355449"
      ]
     },
     "execution_count": 128,
     "metadata": {},
     "output_type": "execute_result"
    }
   ],
   "source": [
    "np.mean(results)/60"
   ]
  }
 ],
 "metadata": {
  "kernelspec": {
   "display_name": "Python 2",
   "language": "python",
   "name": "python2"
  },
  "language_info": {
   "codemirror_mode": {
    "name": "ipython",
    "version": 2
   },
   "file_extension": ".py",
   "mimetype": "text/x-python",
   "name": "python",
   "nbconvert_exporter": "python",
   "pygments_lexer": "ipython2",
   "version": "2.7.10"
  }
 },
 "nbformat": 4,
 "nbformat_minor": 0
}
