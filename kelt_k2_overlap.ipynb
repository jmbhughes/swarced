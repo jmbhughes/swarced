{
 "cells": [
  {
   "cell_type": "markdown",
   "metadata": {},
   "source": [
    "This is how I found the known EBs in campaign 0. "
   ]
  },
  {
   "cell_type": "code",
   "execution_count": 3,
   "metadata": {
    "collapsed": true
   },
   "outputs": [],
   "source": [
    "%matplotlib inline\n",
    "import swarced as sw\n",
    "from astropy.io import ascii\n",
    "import random\n",
    "import numpy as np\n",
    "import matplotlib.pyplot as pl\n",
    "from astropy.io import ascii"
   ]
  },
  {
   "cell_type": "code",
   "execution_count": 59,
   "metadata": {
    "collapsed": false
   },
   "outputs": [],
   "source": [
    "eblist = ascii.read(\"/k2_data/c0_EB\") #file containing catalog of known EBs\n",
    "matchedlist = ascii.read(\"/kelt_data/matched_c0.dat\") #file containing catalog of kelt data we received from Josh"
   ]
  },
  {
   "cell_type": "code",
   "execution_count": 60,
   "metadata": {
    "collapsed": false
   },
   "outputs": [
    {
     "name": "stdout",
     "output_type": "stream",
     "text": [
      "202073353 KELT_N04_lc_040654_V01_east_raw.dat KELT_N04_lc_066384_V01_west_raw.dat\n",
      "202064535 KELT_N04_lc_103973_V01_east_raw.dat KELT_N04_lc_140063_V01_west_raw.dat\n",
      "202060577 KELT_N04_lc_005411_V01_east_raw.dat KELT_N04_lc_040103_V01_west_raw.dat\n",
      "202139294 KELT_N04_lc_035443_V01_east_raw.dat KELT_N04_lc_013378_V01_west_raw.dat\n",
      "202073186 KELT_N04_lc_016313_V01_east_raw.dat KELT_N04_lc_124808_V01_west_raw.dat\n",
      "202073145 KELT_N04_lc_041808_V01_east_raw.dat KELT_N04_lc_062625_V01_west_raw.dat\n",
      "202059377 KELT_N04_lc_008224_V01_east_raw.dat KELT_N04_lc_065551_V01_west_raw.dat\n",
      "202094117 KELT_N04_lc_020184_V01_east_raw.dat KELT_N04_lc_024538_V01_west_raw.dat\n",
      "202088191 KELT_N04_lc_026957_V01_east_raw.dat KELT_N04_lc_035386_V01_west_raw.dat\n",
      "202091545 KELT_N04_lc_047612_V01_east_raw.dat nan\n",
      "202072061 KELT_N04_lc_024822_V01_east_raw.dat KELT_N04_lc_068828_V01_west_raw.dat\n",
      "202093968 KELT_N04_lc_001519_V01_east_raw.dat KELT_N04_lc_007452_V01_west_raw.dat\n",
      "202065802 KELT_N04_lc_108560_V01_east_raw.dat KELT_N04_lc_068783_V01_west_raw.dat\n",
      "202072486 KELT_N05_lc_018200_V01_east_raw.dat KELT_N05_lc_027529_V01_west_raw.dat\n",
      "202060800 KELT_N04_lc_053908_V01_east_raw.dat KELT_N04_lc_024253_V01_west_raw.dat\n",
      "202071631 KELT_N04_lc_039586_V01_east_raw.dat KELT_N04_lc_016977_V01_west_raw.dat\n",
      "202072596 KELT_N04_lc_031855_V01_east_raw.dat KELT_N04_lc_033538_V01_west_raw.dat\n",
      "202060541 KELT_N04_lc_006640_V01_east_raw.dat KELT_N04_lc_018395_V01_west_raw.dat\n",
      "202060124 KELT_N04_lc_001079_V01_east_raw.dat KELT_N04_lc_025571_V01_west_raw.dat\n",
      "202071828 KELT_N04_lc_016866_V01_east_raw.dat KELT_N04_lc_039900_V01_west_raw.dat\n",
      "202072991 KELT_N04_lc_069591_V01_east_raw.dat KELT_N04_lc_092789_V01_west_raw.dat\n",
      "202065819 nan KELT_N04_lc_107286_V01_west_raw.dat\n",
      "202072282 KELT_N04_lc_010402_V01_east_raw.dat KELT_N04_lc_010318_V01_west_raw.dat\n",
      "202060523 KELT_N04_lc_000572_V01_east_raw.dat KELT_N04_lc_020076_V01_west_raw.dat\n",
      "202064080 nan KELT_N04_lc_039551_V01_west_raw.dat\n",
      "202091278 nan KELT_N05_lc_060758_V01_west_raw.dat\n"
     ]
    }
   ],
   "source": [
    "for epicid in eblist['KIC/EPIC']:#for all known EBs\n",
    "    if epicid in matchedlist['col1']:#if the known EB is listed in our request list we sent to Josh\n",
    "        loc = np.argmax(matchedlist['col1'] == epicid)#where is it in the list?\n",
    "        if matchedlist[loc]['col5'] != '0' or matchedlist[loc]['col6'] != '0':#if it has a file that he returned\n",
    "            print epicid, matchedlist[loc]['col5'], matchedlist[loc]['col6']"
   ]
  },
  {
   "cell_type": "code",
   "execution_count": 101,
   "metadata": {
    "collapsed": false
   },
   "outputs": [
    {
     "name": "stdout",
     "output_type": "stream",
     "text": [
      " EPIC_ID , Period,   BDJ0   , PDepth, SDepth\n",
      "202073353,  0.37, 56774.704,  0.03,  0.02\n",
      "202064535,  0.51, 56774.511,  0.12,  0.10\n",
      "202060577,  1.02, 56772.456,  0.07, -1.00\n",
      "202139294,  1.04, 56774.350,  0.02,  0.01\n",
      "202073186,  1.22, 56774.797,  0.07,  0.02\n",
      "202073145,  1.52, 56774.583,  0.31,  0.26\n",
      "202059377,  1.58, 56775.707,  0.00, -1.00\n",
      "202094117,  1.63, 56770.525,  0.03, -1.00\n",
      "202088191,  1.66, 56775.619,  0.03,  0.00\n",
      "202091545,  1.86, 56775.909,  0.16,  0.11\n",
      "202072061,  2.10, 56775.650,  0.07,  0.06\n",
      "202093968,  2.47, 56774.554,  0.01,  0.00\n",
      "202065802,  2.49, 56775.794, -0.01, -1.00\n",
      "202072486,  2.92, 56776.309,  0.06,  0.01\n",
      "202060800,  3.26, 56773.682,  0.03,  0.03\n",
      "202071631,  3.47, 56770.045,  0.04,  0.01\n",
      "202072596,  3.98, 56776.878,  0.04, -1.00\n",
      "202060541,  4.05, 56777.422,  0.03, -1.00\n",
      "202060124,  4.29, 56776.013,  0.02,  0.02\n",
      "202071828,  4.71, 56775.001,  0.00, -1.00\n",
      "202072991,  5.50, 56778.343,  0.23,  0.23\n",
      "202065819,  5.74, 56776.237,  0.01, -1.00\n",
      "202072282,  5.98, 56772.319,  0.00, -1.00\n",
      "202060523, 16.41, 56779.995,  0.04, -1.00\n",
      "202064080, 18.67, 56783.861, -1.00, -1.00\n",
      "202091278, 19.82, 56781.404,  0.17,  0.12\n"
     ]
    }
   ],
   "source": [
    "print \"{0:^9s}, {1:^5s}, {4:^9s}, {2:^5s}, {3:^5s}\".format(\"EPIC_ID\", \"Period\", \"PDepth\", \"SDepth\", \"BDJ0\")\n",
    "for single_eb in eblist:#for all known EBs\n",
    "    epicid, period, pdepth, sdepth = single_eb['KIC/EPIC'], single_eb['period'], single_eb['pdepth'], single_eb['sdepth']\n",
    "    bjd0 = single_eb['bjd0']\n",
    "    if epicid in matchedlist['col1']:#if the known EB is listed in our request list we sent to Josh\n",
    "        loc = np.argmax(matchedlist['col1'] == epicid)#where is it in the list?\n",
    "        if matchedlist[loc]['col5'] != '0' or matchedlist[loc]['col6'] != '0':#if it has a file that he returned\n",
    "            print \"{0:d}, {1:5.2f},{4:10.3f}, {2:5.2f}, {3:5.2f}\".format(epicid, period, pdepth, sdepth,bjd0)"
   ]
  }
 ],
 "metadata": {
  "kernelspec": {
   "display_name": "Python 2",
   "language": "python",
   "name": "python2"
  },
  "language_info": {
   "codemirror_mode": {
    "name": "ipython",
    "version": 2
   },
   "file_extension": ".py",
   "mimetype": "text/x-python",
   "name": "python",
   "nbconvert_exporter": "python",
   "pygments_lexer": "ipython2",
   "version": "2.7.10"
  }
 },
 "nbformat": 4,
 "nbformat_minor": 0
}
