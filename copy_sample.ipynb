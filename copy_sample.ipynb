{
 "cells": [
  {
   "cell_type": "markdown",
   "metadata": {},
   "source": [
    "This copies the 158 sample EBs from campaign 0 into a different directory."
   ]
  },
  {
   "cell_type": "code",
   "execution_count": 16,
   "metadata": {
    "collapsed": true
   },
   "outputs": [],
   "source": [
    "from astropy.io import ascii\n",
    "import shutil"
   ]
  },
  {
   "cell_type": "code",
   "execution_count": 18,
   "metadata": {
    "collapsed": true
   },
   "outputs": [],
   "source": [
    "ref = ascii.read(\"/k2_data/c0_EB\")\n",
    "inpath = \"/k2_data/lightcurves/\"\n",
    "outpath = \"/k2_data/c0_known_EB_lc/\""
   ]
  },
  {
   "cell_type": "code",
   "execution_count": 19,
   "metadata": {
    "collapsed": true
   },
   "outputs": [],
   "source": [
    "campaign = \"0\""
   ]
  },
  {
   "cell_type": "code",
   "execution_count": 20,
   "metadata": {
    "collapsed": false,
    "scrolled": true
   },
   "outputs": [],
   "source": [
    "for epicid in ref['KIC/EPIC']:\n",
    "    epicID = str(epicid)\n",
    "    path = inpath + \"c\" + campaign + \"/\" +  epicID[0:4] + \"00000/\" + epicID[4:6] + \"000/\" \n",
    "    fn = \"ktwo\" + epicID + \"-c0\" + campaign + \"_lpd-lc.fits\"\n",
    "    shutil.copy(path + fn, outpath + fn)"
   ]
  }
 ],
 "metadata": {
  "kernelspec": {
   "display_name": "Python 2",
   "language": "python",
   "name": "python2"
  },
  "language_info": {
   "codemirror_mode": {
    "name": "ipython",
    "version": 2
   },
   "file_extension": ".py",
   "mimetype": "text/x-python",
   "name": "python",
   "nbconvert_exporter": "python",
   "pygments_lexer": "ipython2",
   "version": "2.7.10"
  }
 },
 "nbformat": 4,
 "nbformat_minor": 0
}
