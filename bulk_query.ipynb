{
 "cells": [
  {
   "cell_type": "code",
   "execution_count": 40,
   "metadata": {
    "collapsed": true
   },
   "outputs": [],
   "source": [
    "%matplotlib inline\n",
    "import swarced as sw\n",
    "from astropy.io import ascii\n",
    "import random, os, pickle\n",
    "import numpy as np\n",
    "import matplotlib.pyplot as pl"
   ]
  },
  {
   "cell_type": "markdown",
   "metadata": {},
   "source": [
    "#Forming Queries for Injected Planets "
   ]
  },
  {
   "cell_type": "markdown",
   "metadata": {},
   "source": [
    "For any execution of a ketu run, you must have a query  dictionary. For bulk runs without cacheing we've chosen to make query files that are then loaded into ketu. "
   ]
  },
  {
   "cell_type": "code",
   "execution_count": 28,
   "metadata": {
    "collapsed": false
   },
   "outputs": [],
   "source": [
    "path = \"/k2_data/c0_known_EB_lc/\"\n",
    "lclist = os.listdir(path)\n",
    "ref = ascii.read(\"/k2_data/c0_EB\")"
   ]
  },
  {
   "cell_type": "code",
   "execution_count": 22,
   "metadata": {
    "collapsed": false,
    "scrolled": true
   },
   "outputs": [],
   "source": [
    "for lc in lclist:\n",
    "    epicid = lclist[0].split(\"-\")[0][4:]\n",
    "    q = sw.get_query(epicid,0)\n",
    "    q['basis_file'] = \"/Users/mhughes/k2/elcs/c0.h5\"\n",
    "    q['light_curve_file'] = \"/Users/mhughes/k2/c0_known_EB_lc/\" + lc\n",
    "    q['catalog_file'] =  \"/Users/mhughes/k2/catalogs/epic.h5\"\n",
    "    q['time_spacing'] = 0.02\n",
    "    q['durations'] = [0.05,0.1,0.2]\n",
    "    sw.save_query(q, open(path + lc.split(\".\")[0] + \".query\", 'wb'))"
   ]
  },
  {
   "cell_type": "markdown",
   "metadata": {},
   "source": [
    "#Forming Queries for Random Campaign 2 Sample "
   ]
  },
  {
   "cell_type": "code",
   "execution_count": 7,
   "metadata": {
    "collapsed": false
   },
   "outputs": [],
   "source": [
    "lclist = ascii.read(\"/k2_data/all_c2_lcs\")\n",
    "lclist = np.array([fn for fn in lclist['filenames'] if \".fits\" in fn])\n",
    "epicidlist = [int(lc.split(\"/\")[-1].split(\"-\")[0][4:]) for lc in lclist]\n",
    "catalog_epicid = pickle.load(open(\"/k2_data/epic_in_catalog.pkl\",\"r\"))\n",
    "mask = [epic in catalog_epicid for epic in epicidlist]\n",
    "lclist = lclist[np.array(mask)]\n",
    "lclist = random.sample(lclist, 500)"
   ]
  },
  {
   "cell_type": "code",
   "execution_count": 8,
   "metadata": {
    "collapsed": true
   },
   "outputs": [],
   "source": [
    "path = \"/k2_data/c2randomsample/\""
   ]
  },
  {
   "cell_type": "code",
   "execution_count": 9,
   "metadata": {
    "collapsed": false
   },
   "outputs": [],
   "source": [
    "for lc in lclist:\n",
    "    epicid = int(lc.split(\"/\")[-1].split(\"-\")[0][4:])\n",
    "    q = sw.get_query(epicid,0)\n",
    "    q['basis_file'] = \"/Users/mhughes/k2/elcs/c2-norm.h5\"\n",
    "    q['light_curve_file'] = lc\n",
    "    q['catalog_file'] =  \"/Users/mhughes/k2/catalogs/epic.h5\"\n",
    "    q['time_spacing'] = 1.0\n",
    "    q['durations'] = [0.1,0.5,0.9]\n",
    "    sw.save_query(q, open(path + lc.split(\".\")[0].split(\"/\")[-1:][0] + \".query\", 'wb'))"
   ]
  },
  {
   "cell_type": "markdown",
   "metadata": {},
   "source": [
    "#Forming Queries for Selection of EB Tests "
   ]
  },
  {
   "cell_type": "code",
   "execution_count": 89,
   "metadata": {
    "collapsed": false
   },
   "outputs": [
    {
     "data": {
      "text/plain": [
       "<module 'swarced' from 'swarced.pyc'>"
      ]
     },
     "execution_count": 89,
     "metadata": {},
     "output_type": "execute_result"
    }
   ],
   "source": [
    "reload(sw)"
   ]
  },
  {
   "cell_type": "code",
   "execution_count": 94,
   "metadata": {
    "collapsed": false
   },
   "outputs": [],
   "source": [
    "samplesize = 50\n",
    "lclist = ascii.read(\"/k2_data/all_c0_lcs\")\n",
    "lclist = np.array([fn for fn in lclist['filenames'] if \".fits\" in fn])\n",
    "epicidlist = [int(lc.split(\"/\")[-1].split(\"-\")[0][4:]) for lc in lclist]\n",
    "catalog_epicid = pickle.load(open(\"/k2_data/epic_in_catalog.pkl\",\"r\"))\n",
    "mask = [epic in catalog_epicid for epic in epicidlist]\n",
    "lclist = lclist[np.array(mask)]\n",
    "lcsamp = random.sample(epicidlist, samplesize)\n",
    "ref = ascii.read(\"/k2_data/c0_EB\")\n",
    "refsamp = random.sample(ref['KIC/EPIC'],samplesize)\n",
    "while not any([refind not in lcsamp for refind in refsamp]): \n",
    "    refsamp = random.sample(ref['KIC/EPIC'],samplesize)\n",
    "    lcsamp = random.sample(epicidlist, samplesize)"
   ]
  },
  {
   "cell_type": "code",
   "execution_count": 95,
   "metadata": {
    "collapsed": true
   },
   "outputs": [],
   "source": [
    "prepend = \"/Users/mhughes/k2/\"\n",
    "q_dir = \"/k2_data/eb_limits/\""
   ]
  },
  {
   "cell_type": "code",
   "execution_count": 96,
   "metadata": {
    "collapsed": true
   },
   "outputs": [],
   "source": [
    "for epicid in lcsamp + refsamp:\n",
    "    lc_path = sw.get_k2_directory(epicid, 0, prepend)\n",
    "    q = sw.get_query(epicid,0)\n",
    "    q['basis_file'] = prepend + \"elcs/c0.h5\"\n",
    "    q['light_curve_file'] = lc_path\n",
    "    q['catalog_file'] =  prepend + \"catalogs/epic.h5\"\n",
    "    q['time_spacing'] = 1.0\n",
    "    q['durations'] = [0.1,0.3,0.5,0.7,0.9]\n",
    "    sw.save_query(q, open(q_dir + lc_path.split(\".\")[0].split(\"/\")[-1:][0] + \".query\", 'wb'))"
   ]
  }
 ],
 "metadata": {
  "kernelspec": {
   "display_name": "Python 2",
   "language": "python",
   "name": "python2"
  },
  "language_info": {
   "codemirror_mode": {
    "name": "ipython",
    "version": 2
   },
   "file_extension": ".py",
   "mimetype": "text/x-python",
   "name": "python",
   "nbconvert_exporter": "python",
   "pygments_lexer": "ipython2",
   "version": "2.7.10"
  }
 },
 "nbformat": 4,
 "nbformat_minor": 0
}
