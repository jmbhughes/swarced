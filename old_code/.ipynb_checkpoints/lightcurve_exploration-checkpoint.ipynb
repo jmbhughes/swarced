{
 "cells": [
  {
   "cell_type": "markdown",
   "metadata": {},
   "source": [
    "Ketu requires lightcurves. Below you can see the contents of these light curve files. "
   ]
  },
  {
   "cell_type": "code",
   "execution_count": 2,
   "metadata": {
    "collapsed": true
   },
   "outputs": [],
   "source": [
    "from __future__ import division, print_function\n",
    "\n",
    "%matplotlib inline\n",
    "%config InlineBackend.figure_format = \"retina\"\n",
    "\n",
    "from matplotlib import rcParams\n",
    "rcParams[\"savefig.dpi\"] = 100\n",
    "rcParams[\"font.size\"] = 20\n",
    "import h5py\n",
    "import transit\n",
    "import numpy as np\n",
    "import matplotlib.pyplot as pl\n",
    "from matplotlib.ticker import MaxNLocator\n",
    "import ketu\n",
    "import urllib2\n",
    "import sys\n",
    "from astropy.io import fits"
   ]
  },
  {
   "cell_type": "markdown",
   "metadata": {},
   "source": [
    "A lightcurve file from FM15 will contain: cadence number, time, a time correction, two types of position correction (which seem all nan), the Kepler pipeline quality, flux, and background. The flux and background come in 10 different photometries depending on different apertures ranging from 1 to 5 in 0.5 pixel steps. "
   ]
  },
  {
   "cell_type": "code",
   "execution_count": 9,
   "metadata": {
    "collapsed": true
   },
   "outputs": [],
   "source": [
    "f = fits.open(\"/k2_data/lightcurves/c0/200000000/00000/ktwo200000887-c00_lpd-lc.fits\")\n",
    "d = f[1].data"
   ]
  },
  {
   "cell_type": "code",
   "execution_count": 10,
   "metadata": {
    "collapsed": false
   },
   "outputs": [
    {
     "data": {
      "text/plain": [
       "2456728.5277099609"
      ]
     },
     "execution_count": 10,
     "metadata": {},
     "output_type": "execute_result"
    }
   ],
   "source": [
    "d['time'][0] + f[1].header['BJDREFI']"
   ]
  },
  {
   "cell_type": "code",
   "execution_count": 11,
   "metadata": {
    "collapsed": false
   },
   "outputs": [
    {
     "name": "stdout",
     "output_type": "stream",
     "text": [
      "['cadenceno', 'time', 'timecorr', 'pos_corr1', 'pos_corr2', 'quality', 'flux', 'bkg']\n"
     ]
    }
   ],
   "source": [
    "d = f[1].data\n",
    "print(d.names)"
   ]
  },
  {
   "cell_type": "code",
   "execution_count": 12,
   "metadata": {
    "collapsed": false
   },
   "outputs": [
    {
     "name": "stdout",
     "output_type": "stream",
     "text": [
      "[87434 87435 87436 ..., 91184 91185 91186]\n"
     ]
    }
   ],
   "source": [
    "print(d['cadenceno'])"
   ]
  },
  {
   "cell_type": "code",
   "execution_count": 13,
   "metadata": {
    "collapsed": false
   },
   "outputs": [
    {
     "name": "stdout",
     "output_type": "stream",
     "text": [
      "[ 1895.52770996  1895.5480957   1895.56860352 ...,  1972.14672852\n",
      "  1972.16711426  1972.18762207]\n"
     ]
    }
   ],
   "source": [
    "print(d['time'])"
   ]
  },
  {
   "cell_type": "code",
   "execution_count": 14,
   "metadata": {
    "collapsed": false
   },
   "outputs": [
    {
     "data": {
      "text/plain": [
       "array([ 1895.52770996,  1895.5480957 ,  1895.56860352, ...,  1972.14672852,\n",
       "        1972.16711426,  1972.18762207], dtype=float32)"
      ]
     },
     "execution_count": 14,
     "metadata": {},
     "output_type": "execute_result"
    }
   ],
   "source": [
    "d['time']"
   ]
  },
  {
   "cell_type": "code",
   "execution_count": 15,
   "metadata": {
    "collapsed": false
   },
   "outputs": [
    {
     "name": "stdout",
     "output_type": "stream",
     "text": [
      "[ 0.00465406  0.0046526   0.00465114 ..., -0.00233927 -0.00234099\n",
      " -0.00234272]\n"
     ]
    }
   ],
   "source": [
    "print(d['timecorr'])"
   ]
  },
  {
   "cell_type": "code",
   "execution_count": 16,
   "metadata": {
    "collapsed": false
   },
   "outputs": [
    {
     "name": "stdout",
     "output_type": "stream",
     "text": [
      "[ nan  nan  nan ...,  nan  nan  nan]\n"
     ]
    }
   ],
   "source": [
    "print(d['pos_corr1'])"
   ]
  },
  {
   "cell_type": "code",
   "execution_count": 23,
   "metadata": {
    "collapsed": false
   },
   "outputs": [],
   "source": [
    "for i in range(len(d['pos_corr1'])):\n",
    "    if d['pos_corr1'][i] == d['pos_corr1'][i]:\n",
    "        print(d['pos_corr1'][i])"
   ]
  },
  {
   "cell_type": "code",
   "execution_count": 17,
   "metadata": {
    "collapsed": false
   },
   "outputs": [
    {
     "name": "stdout",
     "output_type": "stream",
     "text": [
      "[ nan  nan  nan ...,  nan  nan  nan]\n"
     ]
    }
   ],
   "source": [
    "print(d['pos_corr2'])"
   ]
  },
  {
   "cell_type": "code",
   "execution_count": 21,
   "metadata": {
    "collapsed": false
   },
   "outputs": [],
   "source": [
    "for i in range(len(d['pos_corr2'])):\n",
    "    if d['pos_corr2'][i] == d['pos_corr2'][i]:\n",
    "        print(d['pos_corr2'][i])"
   ]
  },
  {
   "cell_type": "code",
   "execution_count": 18,
   "metadata": {
    "collapsed": false
   },
   "outputs": [
    {
     "name": "stdout",
     "output_type": "stream",
     "text": [
      "[   8    0    0 ...,    0 8192    0]\n"
     ]
    }
   ],
   "source": [
    "print(d['quality'])"
   ]
  },
  {
   "cell_type": "code",
   "execution_count": 70,
   "metadata": {
    "collapsed": false
   },
   "outputs": [
    {
     "name": "stdout",
     "output_type": "stream",
     "text": [
      "(3856, 10) [[   1651.07727051    4783.14941406   10387.40722656 ...,  139153.609375\n",
      "   154040.90625     168287.796875  ]\n",
      " [   1682.13293457    4819.64111328   10489.54492188 ...,  139531.5\n",
      "   154330.5         168357.703125  ]\n",
      " [   1664.74536133    4754.80322266   10440.20703125 ...,  138932.3125\n",
      "   154104.546875    168212.328125  ]\n",
      " ..., \n",
      " [  15386.74609375   78317.2578125   110338.28125    ...,  173234.1875\n",
      "   174215.8125      175573.515625  ]\n",
      " [  15912.75195312   77356.1796875   107272.0078125  ...,  173168.703125\n",
      "   174183.703125    175593.953125  ]\n",
      " [  16156.859375     75879.953125    104586.46875    ...,  173164.125\n",
      "   174178.140625    175545.578125  ]]\n"
     ]
    }
   ],
   "source": [
    "print(d['flux'].shape,d['flux'])\n"
   ]
  },
  {
   "cell_type": "code",
   "execution_count": 19,
   "metadata": {
    "collapsed": false
   },
   "outputs": [
    {
     "name": "stdout",
     "output_type": "stream",
     "text": [
      "(3753, 10) [[          nan  364.69799805  364.69799805 ...,  365.10559082\n",
      "   365.20343018  365.22393799]\n",
      " [          nan  364.62887573  364.62887573 ...,  365.07336426\n",
      "   365.11016846  365.1338501 ]\n",
      " [          nan  364.71224976  364.71224976 ...,  364.99237061\n",
      "   365.04830933  365.10620117]\n",
      " ..., \n",
      " [          nan  836.92419434  836.92419434 ...,  837.56414795\n",
      "   837.58679199  837.63696289]\n",
      " [          nan  837.76086426  837.76086426 ...,  838.18261719\n",
      "   838.21923828  838.47839355]\n",
      " [          nan  837.7925415   837.7925415  ...,  838.09814453\n",
      "   838.12060547  838.26513672]]\n"
     ]
    }
   ],
   "source": [
    "print(d['bkg'].shape,d['bkg'])"
   ]
  }
 ],
 "metadata": {
  "kernelspec": {
   "display_name": "Python 2",
   "language": "python",
   "name": "python2"
  },
  "language_info": {
   "codemirror_mode": {
    "name": "ipython",
    "version": 2
   },
   "file_extension": ".py",
   "mimetype": "text/x-python",
   "name": "python",
   "nbconvert_exporter": "python",
   "pygments_lexer": "ipython2",
   "version": "2.7.10"
  }
 },
 "nbformat": 4,
 "nbformat_minor": 0
}
