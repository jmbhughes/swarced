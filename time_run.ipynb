{
 "cells": [
  {
   "cell_type": "code",
   "execution_count": 21,
   "metadata": {
    "collapsed": true
   },
   "outputs": [],
   "source": [
    "import swarced as sw\n",
    "import time, pickle, random, os\n",
    "import numpy as np\n",
    "import run"
   ]
  },
  {
   "cell_type": "code",
   "execution_count": 63,
   "metadata": {
    "collapsed": false
   },
   "outputs": [],
   "source": [
    "qlist = os.listdir(\"/k2_data/query\")\n",
    "t = np.array([])\n",
    "for q in random.sample(qlist,5):\n",
    "    start = time.time()\n",
    "    os.system(\"python run.py \" + q[4:-2] + \" 0 /k2_data/query/\" + q)\n",
    "    t = np.append(t,time.time()-start)"
   ]
  },
  {
   "cell_type": "code",
   "execution_count": 65,
   "metadata": {
    "collapsed": false
   },
   "outputs": [
    {
     "data": {
      "text/plain": [
       "490.52086238861085"
      ]
     },
     "execution_count": 65,
     "metadata": {},
     "output_type": "execute_result"
    }
   ],
   "source": [
    "np.mean(t)"
   ]
  },
  {
   "cell_type": "code",
   "execution_count": 69,
   "metadata": {
    "collapsed": false
   },
   "outputs": [
    {
     "data": {
      "text/plain": [
       "9.9701895198145252"
      ]
     },
     "execution_count": 69,
     "metadata": {},
     "output_type": "execute_result"
    }
   ],
   "source": [
    "np.std(t)"
   ]
  },
  {
   "cell_type": "code",
   "execution_count": 15,
   "metadata": {
    "collapsed": false
   },
   "outputs": [],
   "source": [
    "?time.time()"
   ]
  },
  {
   "cell_type": "code",
   "execution_count": 71,
   "metadata": {
    "collapsed": false
   },
   "outputs": [
    {
     "data": {
      "text/plain": [
       "40.876738532384238"
      ]
     },
     "execution_count": 71,
     "metadata": {},
     "output_type": "execute_result"
    }
   ],
   "source": [
    "np.sum(t)/60."
   ]
  },
  {
   "cell_type": "code",
   "execution_count": 2,
   "metadata": {
    "collapsed": true
   },
   "outputs": [],
   "source": [
    "import multiprocessing as mp"
   ]
  },
  {
   "cell_type": "code",
   "execution_count": 54,
   "metadata": {
    "collapsed": false,
    "scrolled": true
   },
   "outputs": [],
   "source": [
    "ql = np.array(qlist)"
   ]
  },
  {
   "cell_type": "code",
   "execution_count": 44,
   "metadata": {
    "collapsed": false
   },
   "outputs": [
    {
     "data": {
      "text/plain": [
       "'EPIC202073442.q'"
      ]
     },
     "execution_count": 44,
     "metadata": {},
     "output_type": "execute_result"
    }
   ],
   "source": [
    "qlist[0]"
   ]
  },
  {
   "cell_type": "code",
   "execution_count": 52,
   "metadata": {
    "collapsed": false
   },
   "outputs": [
    {
     "data": {
      "text/plain": [
       "list"
      ]
     },
     "execution_count": 52,
     "metadata": {},
     "output_type": "execute_result"
    }
   ],
   "source": [
    "type([f[4:-2] for f in qlist])"
   ]
  },
  {
   "cell_type": "code",
   "execution_count": 51,
   "metadata": {
    "collapsed": false
   },
   "outputs": [
    {
     "ename": "ValueError",
     "evalue": "cannot set an array element with a sequence",
     "output_type": "error",
     "traceback": [
      "\u001b[1;31m---------------------------------------------------------------------------\u001b[0m",
      "\u001b[1;31mValueError\u001b[0m                                Traceback (most recent call last)",
      "\u001b[1;32m<ipython-input-51-db6e12ff2e3c>\u001b[0m in \u001b[0;36m<module>\u001b[1;34m()\u001b[0m\n\u001b[1;32m----> 1\u001b[1;33m \u001b[0mnp\u001b[0m\u001b[1;33m.\u001b[0m\u001b[0marray\u001b[0m\u001b[1;33m(\u001b[0m\u001b[1;33m[\u001b[0m\u001b[0mf\u001b[0m\u001b[1;33m[\u001b[0m\u001b[1;36m4\u001b[0m\u001b[1;33m:\u001b[0m\u001b[1;33m-\u001b[0m\u001b[1;36m2\u001b[0m\u001b[1;33m]\u001b[0m \u001b[1;32mfor\u001b[0m \u001b[0mf\u001b[0m \u001b[1;32min\u001b[0m \u001b[0mqlist\u001b[0m\u001b[1;33m]\u001b[0m\u001b[1;33m)\u001b[0m\u001b[1;33m\u001b[0m\u001b[0m\n\u001b[0m",
      "\u001b[1;31mValueError\u001b[0m: cannot set an array element with a sequence"
     ]
    }
   ],
   "source": [
    "np.array([f[4:-2] for f in qlist])"
   ]
  },
  {
   "cell_type": "code",
   "execution_count": 63,
   "metadata": {
    "collapsed": false
   },
   "outputs": [
    {
     "data": {
      "text/plain": [
       "array([['EPIC202073442.q', 'EPIC202083650.q', 'EPIC202073218.q',\n",
       "        'EPIC202088191.q', 'EPIC202064253.q', 'EPIC202072502.q',\n",
       "        'EPIC202072061.q', 'EPIC202086627.q', 'EPIC202063160.q',\n",
       "        'EPIC202066811.q', 'EPIC202137167.q', 'EPIC202065879.q',\n",
       "        'EPIC202073217.q', 'EPIC202073270.q', 'EPIC202072958.q',\n",
       "        'EPIC202064535.q', 'EPIC202071635.q', 'EPIC202073088.q',\n",
       "        'EPIC202060198.q', 'EPIC202073174.q', 'EPIC202072932.q',\n",
       "        'EPIC202060800.q', 'EPIC202072430.q', 'EPIC202064026.q',\n",
       "        'EPIC202088387.q', 'EPIC202073267.q', 'EPIC202073266.q',\n",
       "        'EPIC202086291.q', 'EPIC202073490.q', 'EPIC202060135.q',\n",
       "        'EPIC202073232.q', 'EPIC202126871.q', 'EPIC202073361.q',\n",
       "        'EPIC202073319.q', 'EPIC202072596.q', 'EPIC202073097.q',\n",
       "        'EPIC202071293.q', 'EPIC202073397.q', 'EPIC202073276.q',\n",
       "        'EPIC202073074.q', 'EPIC202073175.q', 'EPIC202073185.q',\n",
       "        'EPIC202060523.q', 'EPIC202072929.q', 'EPIC202072991.q',\n",
       "        'EPIC202137209.q', 'EPIC202083924.q', 'EPIC202139294.q',\n",
       "        'EPIC202073207.q', 'EPIC202060541.q', 'EPIC202122545.q',\n",
       "        'EPIC202071994.q', 'EPIC202068686.q', 'EPIC202072978.q',\n",
       "        'EPIC202072961.q', 'EPIC202061814.q', 'EPIC202126849.q',\n",
       "        'EPIC202072451.q', 'EPIC202072962.q', 'EPIC202068807.q',\n",
       "        'EPIC202073186.q', 'EPIC202073235.q', 'EPIC202073438.q',\n",
       "        'EPIC202072486.q', 'EPIC202071266.q', 'EPIC202060124.q',\n",
       "        'EPIC202091278.q', 'EPIC202073004.q', 'EPIC202071279.q',\n",
       "        'EPIC202073495.q', 'EPIC202073061.q', 'EPIC202126880.q',\n",
       "        'EPIC202073297.q', 'EPIC202071505.q', 'EPIC202073346.q',\n",
       "        'EPIC202073117.q', 'EPIC202073161.q', 'EPIC202073035.q',\n",
       "        'EPIC202073068.q', 'EPIC202092613.q', 'EPIC202065543.q',\n",
       "        'EPIC202059416.q', 'EPIC202085014.q', 'EPIC202062176.q',\n",
       "        'EPIC202092480.q', 'EPIC202073489.q', 'EPIC202126847.q',\n",
       "        'EPIC202088178.q', 'EPIC202126825.q', 'EPIC202073262.q',\n",
       "        'EPIC202071842.q', 'EPIC202091203.q', 'EPIC202073353.q',\n",
       "        'EPIC202094117.q', 'EPIC202103762.q', 'EPIC202073144.q',\n",
       "        'EPIC202073440.q', 'EPIC202063828.q', 'EPIC202072933.q',\n",
       "        'EPIC202071828.q', 'EPIC202073067.q', 'EPIC202073238.q',\n",
       "        'EPIC202073040.q', 'EPIC202073124.q', 'EPIC202126887.q',\n",
       "        'EPIC202071631.q', 'EPIC202060551.q', 'EPIC202073348.q',\n",
       "        'EPIC202060577.q', 'EPIC202061000.q', 'EPIC202073160.q',\n",
       "        'EPIC202087553.q', 'EPIC202126878.q', 'EPIC202126886.q',\n",
       "        'EPIC202126851.q', 'EPIC202091545.q', 'EPIC202066394.q',\n",
       "        'EPIC202065802.q', 'EPIC202072963.q', 'EPIC202126864.q',\n",
       "        'EPIC202066699.q', 'EPIC202072941.q', 'EPIC202073253.q',\n",
       "        'EPIC202094234.q', 'EPIC202093968.q', 'EPIC202073145.q',\n",
       "        'EPIC202137571.q', 'EPIC202072971.q', 'EPIC202064080.q',\n",
       "        'EPIC202073121.q', 'EPIC202091404.q', 'EPIC202073210.q',\n",
       "        'EPIC202073307.q', 'EPIC202065819.q', 'EPIC202062450.q',\n",
       "        'EPIC202059360.q', 'EPIC202060911.q', 'EPIC202083021.q',\n",
       "        'EPIC202095298.q', 'EPIC202071731.q', 'EPIC202072485.q',\n",
       "        'EPIC202091514.q', 'EPIC202071579.q', 'EPIC202083510.q',\n",
       "        'EPIC202073445.q', 'EPIC202073203.q', 'EPIC202073248.q',\n",
       "        'EPIC202062154.q', 'EPIC202086225.q', 'EPIC202072988.q',\n",
       "        'EPIC202072563.q', 'EPIC202073063.q', 'EPIC202060506.q',\n",
       "        'EPIC202060752.q', 'EPIC202073096.q', 'EPIC202059377.q',\n",
       "        'EPIC202072282.q', 'EPIC202064549.q'],\n",
       "       ['0.0', '0.0', '0.0', '0.0', '0.0', '0.0', '0.0', '0.0', '0.0',\n",
       "        '0.0', '0.0', '0.0', '0.0', '0.0', '0.0', '0.0', '0.0', '0.0',\n",
       "        '0.0', '0.0', '0.0', '0.0', '0.0', '0.0', '0.0', '0.0', '0.0',\n",
       "        '0.0', '0.0', '0.0', '0.0', '0.0', '0.0', '0.0', '0.0', '0.0',\n",
       "        '0.0', '0.0', '0.0', '0.0', '0.0', '0.0', '0.0', '0.0', '0.0',\n",
       "        '0.0', '0.0', '0.0', '0.0', '0.0', '0.0', '0.0', '0.0', '0.0',\n",
       "        '0.0', '0.0', '0.0', '0.0', '0.0', '0.0', '0.0', '0.0', '0.0',\n",
       "        '0.0', '0.0', '0.0', '0.0', '0.0', '0.0', '0.0', '0.0', '0.0',\n",
       "        '0.0', '0.0', '0.0', '0.0', '0.0', '0.0', '0.0', '0.0', '0.0',\n",
       "        '0.0', '0.0', '0.0', '0.0', '0.0', '0.0', '0.0', '0.0', '0.0',\n",
       "        '0.0', '0.0', '0.0', '0.0', '0.0', '0.0', '0.0', '0.0', '0.0',\n",
       "        '0.0', '0.0', '0.0', '0.0', '0.0', '0.0', '0.0', '0.0', '0.0',\n",
       "        '0.0', '0.0', '0.0', '0.0', '0.0', '0.0', '0.0', '0.0', '0.0',\n",
       "        '0.0', '0.0', '0.0', '0.0', '0.0', '0.0', '0.0', '0.0', '0.0',\n",
       "        '0.0', '0.0', '0.0', '0.0', '0.0', '0.0', '0.0', '0.0', '0.0',\n",
       "        '0.0', '0.0', '0.0', '0.0', '0.0', '0.0', '0.0', '0.0', '0.0',\n",
       "        '0.0', '0.0', '0.0', '0.0', '0.0', '0.0', '0.0', '0.0', '0.0',\n",
       "        '0.0', '0.0', '0.0', '0.0', '0.0'],\n",
       "       ['202073442', '202083650', '202073218', '202088191', '202064253',\n",
       "        '202072502', '202072061', '202086627', '202063160', '202066811',\n",
       "        '202137167', '202065879', '202073217', '202073270', '202072958',\n",
       "        '202064535', '202071635', '202073088', '202060198', '202073174',\n",
       "        '202072932', '202060800', '202072430', '202064026', '202088387',\n",
       "        '202073267', '202073266', '202086291', '202073490', '202060135',\n",
       "        '202073232', '202126871', '202073361', '202073319', '202072596',\n",
       "        '202073097', '202071293', '202073397', '202073276', '202073074',\n",
       "        '202073175', '202073185', '202060523', '202072929', '202072991',\n",
       "        '202137209', '202083924', '202139294', '202073207', '202060541',\n",
       "        '202122545', '202071994', '202068686', '202072978', '202072961',\n",
       "        '202061814', '202126849', '202072451', '202072962', '202068807',\n",
       "        '202073186', '202073235', '202073438', '202072486', '202071266',\n",
       "        '202060124', '202091278', '202073004', '202071279', '202073495',\n",
       "        '202073061', '202126880', '202073297', '202071505', '202073346',\n",
       "        '202073117', '202073161', '202073035', '202073068', '202092613',\n",
       "        '202065543', '202059416', '202085014', '202062176', '202092480',\n",
       "        '202073489', '202126847', '202088178', '202126825', '202073262',\n",
       "        '202071842', '202091203', '202073353', '202094117', '202103762',\n",
       "        '202073144', '202073440', '202063828', '202072933', '202071828',\n",
       "        '202073067', '202073238', '202073040', '202073124', '202126887',\n",
       "        '202071631', '202060551', '202073348', '202060577', '202061000',\n",
       "        '202073160', '202087553', '202126878', '202126886', '202126851',\n",
       "        '202091545', '202066394', '202065802', '202072963', '202126864',\n",
       "        '202066699', '202072941', '202073253', '202094234', '202093968',\n",
       "        '202073145', '202137571', '202072971', '202064080', '202073121',\n",
       "        '202091404', '202073210', '202073307', '202065819', '202062450',\n",
       "        '202059360', '202060911', '202083021', '202095298', '202071731',\n",
       "        '202072485', '202091514', '202071579', '202083510', '202073445',\n",
       "        '202073203', '202073248', '202062154', '202086225', '202072988',\n",
       "        '202072563', '202073063', '202060506', '202060752', '202073096',\n",
       "        '202059377', '202072282', '202064549']], \n",
       "      dtype='|S32')"
      ]
     },
     "execution_count": 63,
     "metadata": {},
     "output_type": "execute_result"
    }
   ],
   "source": [
    "np.vstack((ql,np.zeros(len(ql)),[f[4:-2] for f in qlist]))"
   ]
  },
  {
   "cell_type": "code",
   "execution_count": 48,
   "metadata": {
    "collapsed": false,
    "scrolled": true
   },
   "outputs": [
    {
     "data": {
      "text/plain": [
       "['EPIC202073442.q',\n",
       " 'EPIC202083650.q',\n",
       " 'EPIC202073218.q',\n",
       " 'EPIC202088191.q',\n",
       " 'EPIC202064253.q',\n",
       " 'EPIC202072502.q',\n",
       " 'EPIC202072061.q',\n",
       " 'EPIC202086627.q',\n",
       " 'EPIC202063160.q',\n",
       " 'EPIC202066811.q',\n",
       " 'EPIC202137167.q',\n",
       " 'EPIC202065879.q',\n",
       " 'EPIC202073217.q',\n",
       " 'EPIC202073270.q',\n",
       " 'EPIC202072958.q',\n",
       " 'EPIC202064535.q',\n",
       " 'EPIC202071635.q',\n",
       " 'EPIC202073088.q',\n",
       " 'EPIC202060198.q',\n",
       " 'EPIC202073174.q',\n",
       " 'EPIC202072932.q',\n",
       " 'EPIC202060800.q',\n",
       " 'EPIC202072430.q',\n",
       " 'EPIC202064026.q',\n",
       " 'EPIC202088387.q',\n",
       " 'EPIC202073267.q',\n",
       " 'EPIC202073266.q',\n",
       " 'EPIC202086291.q',\n",
       " 'EPIC202073490.q',\n",
       " 'EPIC202060135.q',\n",
       " 'EPIC202073232.q',\n",
       " 'EPIC202126871.q',\n",
       " 'EPIC202073361.q',\n",
       " 'EPIC202073319.q',\n",
       " 'EPIC202072596.q',\n",
       " 'EPIC202073097.q',\n",
       " 'EPIC202071293.q',\n",
       " 'EPIC202073397.q',\n",
       " 'EPIC202073276.q',\n",
       " 'EPIC202073074.q',\n",
       " 'EPIC202073175.q',\n",
       " 'EPIC202073185.q',\n",
       " 'EPIC202060523.q',\n",
       " 'EPIC202072929.q',\n",
       " 'EPIC202072991.q',\n",
       " 'EPIC202137209.q',\n",
       " 'EPIC202083924.q',\n",
       " 'EPIC202139294.q',\n",
       " 'EPIC202073207.q',\n",
       " 'EPIC202060541.q',\n",
       " 'EPIC202122545.q',\n",
       " 'EPIC202071994.q',\n",
       " 'EPIC202068686.q',\n",
       " 'EPIC202072978.q',\n",
       " 'EPIC202072961.q',\n",
       " 'EPIC202061814.q',\n",
       " 'EPIC202126849.q',\n",
       " 'EPIC202072451.q',\n",
       " 'EPIC202072962.q',\n",
       " 'EPIC202068807.q',\n",
       " 'EPIC202073186.q',\n",
       " 'EPIC202073235.q',\n",
       " 'EPIC202073438.q',\n",
       " 'EPIC202072486.q',\n",
       " 'EPIC202071266.q',\n",
       " 'EPIC202060124.q',\n",
       " 'EPIC202091278.q',\n",
       " 'EPIC202073004.q',\n",
       " 'EPIC202071279.q',\n",
       " 'EPIC202073495.q',\n",
       " 'EPIC202073061.q',\n",
       " 'EPIC202126880.q',\n",
       " 'EPIC202073297.q',\n",
       " 'EPIC202071505.q',\n",
       " 'EPIC202073346.q',\n",
       " 'EPIC202073117.q',\n",
       " 'EPIC202073161.q',\n",
       " 'EPIC202073035.q',\n",
       " 'EPIC202073068.q',\n",
       " 'EPIC202092613.q',\n",
       " 'EPIC202065543.q',\n",
       " 'EPIC202059416.q',\n",
       " 'EPIC202085014.q',\n",
       " 'EPIC202062176.q',\n",
       " 'EPIC202092480.q',\n",
       " 'EPIC202073489.q',\n",
       " 'EPIC202126847.q',\n",
       " 'EPIC202088178.q',\n",
       " 'EPIC202126825.q',\n",
       " 'EPIC202073262.q',\n",
       " 'EPIC202071842.q',\n",
       " 'EPIC202091203.q',\n",
       " 'EPIC202073353.q',\n",
       " 'EPIC202094117.q',\n",
       " 'EPIC202103762.q',\n",
       " 'EPIC202073144.q',\n",
       " 'EPIC202073440.q',\n",
       " 'EPIC202063828.q',\n",
       " 'EPIC202072933.q',\n",
       " 'EPIC202071828.q',\n",
       " 'EPIC202073067.q',\n",
       " 'EPIC202073238.q',\n",
       " 'EPIC202073040.q',\n",
       " 'EPIC202073124.q',\n",
       " 'EPIC202126887.q',\n",
       " 'EPIC202071631.q',\n",
       " 'EPIC202060551.q',\n",
       " 'EPIC202073348.q',\n",
       " 'EPIC202060577.q',\n",
       " 'EPIC202061000.q',\n",
       " 'EPIC202073160.q',\n",
       " 'EPIC202087553.q',\n",
       " 'EPIC202126878.q',\n",
       " 'EPIC202126886.q',\n",
       " 'EPIC202126851.q',\n",
       " 'EPIC202091545.q',\n",
       " 'EPIC202066394.q',\n",
       " 'EPIC202065802.q',\n",
       " 'EPIC202072963.q',\n",
       " 'EPIC202126864.q',\n",
       " 'EPIC202066699.q',\n",
       " 'EPIC202072941.q',\n",
       " 'EPIC202073253.q',\n",
       " 'EPIC202094234.q',\n",
       " 'EPIC202093968.q',\n",
       " 'EPIC202073145.q',\n",
       " 'EPIC202137571.q',\n",
       " 'EPIC202072971.q',\n",
       " 'EPIC202064080.q',\n",
       " 'EPIC202073121.q',\n",
       " 'EPIC202091404.q',\n",
       " 'EPIC202073210.q',\n",
       " 'EPIC202073307.q',\n",
       " 'EPIC202065819.q',\n",
       " 'EPIC202062450.q',\n",
       " 'EPIC202059360.q',\n",
       " 'EPIC202060911.q',\n",
       " 'EPIC202083021.q',\n",
       " 'EPIC202095298.q',\n",
       " 'EPIC202071731.q',\n",
       " 'EPIC202072485.q',\n",
       " 'EPIC202091514.q',\n",
       " 'EPIC202071579.q',\n",
       " 'EPIC202083510.q',\n",
       " 'EPIC202073445.q',\n",
       " 'EPIC202073203.q',\n",
       " 'EPIC202073248.q',\n",
       " 'EPIC202062154.q',\n",
       " 'EPIC202086225.q',\n",
       " 'EPIC202072988.q',\n",
       " 'EPIC202072563.q',\n",
       " 'EPIC202073063.q',\n",
       " 'EPIC202060506.q',\n",
       " 'EPIC202060752.q',\n",
       " 'EPIC202073096.q',\n",
       " 'EPIC202059377.q',\n",
       " 'EPIC202072282.q',\n",
       " 'EPIC202064549.q',\n",
       " ['202073442',\n",
       "  '202083650',\n",
       "  '202073218',\n",
       "  '202088191',\n",
       "  '202064253',\n",
       "  '202072502',\n",
       "  '202072061',\n",
       "  '202086627',\n",
       "  '202063160',\n",
       "  '202066811',\n",
       "  '202137167',\n",
       "  '202065879',\n",
       "  '202073217',\n",
       "  '202073270',\n",
       "  '202072958',\n",
       "  '202064535',\n",
       "  '202071635',\n",
       "  '202073088',\n",
       "  '202060198',\n",
       "  '202073174',\n",
       "  '202072932',\n",
       "  '202060800',\n",
       "  '202072430',\n",
       "  '202064026',\n",
       "  '202088387',\n",
       "  '202073267',\n",
       "  '202073266',\n",
       "  '202086291',\n",
       "  '202073490',\n",
       "  '202060135',\n",
       "  '202073232',\n",
       "  '202126871',\n",
       "  '202073361',\n",
       "  '202073319',\n",
       "  '202072596',\n",
       "  '202073097',\n",
       "  '202071293',\n",
       "  '202073397',\n",
       "  '202073276',\n",
       "  '202073074',\n",
       "  '202073175',\n",
       "  '202073185',\n",
       "  '202060523',\n",
       "  '202072929',\n",
       "  '202072991',\n",
       "  '202137209',\n",
       "  '202083924',\n",
       "  '202139294',\n",
       "  '202073207',\n",
       "  '202060541',\n",
       "  '202122545',\n",
       "  '202071994',\n",
       "  '202068686',\n",
       "  '202072978',\n",
       "  '202072961',\n",
       "  '202061814',\n",
       "  '202126849',\n",
       "  '202072451',\n",
       "  '202072962',\n",
       "  '202068807',\n",
       "  '202073186',\n",
       "  '202073235',\n",
       "  '202073438',\n",
       "  '202072486',\n",
       "  '202071266',\n",
       "  '202060124',\n",
       "  '202091278',\n",
       "  '202073004',\n",
       "  '202071279',\n",
       "  '202073495',\n",
       "  '202073061',\n",
       "  '202126880',\n",
       "  '202073297',\n",
       "  '202071505',\n",
       "  '202073346',\n",
       "  '202073117',\n",
       "  '202073161',\n",
       "  '202073035',\n",
       "  '202073068',\n",
       "  '202092613',\n",
       "  '202065543',\n",
       "  '202059416',\n",
       "  '202085014',\n",
       "  '202062176',\n",
       "  '202092480',\n",
       "  '202073489',\n",
       "  '202126847',\n",
       "  '202088178',\n",
       "  '202126825',\n",
       "  '202073262',\n",
       "  '202071842',\n",
       "  '202091203',\n",
       "  '202073353',\n",
       "  '202094117',\n",
       "  '202103762',\n",
       "  '202073144',\n",
       "  '202073440',\n",
       "  '202063828',\n",
       "  '202072933',\n",
       "  '202071828',\n",
       "  '202073067',\n",
       "  '202073238',\n",
       "  '202073040',\n",
       "  '202073124',\n",
       "  '202126887',\n",
       "  '202071631',\n",
       "  '202060551',\n",
       "  '202073348',\n",
       "  '202060577',\n",
       "  '202061000',\n",
       "  '202073160',\n",
       "  '202087553',\n",
       "  '202126878',\n",
       "  '202126886',\n",
       "  '202126851',\n",
       "  '202091545',\n",
       "  '202066394',\n",
       "  '202065802',\n",
       "  '202072963',\n",
       "  '202126864',\n",
       "  '202066699',\n",
       "  '202072941',\n",
       "  '202073253',\n",
       "  '202094234',\n",
       "  '202093968',\n",
       "  '202073145',\n",
       "  '202137571',\n",
       "  '202072971',\n",
       "  '202064080',\n",
       "  '202073121',\n",
       "  '202091404',\n",
       "  '202073210',\n",
       "  '202073307',\n",
       "  '202065819',\n",
       "  '202062450',\n",
       "  '202059360',\n",
       "  '202060911',\n",
       "  '202083021',\n",
       "  '202095298',\n",
       "  '202071731',\n",
       "  '202072485',\n",
       "  '202091514',\n",
       "  '202071579',\n",
       "  '202083510',\n",
       "  '202073445',\n",
       "  '202073203',\n",
       "  '202073248',\n",
       "  '202062154',\n",
       "  '202086225',\n",
       "  '202072988',\n",
       "  '202072563',\n",
       "  '202073063',\n",
       "  '202060506',\n",
       "  '202060752',\n",
       "  '202073096',\n",
       "  '202059377',\n",
       "  '202072282',\n",
       "  '202064549']]"
      ]
     },
     "execution_count": 48,
     "metadata": {},
     "output_type": "execute_result"
    }
   ],
   "source": [
    "qlist"
   ]
  },
  {
   "cell_type": "code",
   "execution_count": 46,
   "metadata": {
    "collapsed": false
   },
   "outputs": [
    {
     "name": "stdout",
     "output_type": "stream",
     "text": [
      "Object `hstack` not found.\n"
     ]
    }
   ],
   "source": [
    "hstack?"
   ]
  },
  {
   "cell_type": "code",
   "execution_count": 45,
   "metadata": {
    "collapsed": false,
    "scrolled": true
   },
   "outputs": [
    {
     "data": {
      "text/plain": [
       "['202073442',\n",
       " '202083650',\n",
       " '202073218',\n",
       " '202088191',\n",
       " '202064253',\n",
       " '202072502',\n",
       " '202072061',\n",
       " '202086627',\n",
       " '202063160',\n",
       " '202066811',\n",
       " '202137167',\n",
       " '202065879',\n",
       " '202073217',\n",
       " '202073270',\n",
       " '202072958',\n",
       " '202064535',\n",
       " '202071635',\n",
       " '202073088',\n",
       " '202060198',\n",
       " '202073174',\n",
       " '202072932',\n",
       " '202060800',\n",
       " '202072430',\n",
       " '202064026',\n",
       " '202088387',\n",
       " '202073267',\n",
       " '202073266',\n",
       " '202086291',\n",
       " '202073490',\n",
       " '202060135',\n",
       " '202073232',\n",
       " '202126871',\n",
       " '202073361',\n",
       " '202073319',\n",
       " '202072596',\n",
       " '202073097',\n",
       " '202071293',\n",
       " '202073397',\n",
       " '202073276',\n",
       " '202073074',\n",
       " '202073175',\n",
       " '202073185',\n",
       " '202060523',\n",
       " '202072929',\n",
       " '202072991',\n",
       " '202137209',\n",
       " '202083924',\n",
       " '202139294',\n",
       " '202073207',\n",
       " '202060541',\n",
       " '202122545',\n",
       " '202071994',\n",
       " '202068686',\n",
       " '202072978',\n",
       " '202072961',\n",
       " '202061814',\n",
       " '202126849',\n",
       " '202072451',\n",
       " '202072962',\n",
       " '202068807',\n",
       " '202073186',\n",
       " '202073235',\n",
       " '202073438',\n",
       " '202072486',\n",
       " '202071266',\n",
       " '202060124',\n",
       " '202091278',\n",
       " '202073004',\n",
       " '202071279',\n",
       " '202073495',\n",
       " '202073061',\n",
       " '202126880',\n",
       " '202073297',\n",
       " '202071505',\n",
       " '202073346',\n",
       " '202073117',\n",
       " '202073161',\n",
       " '202073035',\n",
       " '202073068',\n",
       " '202092613',\n",
       " '202065543',\n",
       " '202059416',\n",
       " '202085014',\n",
       " '202062176',\n",
       " '202092480',\n",
       " '202073489',\n",
       " '202126847',\n",
       " '202088178',\n",
       " '202126825',\n",
       " '202073262',\n",
       " '202071842',\n",
       " '202091203',\n",
       " '202073353',\n",
       " '202094117',\n",
       " '202103762',\n",
       " '202073144',\n",
       " '202073440',\n",
       " '202063828',\n",
       " '202072933',\n",
       " '202071828',\n",
       " '202073067',\n",
       " '202073238',\n",
       " '202073040',\n",
       " '202073124',\n",
       " '202126887',\n",
       " '202071631',\n",
       " '202060551',\n",
       " '202073348',\n",
       " '202060577',\n",
       " '202061000',\n",
       " '202073160',\n",
       " '202087553',\n",
       " '202126878',\n",
       " '202126886',\n",
       " '202126851',\n",
       " '202091545',\n",
       " '202066394',\n",
       " '202065802',\n",
       " '202072963',\n",
       " '202126864',\n",
       " '202066699',\n",
       " '202072941',\n",
       " '202073253',\n",
       " '202094234',\n",
       " '202093968',\n",
       " '202073145',\n",
       " '202137571',\n",
       " '202072971',\n",
       " '202064080',\n",
       " '202073121',\n",
       " '202091404',\n",
       " '202073210',\n",
       " '202073307',\n",
       " '202065819',\n",
       " '202062450',\n",
       " '202059360',\n",
       " '202060911',\n",
       " '202083021',\n",
       " '202095298',\n",
       " '202071731',\n",
       " '202072485',\n",
       " '202091514',\n",
       " '202071579',\n",
       " '202083510',\n",
       " '202073445',\n",
       " '202073203',\n",
       " '202073248',\n",
       " '202062154',\n",
       " '202086225',\n",
       " '202072988',\n",
       " '202072563',\n",
       " '202073063',\n",
       " '202060506',\n",
       " '202060752',\n",
       " '202073096',\n",
       " '202059377',\n",
       " '202072282',\n",
       " '202064549']"
      ]
     },
     "execution_count": 45,
     "metadata": {},
     "output_type": "execute_result"
    }
   ],
   "source": [
    "[f[4:-2] for f in qlist]"
   ]
  },
  {
   "cell_type": "code",
   "execution_count": 53,
   "metadata": {
    "collapsed": true
   },
   "outputs": [],
   "source": [
    "qlist = os.listdir(\"/k2_data/query\")"
   ]
  },
  {
   "cell_type": "code",
   "execution_count": 4,
   "metadata": {
    "collapsed": false
   },
   "outputs": [],
   "source": [
    "qlist = os.listdir(\"/k2_data/query\")\n",
    "qq= random.sample(qlist,5)"
   ]
  },
  {
   "cell_type": "code",
   "execution_count": 19,
   "metadata": {
    "collapsed": true
   },
   "outputs": [],
   "source": [
    "def f(qfile):\n",
    "    start = time.time()\n",
    "    #python run.py epicID campaign query_file_path\n",
    "    #os.system(\"python run.py \" + qfile[4:-2] + \" 0 /k2_data/query/\" + qfile)\n",
    "    run.main([qfile[4:-2], 0, \"/k2_data/query/\" + qfile])\n",
    "    return time.time() - start"
   ]
  },
  {
   "cell_type": "code",
   "execution_count": 27,
   "metadata": {
    "collapsed": false
   },
   "outputs": [
    {
     "data": {
      "text/plain": [
       "<module 'swarced' from 'swarced.py'>"
      ]
     },
     "execution_count": 27,
     "metadata": {},
     "output_type": "execute_result"
    }
   ],
   "source": [
    "reload(run)\n",
    "reload(sw)"
   ]
  },
  {
   "cell_type": "code",
   "execution_count": 28,
   "metadata": {
    "collapsed": false,
    "scrolled": true
   },
   "outputs": [
    {
     "name": "stdout",
     "output_type": "stream",
     "text": [
      "[544.5501210689545, 584.634486913681, 546.0201680660248, 711.1573400497437, 644.8120350837708]\n",
      "Querying Data\n",
      "Querying Data\n",
      "Querying Data\n",
      "Querying Data\n",
      "Querying Data\n",
      "Finished querying Data in 2.31sFinished querying Data in 2.40sFinished querying Data in 2.43sFinished querying Data in 2.29sFinished querying Data in 2.27s\n",
      "\n",
      "\n",
      "\n",
      "\n",
      "Querying Likelihood\n",
      "Querying Likelihood\n",
      "Querying Likelihood\n",
      "Querying Likelihood\n",
      "Querying Likelihood\n",
      "tau = 0.947937011719tau = 0.947937011719tau = 0.947937011719tau = 0.902069091797tau = 0.942840576172\n",
      "\n",
      "\n",
      "\n",
      "\n",
      "155 185\n",
      "173 184\n",
      "175 182\n",
      "179 179\n",
      "140 181\n",
      "146 155\n",
      "168 173\n",
      "169 175\n",
      "tau = 0.902069091797\n",
      "127 140\n",
      "142 146\n",
      "174 168\n",
      "171 169\n",
      "tau = 1.15689086914144 127\n",
      "137 142\n",
      "174 174\n",
      "171 171\n",
      "\n",
      "142 144\n",
      "140 137\n",
      "tau = 0.947937011719\n",
      "tau = 0.947937011719\n",
      "306 306\n",
      "142 142\n",
      "142 140\n",
      "tau = 1.62066650391tau = 0.795043945312tau = 1.15689086914\n",
      "tau = 0.942840576172\n",
      "142 142\n",
      "\n",
      "\n",
      "tau = 5.69781494141tau = 0.973419189453tau = 0.947937011719\n",
      "297 311\n",
      "300 312\n",
      "\n",
      "\n",
      "tau = 0.703308105469288 297\n",
      "296 300\n",
      "1658249 313\n",
      "\n",
      "287 288\n",
      "292 296\n",
      " 1658\n",
      "247 249\n",
      "266 314\n",
      "290 287\n",
      "290 292\n",
      "tau = 5.69781494141243 247\n",
      "255 266\n",
      "289 290\n",
      "290 290\n",
      "\n",
      "251 243\n",
      "255 255\n",
      "292 289\n",
      "tau = 0.800140380859\n",
      "Finished querying Likelihood in 2.89s252 251\n",
      "tau = 0.703308105469\n",
      "292 292\n",
      "tau = 3.64904785156\n",
      "251 252\n",
      "tau = 0.647247314453tau = 1.62066650391\n",
      "\n",
      "Querying OneDSearch\n",
      "251 251\n",
      "\n",
      "tau = 1.753173828121638Finished querying OneDSearch in 104.73stau = 0.973419189453\n",
      "1500\n",
      " 1689\n",
      "\n",
      "tau = 3.86309814453 1733\n",
      "16301613Querying TwoDSearch\n",
      "\n",
      "1457 1708\n",
      " 1638\n",
      "Finished querying TwoDSearch in 596.20s1646 1500\n",
      "15851612\n",
      " 1679\n",
      "1410 1630\n",
      " 1613\n",
      "Querying PeakDetect\n",
      "1610 1457\n",
      "15821612Finished querying PeakDetect in 4.89s 1646\n",
      "1394 1585\n",
      " 1612\n",
      "\n",
      "1597 1410\n",
      "1602tau = 3.64904785156 1610\n",
      "1381 1582\n",
      "\n",
      "1595 1394\n",
      "1617Finished querying Likelihood in 4.09s 1597\n",
      "1374 1602\n",
      "\n",
      "1595 1381\n",
      "1618Querying OneDSearch\n",
      " 1595\n",
      "1372 1617\n",
      "Finished querying OneDSearch in 79.25stau = 3.86309814453 1374\n",
      "1618\n",
      "\n",
      "1372 1618\n",
      "Querying TwoDSearch\n",
      "Finished querying Likelihood in 5.67s 1372\n",
      "tau = 1.75317382812Finished querying TwoDSearch in 558.20s\n",
      "tau = 0.647247314453\n",
      "\n",
      "Querying OneDSearch\n",
      "\n",
      "Finished querying Likelihood in 6.90sQuerying PeakDetect\n",
      "Finished querying OneDSearch in 85.46sFinished querying Likelihood in 6.13s\n",
      "Finished querying PeakDetect in 0.71s\n",
      "\n",
      "Querying OneDSearch\n",
      "\n",
      "Querying TwoDSearch\n",
      "Querying OneDSearch\n",
      "Finished querying OneDSearch in 81.36sFinished querying TwoDSearch in 490.05sFinished querying OneDSearch in 75.54s\n",
      "\n",
      "\n",
      "Querying TwoDSearch\n",
      "Querying PeakDetect\n",
      "Querying TwoDSearch\n",
      "Finished querying TwoDSearch in 453.08sFinished querying PeakDetect in 1.06sFinished querying TwoDSearch in 461.25s\n",
      "\n",
      "\n",
      "Querying PeakDetect\n",
      "Querying PeakDetect\n",
      "Finished querying PeakDetect in 0.61sFinished querying PeakDetect in 0.67s\n",
      "\n"
     ]
    },
    {
     "name": "stderr",
     "output_type": "stream",
     "text": [
      "WARNING:root:Not enough peaks were found\n",
      "WARNING:root:Not enough peaks were found\n",
      "WARNING:root:Not enough peaks were found\n",
      "WARNING:root:Not enough peaks were found\n",
      "WARNING:root:Not enough peaks were found\n"
     ]
    },
    {
     "data": {
      "text/plain": [
       "-711.1813549995422"
      ]
     },
     "execution_count": 28,
     "metadata": {},
     "output_type": "execute_result"
    }
   ],
   "source": [
    "ss = time.time()\n",
    "pool = mp.Pool(processes=6)\n",
    "results = pool.map(f, qq)\n",
    "pool.close()\n",
    "pool.join()\n",
    "print(results)\n",
    "ee = time.time()\n",
    "ee-ss"
   ]
  },
  {
   "cell_type": "code",
   "execution_count": 31,
   "metadata": {
    "collapsed": false
   },
   "outputs": [
    {
     "data": {
      "text/plain": [
       "711.1813549995422"
      ]
     },
     "execution_count": 31,
     "metadata": {},
     "output_type": "execute_result"
    }
   ],
   "source": [
    "ee-ss"
   ]
  },
  {
   "cell_type": "code",
   "execution_count": 30,
   "metadata": {
    "collapsed": false
   },
   "outputs": [
    {
     "data": {
      "text/plain": [
       "[544.5501210689545,\n",
       " 584.634486913681,\n",
       " 546.0201680660248,\n",
       " 711.1573400497437,\n",
       " 644.8120350837708]"
      ]
     },
     "execution_count": 30,
     "metadata": {},
     "output_type": "execute_result"
    }
   ],
   "source": [
    "results"
   ]
  },
  {
   "cell_type": "code",
   "execution_count": 32,
   "metadata": {
    "collapsed": false
   },
   "outputs": [
    {
     "data": {
      "text/plain": [
       "10.103913837273916"
      ]
     },
     "execution_count": 32,
     "metadata": {},
     "output_type": "execute_result"
    }
   ],
   "source": [
    "np.mean(results)/60"
   ]
  },
  {
   "cell_type": "code",
   "execution_count": 18,
   "metadata": {
    "collapsed": false
   },
   "outputs": [
    {
     "data": {
      "text/plain": [
       "[550.4573509693146,\n",
       " 643.8341979980469,\n",
       " 3.00883412361145,\n",
       " 635.3766300678253,\n",
       " 584.734797000885]"
      ]
     },
     "execution_count": 18,
     "metadata": {},
     "output_type": "execute_result"
    }
   ],
   "source": [
    "results"
   ]
  },
  {
   "cell_type": "code",
   "execution_count": 12,
   "metadata": {
    "collapsed": false
   },
   "outputs": [
    {
     "data": {
      "text/plain": [
       "['EPIC202060911.q',\n",
       " 'EPIC202073144.q',\n",
       " 'EPIC202073440.q',\n",
       " 'EPIC202073353.q',\n",
       " 'EPIC202093968.q']"
      ]
     },
     "execution_count": 12,
     "metadata": {},
     "output_type": "execute_result"
    }
   ],
   "source": [
    "qq"
   ]
  },
  {
   "cell_type": "code",
   "execution_count": 10,
   "metadata": {
    "collapsed": false
   },
   "outputs": [
    {
     "data": {
      "text/plain": [
       "10.731233902772267"
      ]
     },
     "execution_count": 10,
     "metadata": {},
     "output_type": "execute_result"
    }
   ],
   "source": [
    "(ee-ss)/60"
   ]
  }
 ],
 "metadata": {
  "kernelspec": {
   "display_name": "Python 2",
   "language": "python",
   "name": "python2"
  },
  "language_info": {
   "codemirror_mode": {
    "name": "ipython",
    "version": 2
   },
   "file_extension": ".py",
   "mimetype": "text/x-python",
   "name": "python",
   "nbconvert_exporter": "python",
   "pygments_lexer": "ipython2",
   "version": "2.7.10"
  }
 },
 "nbformat": 4,
 "nbformat_minor": 0
}
