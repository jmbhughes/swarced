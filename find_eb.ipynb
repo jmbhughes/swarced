{
 "cells": [
  {
   "cell_type": "code",
   "execution_count": 2,
   "metadata": {
    "collapsed": true
   },
   "outputs": [],
   "source": [
    "%matplotlib inline\n",
    "import swarced as sw\n",
    "from astropy.io import ascii\n",
    "import random, os, pickle, bls, time\n",
    "import numpy as np\n",
    "import matplotlib.pyplot as pl\n",
    "import remove_EB as remEB\n",
    "from IPython.display import clear_output\n",
    "import multiprocessing as mp"
   ]
  },
  {
   "cell_type": "code",
   "execution_count": 114,
   "metadata": {
    "collapsed": false
   },
   "outputs": [],
   "source": [
    "def blswrap(epicid, campaign=0, initial_time=0):\n",
    "    start = time.time()\n",
    "    t, f = sw.retrieve(epicid, campaign)\n",
    "    if initial_time != 0:\n",
    "        t, f = t[t>initial_time], f[t>initial_time]\n",
    "    u, v = np.zeros(len(t)), np.zeros(len(f))\n",
    "    minfreq, dfreq, nfreq = 0.015, 2.0437359493152146e-05,100000\n",
    "    nbin = 10\n",
    "    minduration, maxduration = 0.01, 0.05\n",
    "    results = bls.eebls(t, f, u, v, nfreq, minfreq, dfreq, 10, minduration, maxduration)\n",
    "    end = time.time()\n",
    "    return epicid, results"
   ]
  },
  {
   "cell_type": "markdown",
   "metadata": {},
   "source": [
    "#Campaign 0 Comparison "
   ]
  },
  {
   "cell_type": "code",
   "execution_count": 118,
   "metadata": {
    "collapsed": false
   },
   "outputs": [],
   "source": [
    "CAMPAIGN = 0\n",
    "all_lc_list = ascii.read(\"/k2_data/all_c0_lcs\")\n",
    "ref = ascii.read(\"/k2_data/c0_EB\")\n",
    "all_lc_epic = [int(lc.split(\"/\")[-1][4:13]) for lc in all_lc_list['filenames'] if \".fits\" in lc]"
   ]
  },
  {
   "cell_type": "code",
   "execution_count": 119,
   "metadata": {
    "collapsed": false
   },
   "outputs": [],
   "source": [
    "samplesize = 150\n",
    "all_lc_epic = np.array(all_lc_epic)\n",
    "mask = np.array([epic not in ref['KIC/EPIC'] for epic in all_lc_epic])\n",
    "sample = random.sample(all_lc_epic[mask], samplesize) + random.sample(ref['KIC/EPIC'], samplesize)\n",
    "while len(set(sample)) != samplesize*2:\n",
    "    sample = random.sample(all_lc_epic, samplesize/2) + random.sample(ref['KIC/EPIC'], samplesize)"
   ]
  },
  {
   "cell_type": "code",
   "execution_count": 120,
   "metadata": {
    "collapsed": true
   },
   "outputs": [],
   "source": [
    "start = time.time()\n",
    "pool = mp.Pool(processes=mp.cpu_count())\n",
    "results = pool.map(blswrap, sample)\n",
    "pool.close()\n",
    "pool.join()\n",
    "end = time.time()\n",
    "#results = np.array(results)"
   ]
  },
  {
   "cell_type": "code",
   "execution_count": 122,
   "metadata": {
    "collapsed": true
   },
   "outputs": [],
   "source": [
    "refmask = np.array([r[0] in ref['KIC/EPIC'] for r in results])"
   ]
  },
  {
   "cell_type": "code",
   "execution_count": 123,
   "metadata": {
    "collapsed": true
   },
   "outputs": [],
   "source": [
    "resultsdata = np.array([r[1] for r in results])"
   ]
  },
  {
   "cell_type": "code",
   "execution_count": 124,
   "metadata": {
    "collapsed": false
   },
   "outputs": [],
   "source": [
    "refdata = np.array([ref['period'][np.argmax(ref['KIC/EPIC']==r[0])] for r in results if r[0] in ref['KIC/EPIC']])"
   ]
  },
  {
   "cell_type": "code",
   "execution_count": 24,
   "metadata": {
    "collapsed": false
   },
   "outputs": [
    {
     "data": {
      "text/plain": [
       "[<matplotlib.lines.Line2D at 0xa786042c>]"
      ]
     },
     "execution_count": 24,
     "metadata": {},
     "output_type": "execute_result"
    },
    {
     "data": {
      "image/png": "[encoded data removed]",
      "text/plain": [
       "<matplotlib.figure.Figure at 0xadf6b7cc>"
      ]
     },
     "metadata": {},
     "output_type": "display_data"
    }
   ],
   "source": [
    "pl.plot(refdata,resultsdata[refmask][:,1],'k.')\n",
    "#pl.ylim(0,20)\n",
    "#pl.xlim(0,20)"
   ]
  },
  {
   "cell_type": "code",
   "execution_count": 142,
   "metadata": {
    "collapsed": false
   },
   "outputs": [
    {
     "data": {
      "text/plain": [
       "(0, 20)"
      ]
     },
     "execution_count": 142,
     "metadata": {},
     "output_type": "execute_result"
    },
    {
     "data": {
      "image/png": "[encoded data removed]",
      "text/plain": [
       "<matplotlib.figure.Figure at 0xaf7cd8ec>"
      ]
     },
     "metadata": {},
     "output_type": "display_data"
    }
   ],
   "source": [
    "pl.plot(refdata,resultsdata[refmask][:,1],'k.',label=\"Data\")\n",
    "pl.xlabel(\"Known Catalog Period\")\n",
    "pl.ylabel(\"Recovered Period\")\n",
    "pl.plot(np.linspace(0,20,10),np.linspace(0,20,10),'g',label=\"y=x\",lw=0.3)\n",
    "pl.plot(np.linspace(0,20,10),np.linspace(0,20,10)*0.5,'b',label=\"y=0.5*x\",lw=0.3)\n",
    "pl.legend(loc=2)\n",
    "#pl.legend(bbox_to_anchor=(1, 1))\n",
    "pl.ylim(0,20)\n",
    "pl.xlim(0,20)"
   ]
  },
  {
   "cell_type": "code",
   "execution_count": 26,
   "metadata": {
    "collapsed": false
   },
   "outputs": [
    {
     "data": {
      "image/png": "[encoded data removed]",
      "text/plain": [
       "<matplotlib.figure.Figure at 0xadf5db2c>"
      ]
     },
     "metadata": {},
     "output_type": "display_data"
    }
   ],
   "source": [
    "pl.hist(resultsdata[refmask][:,1]/refdata,np.arange(0,2.5,0.1))\n",
    "pl.show()"
   ]
  },
  {
   "cell_type": "code",
   "execution_count": 27,
   "metadata": {
    "collapsed": true
   },
   "outputs": [],
   "source": [
    "ss = np.array(resultsdata[refmask][:,1]/refdata)"
   ]
  },
  {
   "cell_type": "code",
   "execution_count": 28,
   "metadata": {
    "collapsed": false
   },
   "outputs": [],
   "source": [
    "success = ((ss > 0.99) * (ss < 1.11)) | ((ss > 0.49) * (ss < 0.51))"
   ]
  },
  {
   "cell_type": "markdown",
   "metadata": {},
   "source": [
    "Here you can see the comparison of recovered periods for the non-EBs (top) and the EBs (bottom). So things with high recovered periods, expecially around 70 or 35 (since 70 days is the limit and 35 is the half-limit) are likely false detections."
   ]
  },
  {
   "cell_type": "code",
   "execution_count": 47,
   "metadata": {
    "collapsed": false
   },
   "outputs": [
    {
     "data": {
      "image/png": "[encoded data removed]",
      "text/plain": [
       "<matplotlib.figure.Figure at 0xa78a290c>"
      ]
     },
     "metadata": {},
     "output_type": "display_data"
    }
   ],
   "source": [
    "pl.hist(resultsdata[:,1][np.logical_not(refmask)],np.arange(0,75,5))\n",
    "pl.ylim(0,120)\n",
    "pl.xlabel(\"Period of Non-EBs\")\n",
    "pl.show()"
   ]
  },
  {
   "cell_type": "code",
   "execution_count": 49,
   "metadata": {
    "collapsed": false
   },
   "outputs": [
    {
     "data": {
      "image/png": "[encoded data removed]",
      "text/plain": [
       "<matplotlib.figure.Figure at 0xae6476cc>"
      ]
     },
     "metadata": {},
     "output_type": "display_data"
    }
   ],
   "source": [
    "pl.hist(resultsdata[:,1][refmask][success],np.arange(0,75,5))\n",
    "pl.ylim(0,120)\n",
    "pl.xlabel(\"Period of EBs\")\n",
    "pl.show()\n",
    "#One note about this graphic is that it lies some... long period EBs weren't recovered as much and thus are excluded by success"
   ]
  },
  {
   "cell_type": "markdown",
   "metadata": {},
   "source": [
    "Now we can compare the power of the best power (the power associated with the best period)"
   ]
  },
  {
   "cell_type": "code",
   "execution_count": 59,
   "metadata": {
    "collapsed": false
   },
   "outputs": [
    {
     "data": {
      "image/png": "[encoded data removed]",
      "text/plain": [
       "<matplotlib.figure.Figure at 0xaefd5f0c>"
      ]
     },
     "metadata": {},
     "output_type": "display_data"
    }
   ],
   "source": [
    "pl.hist(resultsdata[:,2][np.logical_not(refmask)], np.linspace(0,400000,50))\n",
    "pl.xlabel(\"Power of non-matches\")\n",
    "pl.show()"
   ]
  },
  {
   "cell_type": "code",
   "execution_count": 60,
   "metadata": {
    "collapsed": false
   },
   "outputs": [
    {
     "data": {
      "image/png": "[encoded data removed]",
      "text/plain": [
       "<matplotlib.figure.Figure at 0xafad9c2c>"
      ]
     },
     "metadata": {},
     "output_type": "display_data"
    }
   ],
   "source": [
    "pl.hist(resultsdata[refmask][success][:,2], np.linspace(0,400000,50))\n",
    "pl.xlabel(\"Power of matches\")\n",
    "pl.ylim(0,160)\n",
    "pl.show()"
   ]
  },
  {
   "cell_type": "markdown",
   "metadata": {},
   "source": [
    "As you can see the power of matches tends to be higher, but that left most column is the trouble column. "
   ]
  },
  {
   "cell_type": "code",
   "execution_count": 68,
   "metadata": {
    "collapsed": false
   },
   "outputs": [
    {
     "data": {
      "image/png": "[encoded data removed]",
      "text/plain": [
       "<matplotlib.figure.Figure at 0xadfd238c>"
      ]
     },
     "metadata": {},
     "output_type": "display_data"
    }
   ],
   "source": [
    "pl.hist(resultsdata[:,2][np.logical_not(refmask)], np.linspace(0,2000,10))\n",
    "pl.xlabel(\"Power of non-matches\")\n",
    "pl.show()"
   ]
  },
  {
   "cell_type": "code",
   "execution_count": 69,
   "metadata": {
    "collapsed": false
   },
   "outputs": [
    {
     "data": {
      "image/png": "[encoded data removed]",
      "text/plain": [
       "<matplotlib.figure.Figure at 0xadfd2ccc>"
      ]
     },
     "metadata": {},
     "output_type": "display_data"
    }
   ],
   "source": [
    "pl.hist(resultsdata[refmask][success][:,2], np.linspace(0,2000,10))\n",
    "pl.xlabel(\"Power of matches\")\n",
    "pl.ylim(0,100)\n",
    "pl.show()"
   ]
  },
  {
   "cell_type": "markdown",
   "metadata": {},
   "source": [
    "You could use this as a criteria and cut off most of the non-EBs at about 500 but you could be losing a dozen or so EBs as well."
   ]
  },
  {
   "cell_type": "code",
   "execution_count": 74,
   "metadata": {
    "collapsed": false
   },
   "outputs": [
    {
     "data": {
      "image/png": "[encoded data removed]",
      "text/plain": [
       "<matplotlib.figure.Figure at 0xaf3eec4c>"
      ]
     },
     "metadata": {},
     "output_type": "display_data"
    }
   ],
   "source": [
    "pl.hist(resultsdata[:,3][np.logical_not(refmask)])\n",
    "pl.xlabel(\"Depth of non-matches\")\n",
    "pl.show()"
   ]
  },
  {
   "cell_type": "code",
   "execution_count": 75,
   "metadata": {
    "collapsed": false
   },
   "outputs": [
    {
     "data": {
      "image/png": "[encoded data removed]",
      "text/plain": [
       "<matplotlib.figure.Figure at 0xad50670c>"
      ]
     },
     "metadata": {},
     "output_type": "display_data"
    }
   ],
   "source": [
    "pl.hist(resultsdata[refmask][success][:,3])\n",
    "pl.xlabel(\"Depth of matches\")\n",
    "pl.ylim(0,100)\n",
    "pl.show()"
   ]
  },
  {
   "cell_type": "code",
   "execution_count": 80,
   "metadata": {
    "collapsed": false
   },
   "outputs": [
    {
     "data": {
      "text/plain": [
       "5"
      ]
     },
     "execution_count": 80,
     "metadata": {},
     "output_type": "execute_result"
    }
   ],
   "source": [
    "sum(resultsdata[refmask][success][:,3]<0)"
   ]
  },
  {
   "cell_type": "markdown",
   "metadata": {},
   "source": [
    "If the recovered depth is less than zero, only about 5 times in 150 for real EBs, you can safely say it's not an EB."
   ]
  },
  {
   "cell_type": "code",
   "execution_count": 87,
   "metadata": {
    "collapsed": false
   },
   "outputs": [
    {
     "data": {
      "image/png": "[encoded data removed]",
      "text/plain": [
       "<matplotlib.figure.Figure at 0xae0c5f4c>"
      ]
     },
     "metadata": {},
     "output_type": "display_data"
    }
   ],
   "source": [
    "pl.hist(resultsdata[:,4][np.logical_not(refmask)])\n",
    "pl.xlabel(\"Transition duration of non-EBs\")\n",
    "pl.show()"
   ]
  },
  {
   "cell_type": "code",
   "execution_count": 88,
   "metadata": {
    "collapsed": false
   },
   "outputs": [
    {
     "data": {
      "image/png": "[encoded data removed]",
      "text/plain": [
       "<matplotlib.figure.Figure at 0xafa6104c>"
      ]
     },
     "metadata": {},
     "output_type": "display_data"
    }
   ],
   "source": [
    "pl.hist(resultsdata[refmask][success][:,4])\n",
    "pl.xlabel(\"Transition duration of EBs\")\n",
    "pl.show()"
   ]
  },
  {
   "cell_type": "markdown",
   "metadata": {},
   "source": [
    "I don't think we can safely use transition duration becasue I would imagine there could be longer EBs."
   ]
  },
  {
   "cell_type": "markdown",
   "metadata": {},
   "source": [
    "#Campaign 2 "
   ]
  },
  {
   "cell_type": "code",
   "execution_count": 143,
   "metadata": {
    "collapsed": true
   },
   "outputs": [],
   "source": [
    "CAMPAIGN = 2\n",
    "all_lc_list = ascii.read(\"/k2_data/all_c2_lcs\")\n",
    "all_lc_epic = [int(lc.split(\"/\")[-1][4:13]) for lc in all_lc_list['filenames'] if \".fits\" in lc]"
   ]
  },
  {
   "cell_type": "code",
   "execution_count": 144,
   "metadata": {
    "collapsed": true
   },
   "outputs": [],
   "source": [
    "samplesize = 1000\n",
    "sample = random.sample(all_lc_epic, samplesize)"
   ]
  },
  {
   "cell_type": "code",
   "execution_count": 145,
   "metadata": {
    "collapsed": true
   },
   "outputs": [],
   "source": [
    "def blswrapc2(epicid):\n",
    "    return blswrap(epicid, campaign=2,initial_time=2.45689e6+10.)"
   ]
  },
  {
   "cell_type": "code",
   "execution_count": 146,
   "metadata": {
    "collapsed": true
   },
   "outputs": [],
   "source": [
    "start = time.time()\n",
    "pool = mp.Pool(processes=mp.cpu_count())\n",
    "results = pool.map(blswrapc2, sample)\n",
    "pool.close()\n",
    "pool.join()\n",
    "end = time.time()\n",
    "#results = np.array(results)"
   ]
  },
  {
   "cell_type": "code",
   "execution_count": 147,
   "metadata": {
    "collapsed": true
   },
   "outputs": [],
   "source": [
    "resultsdata = np.array([r[1] for r in results])"
   ]
  },
  {
   "cell_type": "code",
   "execution_count": 148,
   "metadata": {
    "collapsed": false,
    "scrolled": true
   },
   "outputs": [
    {
     "data": {
      "image/png": "[encoded data removed]",
      "text/plain": [
       "<matplotlib.figure.Figure at 0xae46f2ec>"
      ]
     },
     "metadata": {},
     "output_type": "display_data"
    }
   ],
   "source": [
    "pl.hist(resultsdata[:,1])\n",
    "pl.show()"
   ]
  },
  {
   "cell_type": "code",
   "execution_count": 149,
   "metadata": {
    "collapsed": false
   },
   "outputs": [
    {
     "data": {
      "image/png": "[encoded data removed]",
      "text/plain": [
       "<matplotlib.figure.Figure at 0xa7a97e0c>"
      ]
     },
     "metadata": {},
     "output_type": "display_data"
    }
   ],
   "source": [
    "pl.hist(resultsdata[:,2],np.linspace(0,5000,10))\n",
    "pl.show()"
   ]
  },
  {
   "cell_type": "code",
   "execution_count": 150,
   "metadata": {
    "collapsed": false
   },
   "outputs": [
    {
     "data": {
      "image/png": "[encoded data removed]",
      "text/plain": [
       "<matplotlib.figure.Figure at 0xa783d2ec>"
      ]
     },
     "metadata": {},
     "output_type": "display_data"
    }
   ],
   "source": [
    "pl.hist(resultsdata[:,3])\n",
    "pl.show()"
   ]
  },
  {
   "cell_type": "code",
   "execution_count": 151,
   "metadata": {
    "collapsed": true
   },
   "outputs": [],
   "source": [
    "def is_EB(result):\n",
    "    return (result[1][3] > 0) * (result[1][2] > 500) * (result[1][1]<30)"
   ]
  },
  {
   "cell_type": "code",
   "execution_count": 157,
   "metadata": {
    "collapsed": true
   },
   "outputs": [],
   "source": [
    "examined = []\n",
    "confirms = []\n",
    "campaign = 2"
   ]
  },
  {
   "cell_type": "code",
   "execution_count": 155,
   "metadata": {
    "collapsed": false
   },
   "outputs": [
    {
     "data": {
      "text/plain": [
       "<module 'swarced' from 'swarced.py'>"
      ]
     },
     "execution_count": 155,
     "metadata": {},
     "output_type": "execute_result"
    }
   ],
   "source": [
    "reload(sw)"
   ]
  },
  {
   "cell_type": "code",
   "execution_count": 158,
   "metadata": {
    "collapsed": false
   },
   "outputs": [],
   "source": [
    "for candidate in results:\n",
    "    if candidate[0] not in examined:\n",
    "        if is_EB(candidate):\n",
    "        #if candidate[1][3] > 0 and candidate[1][2] > 2000:\n",
    "            fig = sw.plot_lc(candidate[0],campaign,ylimtype='minmax',xlim = [2.45689e6+10.,2.45689e6+80])\n",
    "            sw.plot_phase(candidate[0],campaign,candidate[1][1],0,initial_time=2.45689e6+10.)\n",
    "            sw.plot_phase(candidate[0],campaign,candidate[1][1]*2,0,initial_time=2.45689e6+10.)\n",
    "            pl.show()\n",
    "            var = raw_input(\"Vote Y or N: \")\n",
    "            if var == \"Y\" or var==\"y\":\n",
    "                confirms += [candidate[0]]\n",
    "            if var == \"B\" or var=='b':\n",
    "                break\n",
    "            clear_output()\n",
    "        examined.append(candidate[0])"
   ]
  },
  {
   "cell_type": "code",
   "execution_count": 159,
   "metadata": {
    "collapsed": false
   },
   "outputs": [
    {
     "data": {
      "text/plain": [
       "[205050711, 204275121, 205728486, 202844711, 205200600]"
      ]
     },
     "execution_count": 159,
     "metadata": {},
     "output_type": "execute_result"
    }
   ],
   "source": [
    "confirms"
   ]
  },
  {
   "cell_type": "code",
   "execution_count": 166,
   "metadata": {
    "collapsed": false
   },
   "outputs": [],
   "source": [
    "resultsepic = np.array([r[0] for r in results])"
   ]
  },
  {
   "cell_type": "code",
   "execution_count": 167,
   "metadata": {
    "collapsed": false
   },
   "outputs": [
    {
     "data": {
      "text/plain": [
       "278"
      ]
     },
     "execution_count": 167,
     "metadata": {},
     "output_type": "execute_result"
    }
   ],
   "source": [
    "np.argmax(resultsepic==205050711)"
   ]
  },
  {
   "cell_type": "code",
   "execution_count": 169,
   "metadata": {
    "collapsed": false
   },
   "outputs": [
    {
     "data": {
      "text/plain": [
       "(205050711,\n",
       " (array([ 889.66115018,  831.3255504 ,  737.12405853, ...,  185.66103719,\n",
       "          192.91436414,  192.97686111]),\n",
       "  4.297779085547411,\n",
       "  3070.45678126279,\n",
       "  10486.948119267196,\n",
       "  0.09469153515064563,\n",
       "  9,\n",
       "  9))"
      ]
     },
     "execution_count": 169,
     "metadata": {},
     "output_type": "execute_result"
    }
   ],
   "source": [
    "results[278]"
   ]
  }
 ],
 "metadata": {
  "kernelspec": {
   "display_name": "Python 2",
   "language": "python",
   "name": "python2"
  },
  "language_info": {
   "codemirror_mode": {
    "name": "ipython",
    "version": 2
   },
   "file_extension": ".py",
   "mimetype": "text/x-python",
   "name": "python",
   "nbconvert_exporter": "python",
   "pygments_lexer": "ipython2",
   "version": "2.7.10"
  }
 },
 "nbformat": 4,
 "nbformat_minor": 0
}
