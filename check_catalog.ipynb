{
 "cells": [
  {
   "cell_type": "markdown",
   "metadata": {},
   "source": [
    "I discovered that not all of our lightcurves have catalog entries"
   ]
  },
  {
   "cell_type": "code",
   "execution_count": 1,
   "metadata": {
    "collapsed": true
   },
   "outputs": [],
   "source": [
    "%matplotlib inline\n",
    "import pickle, os, sys\n",
    "from astropy.io import ascii\n",
    "import numpy as np\n",
    "sys.path.append(\"/k2_data/swarced/\")\n",
    "import swarced as sw\n",
    "import h5py"
   ]
  },
  {
   "cell_type": "markdown",
   "metadata": {},
   "source": [
    "Load the catalog"
   ]
  },
  {
   "cell_type": "code",
   "execution_count": 2,
   "metadata": {
    "collapsed": false
   },
   "outputs": [],
   "source": [
    "catalog = h5py.File(\"/k2_data/catalogs/epic.h5\",\"r\")\n",
    "catalog= catalog['epic']['table']\n",
    "catalog_epic = catalog['values_block_1'][:,0]"
   ]
  },
  {
   "cell_type": "markdown",
   "metadata": {},
   "source": [
    "Now load all the epic_id in Campaign 2"
   ]
  },
  {
   "cell_type": "code",
   "execution_count": 3,
   "metadata": {
    "collapsed": false
   },
   "outputs": [],
   "source": [
    "all_lc = ascii.read(\"/k2_data/all_c2_lcs\")\n",
    "all_lc = [fn for fn in all_lc['filenames'] if \".fits\" in fn]\n",
    "all_lc_epic = [int(fn.split(\"/\")[-1][4:13]) for fn in all_lc]"
   ]
  },
  {
   "cell_type": "markdown",
   "metadata": {},
   "source": [
    "Now test whether the epic_id is in the catalog"
   ]
  },
  {
   "cell_type": "code",
   "execution_count": 4,
   "metadata": {
    "collapsed": false
   },
   "outputs": [
    {
     "data": {
      "text/plain": [
       "array([205335969, 205335900, 205375290, ..., 205453415, 205453725,\n",
       "       205453328])"
      ]
     },
     "execution_count": 4,
     "metadata": {},
     "output_type": "execute_result"
    }
   ],
   "source": [
    "test = [int(epic) in catalog_epic for epic in all_lc_epic]\n",
    "all_lc,all_lc_epic = np.array(all_lc), np.array(all_lc_epic)\n",
    "test = np.array(test)\n",
    "all_lc[test]#files in catalog\n",
    "all_lc_epic[test]#epicIDs in catalog"
   ]
  },
  {
   "cell_type": "markdown",
   "metadata": {},
   "source": [
    "So we have 13401 lightcurves in the catalog"
   ]
  },
  {
   "cell_type": "code",
   "execution_count": 5,
   "metadata": {
    "collapsed": false
   },
   "outputs": [
    {
     "data": {
      "text/plain": [
       "13401"
      ]
     },
     "execution_count": 5,
     "metadata": {},
     "output_type": "execute_result"
    }
   ],
   "source": [
    "len(all_lc[test])"
   ]
  },
  {
   "cell_type": "markdown",
   "metadata": {},
   "source": [
    "Let's save these for using in other code"
   ]
  },
  {
   "cell_type": "code",
   "execution_count": 3,
   "metadata": {
    "collapsed": false
   },
   "outputs": [],
   "source": [
    "pickle.dump(catalog_epic, open(\"/k2_data/epic_in_catalog.pkl\",\"w\"))"
   ]
  }
 ],
 "metadata": {
  "kernelspec": {
   "display_name": "Python 2",
   "language": "python",
   "name": "python2"
  },
  "language_info": {
   "codemirror_mode": {
    "name": "ipython",
    "version": 2
   },
   "file_extension": ".py",
   "mimetype": "text/x-python",
   "name": "python",
   "nbconvert_exporter": "python",
   "pygments_lexer": "ipython2",
   "version": "2.7.10"
  }
 },
 "nbformat": 4,
 "nbformat_minor": 0
}
