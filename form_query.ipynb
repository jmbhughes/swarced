{
 "cells": [
  {
   "cell_type": "markdown",
   "metadata": {},
   "source": [
    "For any execution of a ketu run, you must have a query  dictionary. For bulk runs without cacheing we've chosen to make query files that are then loaded into ketu. "
   ]
  },
  {
   "cell_type": "code",
   "execution_count": 4,
   "metadata": {
    "collapsed": false
   },
   "outputs": [],
   "source": [
    "import swarced as sw\n",
    "from astropy.io import ascii\n",
    "import random"
   ]
  },
  {
   "cell_type": "markdown",
   "metadata": {},
   "source": [
    "Loads the Kepler EB catalog for campaign 0 because that was the subset I wanted to form queries for"
   ]
  },
  {
   "cell_type": "markdown",
   "metadata": {},
   "source": [
    "Loads the Kepler EB catalog for campaign 0 because that was the subset I wanted to form queries for"
   ]
  },
  {
   "cell_type": "code",
   "execution_count": 2,
   "metadata": {
    "collapsed": true
   },
   "outputs": [],
   "source": [
    "r = ascii.read(\"/k2_data/c0_EB\")"
   ]
  },
  {
   "cell_type": "markdown",
   "metadata": {},
   "source": [
    "Iterates over the names of the objects and then creates default queries stored at location path"
   ]
  },
  {
   "cell_type": "code",
   "execution_count": 3,
   "metadata": {
    "collapsed": false
   },
   "outputs": [],
   "source": [
    "for epicID in r['KIC/EPIC']:\n",
    "    path = \"/k2_data/query/\"\n",
    "    path += \"k2_epic\" + str(epicID) + \".query\"\n",
    "    sw.save_query(sw.get_query(epicID, 0), open(path,'wb'))    "
   ]
  },
  {
   "cell_type": "code",
   "execution_count": 3,
   "metadata": {
    "collapsed": false
   },
   "outputs": [],
   "source": [
    "r = ascii.read(\"/k2_data/c0_EB\")"
   ]
  },
  {
   "cell_type": "code",
   "execution_count": 12,
   "metadata": {
    "collapsed": false
   },
   "outputs": [],
   "source": [
    "qq=random.sample(range(len(r)),10)"
   ]
  },
  {
   "cell_type": "code",
   "execution_count": 13,
   "metadata": {
    "collapsed": false
   },
   "outputs": [
    {
     "data": {
      "text/plain": [
       "[5, 51, 11, 85, 132, 54, 77, 107, 69, 14]"
      ]
     },
     "execution_count": 13,
     "metadata": {},
     "output_type": "execute_result"
    }
   ],
   "source": [
    "qq"
   ]
  },
  {
   "cell_type": "code",
   "execution_count": 14,
   "metadata": {
    "collapsed": false
   },
   "outputs": [
    {
     "data": {
      "text/html": [
       "&lt;Table masked=False length=10&gt;\n",
       "<table id=\"table2935364300\">\n",
       "<thead><tr><th>KIC/EPIC</th><th>Campaign</th><th>period</th><th>period error</th><th>bjd0</th><th>pdepth</th><th>sdepth</th><th>pwidth</th><th>swidth</th><th>sep</th></tr></thead>\n",
       "<thead><tr><th>int32</th><th>string40</th><th>float64</th><th>float64</th><th>float64</th><th>float64</th><th>float64</th><th>float64</th><th>float64</th><th>float64</th></tr></thead>\n",
       "<tr><td>202073353</td><td>K2C0</td><td>0.3712502</td><td>5.89e-05</td><td>56774.704279</td><td>0.025</td><td>0.0201</td><td>0.1297</td><td>0.0687</td><td>0.5183</td></tr>\n",
       "<tr><td>202073117</td><td>K2C0</td><td>1.7622768</td><td>0.0005436</td><td>56775.965047</td><td>0.6443</td><td>0.0973</td><td>0.1533</td><td>0.142</td><td>0.5039</td></tr>\n",
       "<tr><td>202073297</td><td>K2C0</td><td>0.5274345</td><td>9.83e-05</td><td>56774.459154</td><td>0.5846</td><td>0.2189</td><td>0.1562</td><td>0.1379</td><td>0.5064</td></tr>\n",
       "<tr><td>202071579</td><td>K2C0</td><td>3.1272514</td><td>0.0011813</td><td>56774.415638</td><td>0.0862</td><td>0.0715</td><td>0.0542</td><td>0.0486</td><td>0.5019</td></tr>\n",
       "<tr><td>202060911</td><td>K2C0</td><td>7.0249772</td><td>0.0038107</td><td>56778.840625</td><td>0.0573</td><td>0.0193</td><td>0.0257</td><td>0.0303</td><td>0.5006</td></tr>\n",
       "<tr><td>202060506</td><td>K2C0</td><td>1.9597767</td><td>0.0006381</td><td>56775.796171</td><td>0.2003</td><td>0.0781</td><td>0.102</td><td>0.1125</td><td>0.5132</td></tr>\n",
       "<tr><td>202071731</td><td>K2C0</td><td>2.7402551</td><td>0.0009445</td><td>56775.070483</td><td>0.121</td><td>0.0707</td><td>0.0803</td><td>0.0827</td><td>0.5005</td></tr>\n",
       "<tr><td>202071842</td><td>K2C0</td><td>4.1680978</td><td>0.001923</td><td>56776.036702</td><td>0.0652</td><td>0.0085</td><td>0.0332</td><td>0.0346</td><td>0.5005</td></tr>\n",
       "<tr><td>202094234</td><td>K2C0</td><td>2.4207768</td><td>0.0008402</td><td>56769.726714</td><td>0.1695</td><td>0.1675</td><td>0.0996</td><td>0.0976</td><td>0.4989</td></tr>\n",
       "<tr><td>202073185</td><td>K2C0</td><td>0.6124805</td><td>0.0001193</td><td>56774.765354</td><td>0.296</td><td>-1.0</td><td>0.2248</td><td>-1.0</td><td>1.0</td></tr>\n",
       "</table>"
      ],
      "text/plain": [
       "<Table masked=False length=10>\n",
       " KIC/EPIC Campaign   period  period error ...  sdepth  pwidth  swidth   sep  \n",
       "  int32   string40  float64    float64    ... float64 float64 float64 float64\n",
       "--------- -------- --------- ------------ ... ------- ------- ------- -------\n",
       "202073353    K2C0  0.3712502     5.89e-05 ...  0.0201  0.1297  0.0687  0.5183\n",
       "202073117    K2C0  1.7622768    0.0005436 ...  0.0973  0.1533   0.142  0.5039\n",
       "202073297    K2C0  0.5274345     9.83e-05 ...  0.2189  0.1562  0.1379  0.5064\n",
       "202071579    K2C0  3.1272514    0.0011813 ...  0.0715  0.0542  0.0486  0.5019\n",
       "202060911    K2C0  7.0249772    0.0038107 ...  0.0193  0.0257  0.0303  0.5006\n",
       "202060506    K2C0  1.9597767    0.0006381 ...  0.0781   0.102  0.1125  0.5132\n",
       "202071731    K2C0  2.7402551    0.0009445 ...  0.0707  0.0803  0.0827  0.5005\n",
       "202071842    K2C0  4.1680978     0.001923 ...  0.0085  0.0332  0.0346  0.5005\n",
       "202094234    K2C0  2.4207768    0.0008402 ...  0.1675  0.0996  0.0976  0.4989\n",
       "202073185    K2C0  0.6124805    0.0001193 ...    -1.0  0.2248    -1.0     1.0"
      ]
     },
     "execution_count": 14,
     "metadata": {},
     "output_type": "execute_result"
    }
   ],
   "source": [
    "r[qq]"
   ]
  },
  {
   "cell_type": "code",
   "execution_count": 18,
   "metadata": {
    "collapsed": false
   },
   "outputs": [
    {
     "data": {
      "text/plain": [
       "[5, 51, 11, 85, 132, 54, 77, 107, 69, 14]"
      ]
     },
     "execution_count": 18,
     "metadata": {},
     "output_type": "execute_result"
    }
   ],
   "source": [
    "qq"
   ]
  },
  {
   "cell_type": "code",
   "execution_count": 15,
   "metadata": {
    "collapsed": false
   },
   "outputs": [
    {
     "data": {
      "text/plain": [
       "<module 'swarced' from 'swarced.py'>"
      ]
     },
     "execution_count": 15,
     "metadata": {},
     "output_type": "execute_result"
    }
   ],
   "source": [
    "reload(sw)"
   ]
  },
  {
   "cell_type": "code",
   "execution_count": 19,
   "metadata": {
    "collapsed": true
   },
   "outputs": [],
   "source": [
    "for epicID in r['KIC/EPIC'][qq]:\n",
    "    path = \"/k2_data/swarced/timing/\"\n",
    "    path += \"k2_epic\" + str(epicID) + \".query\"\n",
    "    sw.save_query(sw.get_query(epicID, 0), open(path,'wb'))    "
   ]
  },
  {
   "cell_type": "code",
   "execution_count": null,
   "metadata": {
    "collapsed": true
   },
   "outputs": [],
   "source": []
  }
 ],
 "metadata": {
  "kernelspec": {
   "display_name": "Python 2",
   "language": "python",
   "name": "python2"
  },
  "language_info": {
   "codemirror_mode": {
    "name": "ipython",
    "version": 2
   },
   "file_extension": ".py",
   "mimetype": "text/x-python",
   "name": "python",
   "nbconvert_exporter": "python",
   "pygments_lexer": "ipython2",
   "version": "2.7.10"
  }
 },
 "nbformat": 4,
 "nbformat_minor": 0
}
