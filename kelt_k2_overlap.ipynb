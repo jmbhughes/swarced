{
 "cells": [
  {
   "cell_type": "code",
   "execution_count": 3,
   "metadata": {
    "collapsed": true
   },
   "outputs": [],
   "source": [
    "%matplotlib inline\n",
    "import swarced as sw\n",
    "from astropy.io import ascii\n",
    "import random\n",
    "import numpy as np\n",
    "import matplotlib.pyplot as pl\n",
    "from astropy.io import ascii"
   ]
  },
  {
   "cell_type": "code",
   "execution_count": 5,
   "metadata": {
    "collapsed": false
   },
   "outputs": [],
   "source": [
    "eb = ascii.read(\"/k2_data/c0_EB\")\n",
    "matched = ascii.read(\"/kelt_data/matched_c0.dat\")"
   ]
  },
  {
   "cell_type": "code",
   "execution_count": 14,
   "metadata": {
    "collapsed": false
   },
   "outputs": [
    {
     "data": {
      "text/plain": [
       "511"
      ]
     },
     "execution_count": 14,
     "metadata": {},
     "output_type": "execute_result"
    }
   ],
   "source": [
    "np.argmax(matched['col1'] == eb['KIC/EPIC'][3])"
   ]
  },
  {
   "cell_type": "code",
   "execution_count": 22,
   "metadata": {
    "collapsed": false
   },
   "outputs": [
    {
     "data": {
      "text/plain": [
       "False"
      ]
     },
     "execution_count": 22,
     "metadata": {},
     "output_type": "execute_result"
    }
   ],
   "source": [
    "matched[np.argmax(matched['col1'] == eb['KIC/EPIC'][3])]['col5']!='0'"
   ]
  },
  {
   "cell_type": "code",
   "execution_count": 47,
   "metadata": {
    "collapsed": false
   },
   "outputs": [
    {
     "data": {
      "text/plain": [
       "2121"
      ]
     },
     "execution_count": 47,
     "metadata": {},
     "output_type": "execute_result"
    }
   ],
   "source": [
    "len(matched)"
   ]
  },
  {
   "cell_type": "code",
   "execution_count": 45,
   "metadata": {
    "collapsed": false
   },
   "outputs": [
    {
     "name": "stdout",
     "output_type": "stream",
     "text": [
      "202073353 KELT_N04_lc_040654_V01_east_raw.dat KELT_N04_lc_066384_V01_west_raw.dat\n",
      "202064535 KELT_N04_lc_103973_V01_east_raw.dat KELT_N04_lc_140063_V01_west_raw.dat\n",
      "202060577 KELT_N04_lc_005411_V01_east_raw.dat KELT_N04_lc_040103_V01_west_raw.dat\n",
      "202139294 KELT_N04_lc_035443_V01_east_raw.dat KELT_N04_lc_013378_V01_west_raw.dat\n",
      "202073186 KELT_N04_lc_016313_V01_east_raw.dat KELT_N04_lc_124808_V01_west_raw.dat\n",
      "202073145 KELT_N04_lc_041808_V01_east_raw.dat KELT_N04_lc_062625_V01_west_raw.dat\n",
      "202059377 KELT_N04_lc_008224_V01_east_raw.dat KELT_N04_lc_065551_V01_west_raw.dat\n",
      "202094117 KELT_N04_lc_020184_V01_east_raw.dat KELT_N04_lc_024538_V01_west_raw.dat\n",
      "202088191 KELT_N04_lc_026957_V01_east_raw.dat KELT_N04_lc_035386_V01_west_raw.dat\n",
      "202091545 KELT_N04_lc_047612_V01_east_raw.dat nan\n",
      "202072061 KELT_N04_lc_024822_V01_east_raw.dat KELT_N04_lc_068828_V01_west_raw.dat\n",
      "202093968 KELT_N04_lc_001519_V01_east_raw.dat KELT_N04_lc_007452_V01_west_raw.dat\n",
      "202065802 KELT_N04_lc_108560_V01_east_raw.dat KELT_N04_lc_068783_V01_west_raw.dat\n",
      "202072486 KELT_N05_lc_018200_V01_east_raw.dat KELT_N05_lc_027529_V01_west_raw.dat\n",
      "202060800 KELT_N04_lc_053908_V01_east_raw.dat KELT_N04_lc_024253_V01_west_raw.dat\n",
      "202071631 KELT_N04_lc_039586_V01_east_raw.dat KELT_N04_lc_016977_V01_west_raw.dat\n",
      "202072596 KELT_N04_lc_031855_V01_east_raw.dat KELT_N04_lc_033538_V01_west_raw.dat\n",
      "202060541 KELT_N04_lc_006640_V01_east_raw.dat KELT_N04_lc_018395_V01_west_raw.dat\n",
      "202060124 KELT_N04_lc_001079_V01_east_raw.dat KELT_N04_lc_025571_V01_west_raw.dat\n",
      "202071828 KELT_N04_lc_016866_V01_east_raw.dat KELT_N04_lc_039900_V01_west_raw.dat\n",
      "202072991 KELT_N04_lc_069591_V01_east_raw.dat KELT_N04_lc_092789_V01_west_raw.dat\n",
      "202065819 nan KELT_N04_lc_107286_V01_west_raw.dat\n",
      "202072282 KELT_N04_lc_010402_V01_east_raw.dat KELT_N04_lc_010318_V01_west_raw.dat\n",
      "202060523 KELT_N04_lc_000572_V01_east_raw.dat KELT_N04_lc_020076_V01_west_raw.dat\n",
      "202064080 nan KELT_N04_lc_039551_V01_west_raw.dat\n",
      "202091278 nan KELT_N05_lc_060758_V01_west_raw.dat\n"
     ]
    }
   ],
   "source": [
    "for epicid in eb['KIC/EPIC']:\n",
    "    if epicid in matched['col1']:\n",
    "        loc = np.argmax(matched['col1'] == epicid)\n",
    "        if matched[loc]['col5'] != '0' or matched[loc]['col6'] != '0':\n",
    "            print epicid, matched[loc]['col5'], matched[loc]['col6']"
   ]
  },
  {
   "cell_type": "code",
   "execution_count": 38,
   "metadata": {
    "collapsed": false
   },
   "outputs": [
    {
     "data": {
      "text/plain": [
       "\"<type 'str'>\""
      ]
     },
     "execution_count": 38,
     "metadata": {},
     "output_type": "execute_result"
    }
   ],
   "source": [
    "str(type(\"sljigwe\"))"
   ]
  },
  {
   "cell_type": "code",
   "execution_count": 23,
   "metadata": {
    "collapsed": false
   },
   "outputs": [
    {
     "data": {
      "text/plain": [
       "[False,\n",
       " True,\n",
       " True,\n",
       " False,\n",
       " False,\n",
       " True,\n",
       " True,\n",
       " True,\n",
       " False,\n",
       " True,\n",
       " False,\n",
       " True,\n",
       " True,\n",
       " True,\n",
       " True,\n",
       " False,\n",
       " False,\n",
       " True,\n",
       " False,\n",
       " False,\n",
       " True,\n",
       " True,\n",
       " True,\n",
       " False,\n",
       " False,\n",
       " True,\n",
       " False,\n",
       " True,\n",
       " True,\n",
       " False,\n",
       " True,\n",
       " False,\n",
       " False,\n",
       " False,\n",
       " False,\n",
       " True,\n",
       " False,\n",
       " True,\n",
       " True,\n",
       " False,\n",
       " False,\n",
       " True,\n",
       " True,\n",
       " False,\n",
       " False,\n",
       " False,\n",
       " True,\n",
       " False,\n",
       " True,\n",
       " True,\n",
       " False]"
      ]
     },
     "execution_count": 23,
     "metadata": {},
     "output_type": "execute_result"
    }
   ],
   "source": [
    "[matched[np.argmax(matched['col1'] == epicid)]['col5']!='0' for epicid in eb['KIC/EPIC'] if epicid in matched['col1'] ]"
   ]
  },
  {
   "cell_type": "code",
   "execution_count": 54,
   "metadata": {
    "collapsed": false
   },
   "outputs": [
    {
     "data": {
      "text/plain": [
       "array([ 73.        ,  73.30103   ,  73.47712125, ...,  77.99999131,\n",
       "        77.99999566,  78.        ])"
      ]
     },
     "execution_count": 54,
     "metadata": {},
     "output_type": "execute_result"
    }
   ],
   "source": [
    "np.log10(np.arange(1e73, 1e78, 1e73))"
   ]
  },
  {
   "cell_type": "code",
   "execution_count": 52,
   "metadata": {
    "collapsed": false
   },
   "outputs": [
    {
     "data": {
      "text/plain": [
       "numpy.float64"
      ]
     },
     "execution_count": 52,
     "metadata": {},
     "output_type": "execute_result"
    }
   ],
   "source": [
    "type(np.log10(10.e100))"
   ]
  }
 ],
 "metadata": {
  "kernelspec": {
   "display_name": "Python 2",
   "language": "python",
   "name": "python2"
  },
  "language_info": {
   "codemirror_mode": {
    "name": "ipython",
    "version": 2
   },
   "file_extension": ".py",
   "mimetype": "text/x-python",
   "name": "python",
   "nbconvert_exporter": "python",
   "pygments_lexer": "ipython2",
   "version": "2.7.10"
  }
 },
 "nbformat": 4,
 "nbformat_minor": 0
}
