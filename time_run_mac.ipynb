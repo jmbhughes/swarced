{
 "cells": [
  {
   "cell_type": "markdown",
   "metadata": {},
   "source": [
    "We wanted to check the runtime for the ketu code in our configuration."
   ]
  },
  {
   "cell_type": "code",
   "execution_count": 1,
   "metadata": {
    "collapsed": true
   },
   "outputs": [],
   "source": [
    "import swarced as sw\n",
    "import time, pickle, random, os, run\n",
    "import numpy as np\n",
    "import multiprocessing as mp"
   ]
  },
  {
   "cell_type": "code",
   "execution_count": 2,
   "metadata": {
    "collapsed": true
   },
   "outputs": [],
   "source": [
    "qlist = os.listdir(\"./timing\")"
   ]
  },
  {
   "cell_type": "markdown",
   "metadata": {},
   "source": [
    "#No parallel "
   ]
  },
  {
   "cell_type": "code",
   "execution_count": 63,
   "metadata": {
    "collapsed": false
   },
   "outputs": [],
   "source": [
    "qlist = os.listdir(\"./timing/\")\n",
    "t = np.array([])\n",
    "for q in random.sample(qlist,5):\n",
    "    start = time.time()\n",
    "    os.system(\"python run.py \" + q[7:-6] + \" 0 /k2_data/query/\" + q)\n",
    "    t = np.append(t,time.time()-start)"
   ]
  },
  {
   "cell_type": "markdown",
   "metadata": {},
   "source": [
    "Without parallel processing each cycle took about 490 seconds with a standard deviation in a sample of 5 of 10 seconds. That means for 5 tasks it took about 40 minutes."
   ]
  },
  {
   "cell_type": "code",
   "execution_count": 65,
   "metadata": {
    "collapsed": false
   },
   "outputs": [
    {
     "data": {
      "text/plain": [
       "490.52086238861085"
      ]
     },
     "execution_count": 65,
     "metadata": {},
     "output_type": "execute_result"
    }
   ],
   "source": [
    "np.mean(t)"
   ]
  },
  {
   "cell_type": "code",
   "execution_count": 69,
   "metadata": {
    "collapsed": false
   },
   "outputs": [
    {
     "data": {
      "text/plain": [
       "9.9701895198145252"
      ]
     },
     "execution_count": 69,
     "metadata": {},
     "output_type": "execute_result"
    }
   ],
   "source": [
    "np.std(t)"
   ]
  },
  {
   "cell_type": "code",
   "execution_count": 71,
   "metadata": {
    "collapsed": false
   },
   "outputs": [
    {
     "data": {
      "text/plain": [
       "40.876738532384238"
      ]
     },
     "execution_count": 71,
     "metadata": {},
     "output_type": "execute_result"
    }
   ],
   "source": [
    "np.sum(t)/60."
   ]
  },
  {
   "cell_type": "markdown",
   "metadata": {},
   "source": [
    "#Multiprocessing "
   ]
  },
  {
   "cell_type": "markdown",
   "metadata": {},
   "source": [
    "##MAC: Nicole"
   ]
  },
  {
   "cell_type": "code",
   "execution_count": 9,
   "metadata": {
    "collapsed": true
   },
   "outputs": [],
   "source": [
    "import multiprocessing as mp"
   ]
  },
  {
   "cell_type": "code",
   "execution_count": 3,
   "metadata": {
    "collapsed": false
   },
   "outputs": [],
   "source": [
    "def single_run(qfile):\n",
    "    start = time.time()\n",
    "    #python run.py epicID campaign query_file_path\n",
    "    #os.system(\"python run.py \" + qfile[4:-2] + \" 0 /k2_data/query/\" + qfile)\n",
    "    run.main([qfile[7:-6], 0, \"/Users/mhughes/swarced/timing/\" + qfile])\n",
    "    return time.time() - start"
   ]
  },
  {
   "cell_type": "code",
   "execution_count": 8,
   "metadata": {
    "collapsed": false
   },
   "outputs": [
    {
     "name": "stdout",
     "output_type": "stream",
     "text": [
      "{'time_spacing': 0.1, 'durations': [0.05, 0.1, 0.2, 0.3, 0.4, 0.5, 0.6, 0.7, 0.8, 0.9, 1.0], 'max_period': 70.0, 'nbasis': 150, 'light_curve_file': '/Users/mhughes/swarced/lcs/ktwo202060506-c00_lpd-lc.fits', 'initial_time': 1940.0, 'min_period': 0.5, 'basis_file': '/Users/mhughes/Desktop/c0.h5', 'catalog_file': '/Users/mhughes/Desktop/epic.h5'}\n",
      "{'time_spacing': 0.1, 'durations': [0.05, 0.1, 0.2, 0.3, 0.4, 0.5, 0.6, 0.7, 0.8, 0.9, 1.0], 'max_period': 70.0, 'nbasis': 150, 'light_curve_file': '/Users/mhughes/swarced/lcs/ktwo202060911-c00_lpd-lc.fits', 'initial_time': 1940.0, 'min_period': 0.5, 'basis_file': '/Users/mhughes/Desktop/c0.h5', 'catalog_file': '/Users/mhughes/Desktop/epic.h5'}\n",
      "{'time_spacing': 0.1, 'durations': [0.05, 0.1, 0.2, 0.3, 0.4, 0.5, 0.6, 0.7, 0.8, 0.9, 1.0], 'max_period': 70.0, 'nbasis': 150, 'light_curve_file': '/Users/mhughes/swarced/lcs/ktwo202071579-c00_lpd-lc.fits', 'initial_time': 1940.0, 'min_period': 0.5, 'basis_file': '/Users/mhughes/Desktop/c0.h5', 'catalog_file': '/Users/mhughes/Desktop/epic.h5'}\n",
      "{'time_spacing': 0.1, 'durations': [0.05, 0.1, 0.2, 0.3, 0.4, 0.5, 0.6, 0.7, 0.8, 0.9, 1.0], 'max_period': 70.0, 'nbasis': 150, 'light_curve_file': '/Users/mhughes/swarced/lcs/ktwo202071731-c00_lpd-lc.fits', 'initial_time': 1940.0, 'min_period': 0.5, 'basis_file': '/Users/mhughes/Desktop/c0.h5', 'catalog_file': '/Users/mhughes/Desktop/epic.h5'}\n",
      "{'time_spacing': 0.1, 'durations': [0.05, 0.1, 0.2, 0.3, 0.4, 0.5, 0.6, 0.7, 0.8, 0.9, 1.0], 'max_period': 70.0, 'nbasis': 150, 'light_curve_file': '/Users/mhughes/swarced/lcs/ktwo202071842-c00_lpd-lc.fits', 'initial_time': 1940.0, 'min_period': 0.5, 'basis_file': '/Users/mhughes/Desktop/c0.h5', 'catalog_file': '/Users/mhughes/Desktop/epic.h5'}\n",
      "{'time_spacing': 0.1, 'durations': [0.05, 0.1, 0.2, 0.3, 0.4, 0.5, 0.6, 0.7, 0.8, 0.9, 1.0], 'max_period': 70.0, 'nbasis': 150, 'light_curve_file': '/Users/mhughes/swarced/lcs/ktwo202073117-c00_lpd-lc.fits', 'initial_time': 1940.0, 'min_period': 0.5, 'basis_file': '/Users/mhughes/Desktop/c0.h5', 'catalog_file': '/Users/mhughes/Desktop/epic.h5'}\n",
      "{'time_spacing': 0.1, 'durations': [0.05, 0.1, 0.2, 0.3, 0.4, 0.5, 0.6, 0.7, 0.8, 0.9, 1.0], 'max_period': 70.0, 'nbasis': 150, 'light_curve_file': '/Users/mhughes/swarced/lcs/ktwo202073185-c00_lpd-lc.fits', 'initial_time': 1940.0, 'min_period': 0.5, 'basis_file': '/Users/mhughes/Desktop/c0.h5', 'catalog_file': '/Users/mhughes/Desktop/epic.h5'}\n",
      "{'time_spacing': 0.1, 'durations': [0.05, 0.1, 0.2, 0.3, 0.4, 0.5, 0.6, 0.7, 0.8, 0.9, 1.0], 'max_period': 70.0, 'nbasis': 150, 'light_curve_file': '/Users/mhughes/swarced/lcs/ktwo202073297-c00_lpd-lc.fits', 'initial_time': 1940.0, 'min_period': 0.5, 'basis_file': '/Users/mhughes/Desktop/c0.h5', 'catalog_file': '/Users/mhughes/Desktop/epic.h5'}\n",
      "{'time_spacing': 0.1, 'durations': [0.05, 0.1, 0.2, 0.3, 0.4, 0.5, 0.6, 0.7, 0.8, 0.9, 1.0], 'max_period': 70.0, 'nbasis': 150, 'light_curve_file': '/Users/mhughes/swarced/lcs/ktwo202073353-c00_lpd-lc.fits', 'initial_time': 1940.0, 'min_period': 0.5, 'basis_file': '/Users/mhughes/Desktop/c0.h5', 'catalog_file': '/Users/mhughes/Desktop/epic.h5'}\n",
      "{'time_spacing': 0.1, 'durations': [0.05, 0.1, 0.2, 0.3, 0.4, 0.5, 0.6, 0.7, 0.8, 0.9, 1.0], 'max_period': 70.0, 'nbasis': 150, 'light_curve_file': '/Users/mhughes/swarced/lcs/ktwo202094234-c00_lpd-lc.fits', 'initial_time': 1940.0, 'min_period': 0.5, 'basis_file': '/Users/mhughes/Desktop/c0.h5', 'catalog_file': '/Users/mhughes/Desktop/epic.h5'}\n"
     ]
    }
   ],
   "source": [
    "for q in qlist:\n",
    "    qdict = pickle.load(open('./timing/'+q,'r'))\n",
    "    qdict['light_curve_file'] = '/Users/mhughes/swarced/lcs/ktwo' + str(q[7:-6]) + \"-c00_lpd-lc.fits\"\n",
    "    qdict['catalog_file'] = '/Users/mhughes/Desktop/epic.h5'\n",
    "    qdict['basis_file'] = '/Users/mhughes/Desktop/c0.h5'\n",
    "    #qdict['basis_file'] = '/Users/mhughes/Desktop/c0.h5'\n",
    "    sw.save_query(qdict, open(\"./timing/\" + q, 'wb'))\n",
    "    print qdict "
   ]
  },
  {
   "cell_type": "code",
   "execution_count": 9,
   "metadata": {
    "collapsed": false
   },
   "outputs": [
    {
     "name": "stdout",
     "output_type": "stream",
     "text": [
      "[232.20171999931335, 235.84447479248047, 233.06574201583862, 223.180645942688, 230.8668520450592, 229.57680892944336, 235.47874188423157, 233.97993993759155, 209.92388916015625, 206.61473202705383]\n",
      "Querying Data\n",
      "Querying Data\n",
      "Querying Data\n",
      "Querying Data\n",
      "Finished querying Data in 0.63sFinished querying Data in 0.61sFinished querying Data in 0.61sFinished querying Data in 0.62s\n",
      "\n",
      "\n",
      "\n",
      "Querying Likelihood\n",
      "Querying Likelihood\n",
      "Querying Likelihood\n",
      "Querying Likelihood\n",
      "tau = 0.947937011719tau = 0.947937011719tau = 0.942840576172tau = 0.947937011719\n",
      "\n",
      "\n",
      "\n",
      "158 181\n",
      "173 184\n",
      "148 181\n",
      "153 181\n",
      "142 158\n",
      "168 173\n",
      "138 148\n",
      "139 153\n",
      "141 142\n",
      "174 168\n",
      "132 138\n",
      "131 139\n",
      "149 141\n",
      "174 174\n",
      "134 132\n",
      "135 131\n",
      "150 149\n",
      "tau = 0.947937011719\n",
      "134 134\n",
      "140 135\n",
      "150 150\n",
      "tau = 1.62066650391tau = 0.942840576172\n",
      "140 140\n",
      "tau = 0.927551269531\n",
      "\n",
      "tau = 1.04476928711\n",
      "tau = 0.947937011719\n",
      "tau = 0.698211669922\n",
      "297 311\n",
      "257 313\n",
      "tau = 0.703308105469\n",
      "264 304\n",
      "288 297\n",
      "238 257\n",
      "263 304\n",
      "241 264\n",
      "287 288\n",
      "238 238\n",
      "248 263\n",
      "244 241\n",
      "290 287\n",
      "tau = 1.04986572266\n",
      "230 248\n",
      "243 244\n",
      "289 290\n",
      "tau = 0.983612060547235 230\n",
      "242 243\n",
      "292 289\n",
      "\n",
      "232 235\n",
      "240 242\n",
      "292 292\n",
      "1428228 232\n",
      "240 240\n",
      "tau = 1.62066650391\n",
      " 1707\n",
      "225 228\n",
      "tau = 1.62066650391\n",
      "tau = 1.753173828121340224 225\n",
      "tau = 0.779754638672\n",
      " 1428\n",
      "224 224\n",
      "\n",
      "16301293tau = 1.61047363281\n",
      "1421 1708\n",
      " 1340\n",
      "tau = 0.677825927734 1663\n",
      "15851271\n",
      "1366 1630\n",
      " 1293\n",
      "1533 1421\n",
      "15821277 1680\n",
      "1386 1585\n",
      " 1271\n",
      "1429 1366\n",
      "16021289 1533\n",
      "1394 1582\n",
      " 1277\n",
      "1348 1386\n",
      "16171290 1429\n",
      "1403 1602\n",
      " 1289\n",
      "1318 1394\n",
      "16181291 1348\n",
      "1412 1617\n",
      " 1290\n",
      "1295 1403\n",
      "16181293 1318\n",
      "1415 1618\n",
      " 1291\n",
      "1281 1412\n",
      "tau = 1.75317382812\n",
      "1295 1295\n",
      "1415Finished querying Likelihood in 2.52s 1293\n",
      "1274 1415\n",
      "\n",
      "tau = 2.46157836914 1281\n",
      "tau = 0.784851074219\n",
      "Querying OneDSearch\n",
      "\n",
      "1274Finished querying Likelihood in 2.37sFinished querying OneDSearch in 47.08sFinished querying Likelihood in 2.54s 1274\n",
      "\n",
      "\n",
      "\n",
      "tau = 2.05386352539\n",
      "Querying OneDSearch\n",
      "Querying TwoDSearch\n",
      "Querying OneDSearch\n",
      "Finished querying Likelihood in 2.33sFinished querying OneDSearch in 44.67sFinished querying TwoDSearch in 185.14sFinished querying OneDSearch in 43.57s\n",
      "\n",
      "\n",
      "\n",
      "Querying OneDSearch\n",
      "Querying TwoDSearch\n",
      "Querying PeakDetect\n",
      "Querying TwoDSearch\n",
      "Finished querying OneDSearch in 34.76sFinished querying TwoDSearch in 184.83sFinished querying PeakDetect in 0.36sFinished querying TwoDSearch in 184.98s\n",
      "\n",
      "\n",
      "\n",
      "Querying TwoDSearch\n",
      "Querying PeakDetect\n",
      "Querying DataQuerying PeakDetect\n",
      "Finished querying TwoDSearch in 184.84sFinished querying PeakDetect in 0.46s\n",
      "Finished querying PeakDetect in 0.39s\n",
      "\n",
      "Finished querying Data in 0.54s\n",
      "Querying PeakDetect\n",
      "Querying Data\n",
      "Querying DataFinished querying PeakDetect in 0.55s\n",
      "Querying Likelihood\n",
      "\n",
      "\n",
      "Finished querying Data in 0.58stau = 0.947937011719\n",
      "Finished querying Data in 0.46sQuerying Data\n",
      "186 186\n",
      "\n",
      "\n",
      "Querying Likelihood\n",
      "tau = 0.947937011719\n",
      "Querying Likelihood\n",
      "Finished querying Data in 0.33stau = 0.917358398438\n",
      "tau = 0.932647705078\n",
      "tau = 0.947937011719\n",
      "\n",
      "171 183\n",
      "316 316\n",
      "155 181\n",
      "Querying Likelihood\n",
      "151 171\n",
      "tau = 0.932647705078\n",
      "146 155\n",
      "tau = 0.942840576172\n",
      "133 151\n",
      "tau = 0.983612060547144 146\n",
      "167 178\n",
      "112 133\n",
      "\n",
      "143 144\n",
      "171 167\n",
      "120 112\n",
      "1743144 143\n",
      "169 171\n",
      "123 120\n",
      " 1743\n",
      "149 144\n",
      "167 169\n"
     ]
    },
    {
     "name": "stderr",
     "output_type": "stream",
     "text": [
      "WARNING:root:Not enough peaks were found\n",
      "WARNING:root:Not enough peaks were found\n",
      "WARNING:root:Not enough peaks were found\n",
      "WARNING:root:Not enough peaks were found\n",
      "WARNING:root:Not enough peaks were found\n",
      "WARNING:root:Not enough peaks were found\n",
      "WARNING:root:Not enough peaks were found\n",
      "WARNING:root:Not enough peaks were found\n",
      "WARNING:root:Not enough peaks were found\n",
      "WARNING:root:Not enough peaks were found\n"
     ]
    },
    {
     "data": {
      "text/plain": [
       "668.4675850868225"
      ]
     },
     "execution_count": 9,
     "metadata": {},
     "output_type": "execute_result"
    },
    {
     "name": "stdout",
     "output_type": "stream",
     "text": [
      "123 123\n",
      "tau = 0.983612060547\n",
      "152 149\n",
      "166 167\n",
      "tau = 0.917358398438\n",
      "Finished querying Likelihood in 0.94s152 152\n",
      "165 166\n",
      "tau = 1.62066650391\n",
      "\n",
      "tau = 0.947937011719\n",
      "165 165\n",
      "246 314\n",
      "Querying OneDSearch\n",
      "tau = 1.62066650391\n",
      "tau = 0.942840576172\n",
      "237 246\n",
      "Finished querying OneDSearch in 49.74s270 311\n",
      "tau = 1.19256591797\n",
      "260 237\n",
      "\n",
      "254 270\n",
      "291 304\n",
      "238 260\n",
      "Querying TwoDSearch\n",
      "250 254\n",
      "285 291\n",
      "232 238\n",
      "Finished querying TwoDSearch in 182.15s256 250\n",
      "278 285\n",
      "224 232\n",
      "\n",
      "265 256\n",
      "273 278\n",
      "224 224\n",
      "Querying PeakDetect\n",
      "274 265\n",
      "269 273\n",
      "tau = 1.62066650391\n",
      "Finished querying PeakDetect in 0.51s272 274\n",
      "267 269\n",
      "tau = 0.983612060547\n",
      "272 272\n",
      "266 267\n",
      "\n",
      "tau = 1.62066650391\n",
      "266 266\n",
      "1622tau = 1.21295166016\n",
      "tau = 0.881683349609 1736\n",
      "tau = 1.40661621094\n",
      "1516\n",
      "1515 1622\n",
      "1612 1725\n",
      "1309 1661\n",
      "1413 1516\n",
      "1564 1515\n",
      "1235 1612\n",
      "1369 1309\n",
      "1535 1413\n",
      "1238 1564\n",
      "1366 1235\n",
      "1519 1369\n",
      "1173 1535\n",
      "1380 1238\n",
      "1513 1366\n",
      "1207 1519\n",
      "1391 1173\n",
      "1510 1380\n",
      "1210 1513\n",
      "1400 1207\n",
      "1510 1391\n",
      "1208 1510\n",
      "1400 1210\n",
      "tau = 1.40151977539\n",
      " 1400\n",
      "1208Finished querying Likelihood in 1.37stau = 0.881683349609\n",
      " 1208\n",
      "\n",
      "Finished querying Likelihood in 1.88stau = 0.983612060547\n",
      "Querying OneDSearch\n",
      "\n",
      "Finished querying Likelihood in 1.80sFinished querying OneDSearch in 44.80sQuerying OneDSearch\n",
      "\n",
      "\n",
      "Finished querying OneDSearch in 44.40sQuerying OneDSearch\n",
      "Querying TwoDSearch\n",
      "\n",
      "Finished querying OneDSearch in 50.04sFinished querying TwoDSearch in 183.38sQuerying TwoDSearch\n",
      "\n",
      "\n",
      "Finished querying TwoDSearch in 182.45sQuerying TwoDSearch\n",
      "Querying PeakDetect\n",
      "\n",
      "Finished querying TwoDSearch in 182.48sFinished querying PeakDetect in 0.90sQuerying PeakDetect\n",
      "\n",
      "\n",
      "Finished querying PeakDetect in 0.29sQuerying PeakDetect\n",
      "Querying Data\n",
      "Finished querying PeakDetect in 0.47s\n",
      "Querying Data\n",
      "Finished querying Data in 0.34s\n",
      "\n",
      "Finished querying Data in 0.42s\n",
      "Querying Likelihood\n",
      "Querying Likelihood\n",
      "tau = 0.902069091797\n",
      "tau = 0.902069091797\n",
      "179 179\n",
      "164 180\n",
      "tau = 0.902069091797\n",
      "150 164\n",
      "tau = 1.15689086914\n",
      "134 150\n",
      "306 306\n",
      "130 134\n",
      "tau = 1.15689086914\n",
      "127 130\n",
      "tau = 5.69781494141127 127\n",
      "\n",
      "tau = 0.942840576172\n",
      "1658tau = 1.61557006836\n",
      " 1658\n",
      "259 312\n",
      "tau = 5.69781494141\n",
      "225 259\n",
      "Finished querying Likelihood in 0.61s209 225\n",
      "\n",
      "202 209\n",
      "Querying OneDSearch\n",
      "210 202\n",
      "Finished querying OneDSearch in 32.11s230 210\n",
      "\n",
      "230 230\n",
      "Querying TwoDSearch\n",
      "tau = 1.61557006836\n",
      "Finished querying TwoDSearch in 175.83stau = 6.9362487793\n",
      "\n",
      "Querying PeakDetect\n",
      "1605Finished querying PeakDetect in 0.94s 1678\n",
      "\n",
      "1520 1605\n",
      "1441 1520\n",
      "1359 1441\n",
      "1289 1359\n",
      "1289 1289\n",
      "tau = 7.31848144531\n",
      "Finished querying Likelihood in 1.26s\n",
      "Querying OneDSearch\n",
      "Finished querying OneDSearch in 28.48s\n",
      "Querying TwoDSearch\n",
      "Finished querying TwoDSearch in 176.07s\n",
      "Querying PeakDetect\n",
      "Finished querying PeakDetect in 0.30s\n"
     ]
    }
   ],
   "source": [
    "ss = time.time()\n",
    "pool = mp.Pool(processes=4)#this computer has 4 cores, I'm only going to use all 4 since I don't need to do anything\n",
    "results = pool.map(single_run, qlist)\n",
    "pool.close()\n",
    "pool.join()\n",
    "print(results)\n",
    "ee = time.time()\n",
    "ee-ss"
   ]
  },
  {
   "cell_type": "code",
   "execution_count": 10,
   "metadata": {
    "collapsed": false
   },
   "outputs": [
    {
     "data": {
      "text/plain": [
       "668.4675850868225"
      ]
     },
     "execution_count": 10,
     "metadata": {},
     "output_type": "execute_result"
    }
   ],
   "source": [
    "ee-ss"
   ]
  },
  {
   "cell_type": "code",
   "execution_count": 11,
   "metadata": {
    "collapsed": false
   },
   "outputs": [
    {
     "data": {
      "text/plain": [
       "[232.20171999931335,\n",
       " 235.84447479248047,\n",
       " 233.06574201583862,\n",
       " 223.180645942688,\n",
       " 230.8668520450592,\n",
       " 229.57680892944336,\n",
       " 235.47874188423157,\n",
       " 233.97993993759155,\n",
       " 209.92388916015625,\n",
       " 206.61473202705383]"
      ]
     },
     "execution_count": 11,
     "metadata": {},
     "output_type": "execute_result"
    }
   ],
   "source": [
    "results"
   ]
  },
  {
   "cell_type": "markdown",
   "metadata": {},
   "source": [
    "##LINUX "
   ]
  },
  {
   "cell_type": "markdown",
   "metadata": {},
   "source": [
    "Since that is so time intensive and we wish to run quite a few of these, we implemented multiprocessing. "
   ]
  },
  {
   "cell_type": "code",
   "execution_count": 4,
   "metadata": {
    "collapsed": true
   },
   "outputs": [],
   "source": [
    "import multiprocessing as mp"
   ]
  },
  {
   "cell_type": "code",
   "execution_count": 4,
   "metadata": {
    "collapsed": false
   },
   "outputs": [],
   "source": [
    "qlist = os.listdir(\"/k2_data/query\")\n",
    "qlist_subset = random.sample(qlist,5)#since there are 158 files in that folder I just wanted to run 5"
   ]
  },
  {
   "cell_type": "code",
   "execution_count": 92,
   "metadata": {
    "collapsed": true
   },
   "outputs": [],
   "source": [
    "def single_run(qfile):\n",
    "    start = time.time()\n",
    "    #python run.py epicID campaign query_file_path\n",
    "    #os.system(\"python run.py \" + qfile[4:-2] + \" 0 /k2_data/query/\" + qfile)\n",
    "    run.main([qfile[7:-6], 0, \"/k2_data/query/\" + qfile])\n",
    "    return time.time() - start"
   ]
  },
  {
   "cell_type": "code",
   "execution_count": 28,
   "metadata": {
    "collapsed": false,
    "scrolled": true
   },
   "outputs": [
    {
     "name": "stdout",
     "output_type": "stream",
     "text": [
      "[544.5501210689545, 584.634486913681, 546.0201680660248, 711.1573400497437, 644.8120350837708]\n",
      "Querying Data\n",
      "Querying Data\n",
      "Querying Data\n",
      "Querying Data\n",
      "Querying Data\n",
      "Finished querying Data in 2.31sFinished querying Data in 2.40sFinished querying Data in 2.43sFinished querying Data in 2.29sFinished querying Data in 2.27s\n",
      "\n",
      "\n",
      "\n",
      "\n",
      "Querying Likelihood\n",
      "Querying Likelihood\n",
      "Querying Likelihood\n",
      "Querying Likelihood\n",
      "Querying Likelihood\n",
      "tau = 0.947937011719tau = 0.947937011719tau = 0.947937011719tau = 0.902069091797tau = 0.942840576172\n",
      "\n",
      "\n",
      "\n",
      "\n",
      "155 185\n",
      "173 184\n",
      "175 182\n",
      "179 179\n",
      "140 181\n",
      "146 155\n",
      "168 173\n",
      "169 175\n",
      "tau = 0.902069091797\n",
      "127 140\n",
      "142 146\n",
      "174 168\n",
      "171 169\n",
      "tau = 1.15689086914144 127\n",
      "137 142\n",
      "174 174\n",
      "171 171\n",
      "\n",
      "142 144\n",
      "140 137\n",
      "tau = 0.947937011719\n",
      "tau = 0.947937011719\n",
      "306 306\n",
      "142 142\n",
      "142 140\n",
      "tau = 1.62066650391tau = 0.795043945312tau = 1.15689086914\n",
      "tau = 0.942840576172\n",
      "142 142\n",
      "\n",
      "\n",
      "tau = 5.69781494141tau = 0.973419189453tau = 0.947937011719\n",
      "297 311\n",
      "300 312\n",
      "\n",
      "\n",
      "tau = 0.703308105469288 297\n",
      "296 300\n",
      "1658249 313\n",
      "\n",
      "287 288\n",
      "292 296\n",
      " 1658\n",
      "247 249\n",
      "266 314\n",
      "290 287\n",
      "290 292\n",
      "tau = 5.69781494141243 247\n",
      "255 266\n",
      "289 290\n",
      "290 290\n",
      "\n",
      "251 243\n",
      "255 255\n",
      "292 289\n",
      "tau = 0.800140380859\n",
      "Finished querying Likelihood in 2.89s252 251\n",
      "tau = 0.703308105469\n",
      "292 292\n",
      "tau = 3.64904785156\n",
      "251 252\n",
      "tau = 0.647247314453tau = 1.62066650391\n",
      "\n",
      "Querying OneDSearch\n",
      "251 251\n",
      "\n",
      "tau = 1.753173828121638Finished querying OneDSearch in 104.73stau = 0.973419189453\n",
      "1500\n",
      " 1689\n",
      "\n",
      "tau = 3.86309814453 1733\n",
      "16301613Querying TwoDSearch\n",
      "\n",
      "1457 1708\n",
      " 1638\n",
      "Finished querying TwoDSearch in 596.20s1646 1500\n",
      "15851612\n",
      " 1679\n",
      "1410 1630\n",
      " 1613\n",
      "Querying PeakDetect\n",
      "1610 1457\n",
      "15821612Finished querying PeakDetect in 4.89s 1646\n",
      "1394 1585\n",
      " 1612\n",
      "\n",
      "1597 1410\n",
      "1602tau = 3.64904785156 1610\n",
      "1381 1582\n",
      "\n",
      "1595 1394\n",
      "1617Finished querying Likelihood in 4.09s 1597\n",
      "1374 1602\n",
      "\n",
      "1595 1381\n",
      "1618Querying OneDSearch\n",
      " 1595\n",
      "1372 1617\n",
      "Finished querying OneDSearch in 79.25stau = 3.86309814453 1374\n",
      "1618\n",
      "\n",
      "1372 1618\n",
      "Querying TwoDSearch\n",
      "Finished querying Likelihood in 5.67s 1372\n",
      "tau = 1.75317382812Finished querying TwoDSearch in 558.20s\n",
      "tau = 0.647247314453\n",
      "\n",
      "Querying OneDSearch\n",
      "\n",
      "Finished querying Likelihood in 6.90sQuerying PeakDetect\n",
      "Finished querying OneDSearch in 85.46sFinished querying Likelihood in 6.13s\n",
      "Finished querying PeakDetect in 0.71s\n",
      "\n",
      "Querying OneDSearch\n",
      "\n",
      "Querying TwoDSearch\n",
      "Querying OneDSearch\n",
      "Finished querying OneDSearch in 81.36sFinished querying TwoDSearch in 490.05sFinished querying OneDSearch in 75.54s\n",
      "\n",
      "\n",
      "Querying TwoDSearch\n",
      "Querying PeakDetect\n",
      "Querying TwoDSearch\n",
      "Finished querying TwoDSearch in 453.08sFinished querying PeakDetect in 1.06sFinished querying TwoDSearch in 461.25s\n",
      "\n",
      "\n",
      "Querying PeakDetect\n",
      "Querying PeakDetect\n",
      "Finished querying PeakDetect in 0.61sFinished querying PeakDetect in 0.67s\n",
      "\n"
     ]
    },
    {
     "name": "stderr",
     "output_type": "stream",
     "text": [
      "WARNING:root:Not enough peaks were found\n",
      "WARNING:root:Not enough peaks were found\n",
      "WARNING:root:Not enough peaks were found\n",
      "WARNING:root:Not enough peaks were found\n",
      "WARNING:root:Not enough peaks were found\n"
     ]
    },
    {
     "data": {
      "text/plain": [
       "-711.1813549995422"
      ]
     },
     "execution_count": 28,
     "metadata": {},
     "output_type": "execute_result"
    }
   ],
   "source": [
    "ss = time.time()\n",
    "pool = mp.Pool(processes=6)#this computer has 8 cores, I'm only going to use 6\n",
    "results = pool.map(single_run, qlist_subset)\n",
    "pool.close()\n",
    "pool.join()\n",
    "print(results)\n",
    "ee = time.time()\n",
    "ee-ss"
   ]
  },
  {
   "cell_type": "markdown",
   "metadata": {},
   "source": [
    "The total runtime was 711 seconds or about 11 minutes."
   ]
  },
  {
   "cell_type": "code",
   "execution_count": 31,
   "metadata": {
    "collapsed": false
   },
   "outputs": [
    {
     "data": {
      "text/plain": [
       "711.1813549995422"
      ]
     },
     "execution_count": 31,
     "metadata": {},
     "output_type": "execute_result"
    }
   ],
   "source": [
    "ee-ss"
   ]
  },
  {
   "cell_type": "markdown",
   "metadata": {},
   "source": [
    "Interestingly, each individual run varied more using multiprocessing."
   ]
  },
  {
   "cell_type": "code",
   "execution_count": 30,
   "metadata": {
    "collapsed": false
   },
   "outputs": [
    {
     "data": {
      "text/plain": [
       "[544.5501210689545,\n",
       " 584.634486913681,\n",
       " 546.0201680660248,\n",
       " 711.1573400497437,\n",
       " 644.8120350837708]"
      ]
     },
     "execution_count": 30,
     "metadata": {},
     "output_type": "execute_result"
    }
   ],
   "source": [
    "results"
   ]
  },
  {
   "cell_type": "markdown",
   "metadata": {},
   "source": [
    "On average, they took 10 minutes each with a standard deviation of about a minute."
   ]
  },
  {
   "cell_type": "code",
   "execution_count": 32,
   "metadata": {
    "collapsed": false
   },
   "outputs": [
    {
     "data": {
      "text/plain": [
       "10.103913837273916"
      ]
     },
     "execution_count": 32,
     "metadata": {},
     "output_type": "execute_result"
    }
   ],
   "source": [
    "np.mean(results)/60"
   ]
  },
  {
   "cell_type": "code",
   "execution_count": 72,
   "metadata": {
    "collapsed": false
   },
   "outputs": [
    {
     "data": {
      "text/plain": [
       "63.865980797904115"
      ]
     },
     "execution_count": 72,
     "metadata": {},
     "output_type": "execute_result"
    }
   ],
   "source": [
    "np.std(results)"
   ]
  },
  {
   "cell_type": "markdown",
   "metadata": {},
   "source": [
    "This could be because the test was run on a different sample or because of some variable overhead time with multiprocessing."
   ]
  },
  {
   "cell_type": "code",
   "execution_count": 71,
   "metadata": {
    "collapsed": false
   },
   "outputs": [
    {
     "data": {
      "text/plain": [
       "['EPIC202060911.q',\n",
       " 'EPIC202073144.q',\n",
       " 'EPIC202073440.q',\n",
       " 'EPIC202073353.q',\n",
       " 'EPIC202093968.q']"
      ]
     },
     "execution_count": 71,
     "metadata": {},
     "output_type": "execute_result"
    }
   ],
   "source": [
    "qq"
   ]
  },
  {
   "cell_type": "markdown",
   "metadata": {},
   "source": [
    "#Cacheing"
   ]
  },
  {
   "cell_type": "markdown",
   "metadata": {},
   "source": [
    "This test the speed of cacheing versus not cacheing for a multiprocessing run. I anticipate the speed will be about the same, maybe slightly slower since data must be written. "
   ]
  },
  {
   "cell_type": "code",
   "execution_count": 130,
   "metadata": {
    "collapsed": false
   },
   "outputs": [
    {
     "data": {
      "text/plain": [
       "['EPIC202060911.q',\n",
       " 'EPIC202073144.q',\n",
       " 'EPIC202073440.q',\n",
       " 'EPIC202073353.q',\n",
       " 'EPIC202093968.q']"
      ]
     },
     "execution_count": 130,
     "metadata": {},
     "output_type": "execute_result"
    }
   ],
   "source": [
    "qq"
   ]
  },
  {
   "cell_type": "code",
   "execution_count": 96,
   "metadata": {
    "collapsed": false
   },
   "outputs": [],
   "source": [
    "qlist_subset = qq"
   ]
  },
  {
   "cell_type": "code",
   "execution_count": 123,
   "metadata": {
    "collapsed": false
   },
   "outputs": [
    {
     "data": {
      "text/plain": [
       "<module 'run' from 'run.py'>"
      ]
     },
     "execution_count": 123,
     "metadata": {},
     "output_type": "execute_result"
    }
   ],
   "source": [
    "reload(sw)\n",
    "reload(run)"
   ]
  },
  {
   "cell_type": "code",
   "execution_count": 124,
   "metadata": {
    "collapsed": true
   },
   "outputs": [],
   "source": [
    "def single_run(qfile):\n",
    "    start = time.time()\n",
    "    #python run.py epicID campaign query_file_path\n",
    "    #os.system(\"python run.py \" + qfile[4:-2] + \" 0 /k2_data/query/\" + qfile)\n",
    "    run.main([qfile[7:-6], 0, \"/k2_data/query_cache/\" + qfile])\n",
    "    return time.time() - start"
   ]
  },
  {
   "cell_type": "code",
   "execution_count": 125,
   "metadata": {
    "collapsed": false,
    "scrolled": true
   },
   "outputs": [
    {
     "name": "stdout",
     "output_type": "stream",
     "text": [
      "[649.0818219184875, 614.6605250835419, 667.3451302051544, 609.237820148468, 640.0954308509827]\n",
      "Querying Data\n",
      "Querying Data\n",
      "Querying Data\n",
      "Querying Data\n",
      "Querying Data\n",
      "Finished querying Data in 1.17sFinished querying Data in 1.16sFinished querying Data in 1.33sFinished querying Data in 1.29sFinished querying Data in 1.16s\n",
      "\n",
      "\n",
      "\n",
      "\n",
      "Querying LikelihoodQuerying LikelihoodQuerying LikelihoodQuerying LikelihoodQuerying Likelihood\n",
      "\n",
      "\n",
      "\n",
      "\n",
      "tau = 0.902069091797tau = 0.947937011719tau = 0.947937011719tau = 0.942840576172tau = 0.947937011719\n",
      "\n",
      "\n",
      "\n",
      "\n",
      "179 179\n",
      "155 185\n",
      "173 184\n",
      "140 181\n",
      "175 182\n",
      "tau = 0.902069091797\n",
      "146 155\n",
      "168 173\n",
      "127 140\n",
      "169 175\n",
      "tau = 1.15689086914142 146\n",
      "174 168\n",
      "144 127\n",
      "171 169\n",
      "\n",
      "137 142\n",
      "174 174\n",
      "142 144\n",
      "171 171\n",
      "306 306\n",
      "140 137\n",
      "tau = 0.947937011719\n",
      "142 142\n",
      "tau = 0.947937011719\n",
      "tau = 1.15689086914\n",
      "142 140\n",
      "tau = 1.62066650391tau = 0.942840576172\n",
      "tau = 0.795043945312tau = 5.69781494141142 142\n",
      "\n",
      "tau = 0.973419189453\n",
      "\n",
      "tau = 0.947937011719\n",
      "297 311\n",
      "\n",
      "300 312\n",
      "1658tau = 0.703308105469288 297\n",
      "249 313\n",
      "296 300\n",
      " 1658\n",
      "\n",
      "287 288\n",
      "247 249\n",
      "292 296\n",
      "tau = 5.69781494141266 314\n",
      "290 287\n",
      "243 247\n",
      "290 292\n",
      "\n",
      "255 266\n",
      "289 290\n",
      "251 243\n",
      "290 290\n",
      "Finished querying Likelihood in 2.11s255 255\n",
      "292 289\n",
      "252 251\n",
      "tau = 0.800140380859\n",
      "\n",
      "tau = 0.703308105469\n",
      "292 292\n",
      "251 252\n",
      "tau = 3.64904785156Querying OneDSearchtau = 0.647247314453tau = 1.62066650391\n",
      "251 251\n",
      "\n",
      "\n",
      "\n",
      "tau = 1.75317382812tau = 0.973419189453\n",
      "1638Finished querying OneDSearch in 74.73s1500\n",
      "tau = 3.86309814453 1689\n",
      "\n",
      " 1733\n",
      "1630\n",
      "1613Querying TwoDSearch\n",
      "1457 1708\n",
      "1646 1638\n",
      "Finished querying TwoDSearch in 511.90s 1500\n",
      "1585 1679\n",
      "1612\n",
      "1410 1630\n",
      "1610 1613\n",
      "Querying PeakDetect 1457\n",
      "1582 1646\n",
      "1612\n",
      "1394 1585\n",
      "1597 1612\n",
      "Finished querying PeakDetect in 8.09s 1410\n",
      "1602 1610\n",
      "tau = 3.64904785156\n",
      "1381 1582\n",
      "1595\n",
      " 1394\n",
      "1617 1597\n",
      "Finished querying Likelihood in 4.31s\n",
      "1374 1602\n",
      "1595Querying OneDSearch 1381\n",
      "1618 1595\n",
      "\n",
      "1372 1617\n",
      "tau = 3.86309814453Finished querying OneDSearch in 91.48s 1374\n",
      "1618\n",
      "\n",
      "1372 1618\n",
      "Finished querying Likelihood in 5.40sQuerying TwoDSearch\n",
      " 1372\n",
      "tau = 1.75317382812\n",
      "Finished querying TwoDSearch in 531.07stau = 0.647247314453\n",
      "Querying OneDSearch\n",
      "\n",
      "Finished querying Likelihood in 9.53s\n",
      "Querying PeakDetectFinished querying Likelihood in 5.83s\n",
      "Finished querying OneDSearch in 77.60s\n",
      "\n",
      "Querying OneDSearch\n",
      "Finished querying PeakDetect in 0.74sQuerying OneDSearch\n",
      "Querying TwoDSearch\n",
      "\n",
      "\n",
      "Finished querying OneDSearch in 91.89sFinished querying TwoDSearch in 517.68sFinished querying OneDSearch in 96.48s\n",
      "\n",
      "Querying PeakDetect\n",
      "Querying TwoDSearch\n",
      "\n",
      "Querying TwoDSearch\n",
      "Finished querying TwoDSearch in 532.95sFinished querying PeakDetect in 1.15sFinished querying TwoDSearch in 550.76s\n",
      "\n",
      "\n",
      "Querying PeakDetectQuerying PeakDetect\n",
      "Finished querying PeakDetect in 0.61s\n",
      "\n",
      "Finished querying PeakDetect in 0.67s\n"
     ]
    },
    {
     "name": "stderr",
     "output_type": "stream",
     "text": [
      "WARNING:root:Not enough peaks were found\n",
      "WARNING:root:Not enough peaks were found\n",
      "WARNING:root:Not enough peaks were found\n",
      "WARNING:root:Not enough peaks were found\n",
      "WARNING:root:Not enough peaks were found\n"
     ]
    },
    {
     "data": {
      "text/plain": [
       "667.5064611434937"
      ]
     },
     "execution_count": 125,
     "metadata": {},
     "output_type": "execute_result"
    }
   ],
   "source": [
    "ss = time.time()\n",
    "pool = mp.Pool(processes=6)#this computer has 8 cores, I'm only going to use 6\n",
    "results = pool.map(single_run, qq)\n",
    "pool.close()\n",
    "pool.join()\n",
    "print(results)\n",
    "ee = time.time()\n",
    "ee-ss"
   ]
  },
  {
   "cell_type": "markdown",
   "metadata": {},
   "source": [
    "The time was slighlty longer with cacheing than without"
   ]
  },
  {
   "cell_type": "code",
   "execution_count": 126,
   "metadata": {
    "collapsed": false,
    "scrolled": true
   },
   "outputs": [
    {
     "data": {
      "text/plain": [
       "667.5064611434937"
      ]
     },
     "execution_count": 126,
     "metadata": {},
     "output_type": "execute_result"
    }
   ],
   "source": [
    "ee-ss"
   ]
  },
  {
   "cell_type": "code",
   "execution_count": 127,
   "metadata": {
    "collapsed": true
   },
   "outputs": [
    {
     "data": {
      "text/plain": [
       "[649.0818219184875,\n",
       " 614.6605250835419,\n",
       " 667.3451302051544,\n",
       " 609.237820148468,\n",
       " 640.0954308509827]"
      ]
     },
     "execution_count": 127,
     "metadata": {},
     "output_type": "execute_result"
    }
   ],
   "source": [
    "results"
   ]
  },
  {
   "cell_type": "code",
   "execution_count": 128,
   "metadata": {
    "collapsed": false
   },
   "outputs": [
    {
     "data": {
      "text/plain": [
       "10.601402427355449"
      ]
     },
     "execution_count": 128,
     "metadata": {},
     "output_type": "execute_result"
    }
   ],
   "source": [
    "np.mean(results)/60"
   ]
  }
 ],
 "metadata": {
  "kernelspec": {
   "display_name": "Python 2",
   "language": "python",
   "name": "python2"
  },
  "language_info": {
   "codemirror_mode": {
    "name": "ipython",
    "version": 2
   },
   "file_extension": ".py",
   "mimetype": "text/x-python",
   "name": "python",
   "nbconvert_exporter": "python",
   "pygments_lexer": "ipython2",
   "version": "2.7.10"
  }
 },
 "nbformat": 4,
 "nbformat_minor": 0
}
