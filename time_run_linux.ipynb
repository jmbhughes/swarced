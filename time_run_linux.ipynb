{
 "cells": [
  {
   "cell_type": "markdown",
   "metadata": {},
   "source": [
    "We wanted to check the runtime for the ketu code in our configuration."
   ]
  },
  {
   "cell_type": "code",
   "execution_count": 1,
   "metadata": {
    "collapsed": true
   },
   "outputs": [],
   "source": [
    "import swarced as sw\n",
    "import time, pickle, random, os, run\n",
    "import numpy as np\n",
    "import multiprocessing as mp"
   ]
  },
  {
   "cell_type": "code",
   "execution_count": 131,
   "metadata": {
    "collapsed": true
   },
   "outputs": [],
   "source": [
    "qlist = os.listdir(\"/k2_data/timing\")"
   ]
  },
  {
   "cell_type": "markdown",
   "metadata": {},
   "source": [
    "#No parallel "
   ]
  },
  {
   "cell_type": "code",
   "execution_count": 63,
   "metadata": {
    "collapsed": false
   },
   "outputs": [],
   "source": [
    "qlist = os.listdir(\"/k2_data/query\")\n",
    "t = np.array([])\n",
    "for q in random.sample(qlist,5):\n",
    "    start = time.time()\n",
    "    os.system(\"python run.py \" + q[7:-6] + \" 0 /k2_data/query/\" + q)\n",
    "    t = np.append(t,time.time()-start)"
   ]
  },
  {
   "cell_type": "markdown",
   "metadata": {},
   "source": [
    "Without parallel processing each cycle took about 490 seconds with a standard deviation in a sample of 5 of 10 seconds. That means for 5 tasks it took about 40 minutes."
   ]
  },
  {
   "cell_type": "code",
   "execution_count": 65,
   "metadata": {
    "collapsed": false
   },
   "outputs": [
    {
     "data": {
      "text/plain": [
       "490.52086238861085"
      ]
     },
     "execution_count": 65,
     "metadata": {},
     "output_type": "execute_result"
    }
   ],
   "source": [
    "np.mean(t)"
   ]
  },
  {
   "cell_type": "code",
   "execution_count": 69,
   "metadata": {
    "collapsed": false
   },
   "outputs": [
    {
     "data": {
      "text/plain": [
       "9.9701895198145252"
      ]
     },
     "execution_count": 69,
     "metadata": {},
     "output_type": "execute_result"
    }
   ],
   "source": [
    "np.std(t)"
   ]
  },
  {
   "cell_type": "code",
   "execution_count": 71,
   "metadata": {
    "collapsed": false
   },
   "outputs": [
    {
     "data": {
      "text/plain": [
       "40.876738532384238"
      ]
     },
     "execution_count": 71,
     "metadata": {},
     "output_type": "execute_result"
    }
   ],
   "source": [
    "np.sum(t)/60."
   ]
  },
  {
   "cell_type": "markdown",
   "metadata": {},
   "source": [
    "#Multiprocessing "
   ]
  },
  {
   "cell_type": "markdown",
   "metadata": {},
   "source": [
    "Since that is so time intensive and we wish to run quite a few of these, we implemented multiprocessing. "
   ]
  },
  {
   "cell_type": "code",
   "execution_count": 2,
   "metadata": {
    "collapsed": true
   },
   "outputs": [],
   "source": [
    "import multiprocessing as mp"
   ]
  },
  {
   "cell_type": "code",
   "execution_count": 4,
   "metadata": {
    "collapsed": false
   },
   "outputs": [],
   "source": [
    "qlist = os.listdir(\"/k2_data/swarced/timing\")\n",
    "#qlist_subset = random.sample(qlist,5)#since there are 158 files in that folder I just wanted to run 5"
   ]
  },
  {
   "cell_type": "code",
   "execution_count": 5,
   "metadata": {
    "collapsed": false
   },
   "outputs": [
    {
     "data": {
      "text/plain": [
       "['k2_epic202073117.query',\n",
       " 'k2_epic202073185.query',\n",
       " 'k2_epic202071731.query',\n",
       " 'k2_epic202060506.query',\n",
       " 'k2_epic202060911.query',\n",
       " 'k2_epic202071579.query',\n",
       " 'k2_epic202073297.query',\n",
       " 'k2_epic202094234.query',\n",
       " 'k2_epic202073353.query',\n",
       " 'k2_epic202071842.query']"
      ]
     },
     "execution_count": 5,
     "metadata": {},
     "output_type": "execute_result"
    }
   ],
   "source": [
    "qlist"
   ]
  },
  {
   "cell_type": "code",
   "execution_count": 9,
   "metadata": {
    "collapsed": false
   },
   "outputs": [
    {
     "name": "stdout",
     "output_type": "stream",
     "text": [
      "Querying Data\n"
     ]
    }
   ],
   "source": [
    "def single_run(qfile):\n",
    "    start = time.time()\n",
    "    #python run.py epicID campaign query_file_path\n",
    "    #os.system(\"python run.py \" + qfile[4:-2] + \" 0 /k2_data/query/\" + qfile)\n",
    "    run.main([qfile[7:-6], 0, \"/k2_data/swarced/timing_linux/\" + qfile])\n",
    "    return time.time() - start"
   ]
  },
  {
   "cell_type": "code",
   "execution_count": 10,
   "metadata": {
    "collapsed": true
   },
   "outputs": [
    {
     "name": "stdout",
     "output_type": "stream",
     "text": [
      "[925.2708101272583, 932.8666479587555, 890.4222919940948, 925.3213918209076, 931.4404408931732, 934.708135843277, 942.2004339694977, 929.2238481044769, 508.67680191993713, 496.5251100063324]\n",
      "Querying Data\n",
      "Querying Data\n",
      "Querying Data\n",
      "Querying Data\n",
      "Querying Data\n",
      "Querying Data\n",
      "Querying Data\n",
      "Querying Data\n",
      "Finished querying Data in 1.54sFinished querying Data in 1.46sFinished querying Data in 1.51sFinished querying Data in 1.50sFinished querying Data in 1.45sFinished querying Data in 1.50sFinished querying Data in 1.50sFinished querying Data in 1.49s\n",
      "\n",
      "\n",
      "\n",
      "\n",
      "\n",
      "\n",
      "\n",
      "Querying LikelihoodQuerying LikelihoodQuerying LikelihoodQuerying LikelihoodQuerying LikelihoodQuerying LikelihoodQuerying LikelihoodQuerying Likelihood\n",
      "\n",
      "\n",
      "\n",
      "\n",
      "\n",
      "\n",
      "\n",
      "tau = 0.947937011719tau = 0.947937011719tau = 0.902069091797tau = 0.947937011719tau = 0.917358398438tau = 0.942840576172tau = 0.947937011719tau = 0.947937011719\n",
      "\n",
      "\n",
      "\n",
      "\n",
      "\n",
      "\n",
      "\n",
      "155 181\n",
      "153 181\n",
      "164 180\n",
      "173 184\n",
      "171 183\n",
      "148 181\n",
      "158 181\n",
      "186 186\n",
      "146 155\n",
      "139 153\n",
      "150 164\n",
      "168 173\n",
      "151 171\n",
      "138 148\n",
      "142 158\n",
      "tau = 0.947937011719\n",
      "144 146\n",
      "131 139\n",
      "134 150\n",
      "174 168\n",
      "133 151\n",
      "132 138\n",
      "141 142\n",
      "tau = 0.932647705078143 144\n",
      "135 131\n",
      "130 134\n",
      "174 174\n",
      "112 133\n",
      "134 132\n",
      "149 141\n",
      "\n",
      "144 143\n",
      "140 135\n",
      "127 130\n",
      "tau = 0.947937011719\n",
      "120 112\n",
      "134 134\n",
      "150 149\n",
      "316 316\n",
      "149 144\n",
      "140 140\n",
      "127 127\n",
      "tau = 1.62066650391123 120\n",
      "tau = 0.942840576172\n",
      "150 150\n",
      "tau = 0.932647705078\n",
      "152 149\n",
      "tau = 0.947937011719\n",
      "tau = 0.942840576172\n",
      "\n",
      "123 123\n",
      "tau = 1.04476928711tau = 0.927551269531\n",
      "tau = 0.983612060547152 152\n",
      "tau = 0.703308105469tau = 1.61557006836297 311\n",
      "tau = 0.917358398438\n",
      "\n",
      "tau = 0.698211669922\n",
      "tau = 0.947937011719\n",
      "\n",
      "\n",
      "288 297\n",
      "tau = 1.62066650391257 313\n",
      "\n",
      "1743tau = 1.62066650391263 304\n",
      "259 312\n",
      "287 288\n",
      "\n",
      "238 257\n",
      "264 304\n",
      " 1743\n",
      "\n",
      "248 263\n",
      "225 259\n",
      "290 287\n",
      "246 314\n",
      "238 238\n",
      "241 264\n",
      "tau = 0.983612060547270 311\n",
      "230 248\n",
      "209 225\n",
      "289 290\n",
      "237 246\n",
      "tau = 1.04986572266\n",
      "244 241\n",
      "\n",
      "254 270\n",
      "235 230\n",
      "202 209\n",
      "292 289\n",
      "260 237\n",
      "tau = 0.983612060547243 244\n",
      "Finished querying Likelihood in 3.83s250 254\n",
      "232 235\n",
      "210 202\n",
      "292 292\n",
      "238 260\n",
      "\n",
      "242 243\n",
      "\n",
      "256 250\n",
      "228 232\n",
      "230 210\n",
      "tau = 1.62066650391\n",
      "232 238\n",
      "1428240 242\n",
      "Querying OneDSearch265 256\n",
      "225 228\n",
      "230 230\n",
      "tau = 1.75317382812224 232\n",
      " 1707\n",
      "240 240\n",
      "\n",
      "274 265\n",
      "224 225\n",
      "tau = 1.61557006836\n",
      "\n",
      "224 224\n",
      "1340tau = 1.62066650391\n",
      "Finished querying OneDSearch in 136.37s272 274\n",
      "224 224\n",
      "tau = 6.93624877931630tau = 1.62066650391\n",
      " 1428\n",
      "tau = 0.779754638672\n",
      "272 272\n",
      "tau = 1.61047363281\n",
      "\n",
      " 1708\n",
      "tau = 0.9836120605471293\n",
      "Querying TwoDSearchtau = 1.62066650391\n",
      "tau = 0.67782592773416051585\n",
      " 1340\n",
      "1421\n",
      "tau = 0.881683349609\n",
      " 1678\n",
      " 1630\n",
      "16221271 1663\n",
      "Finished querying TwoDSearch in 780.71s\n",
      "153315201582 1736\n",
      " 1293\n",
      "1366\n",
      "1515 1680\n",
      " 1605\n",
      " 1585\n",
      "15161277 1421\n",
      "Querying PeakDetect 1725\n",
      "142914411602 1622\n",
      " 1271\n",
      "1386\n",
      "1413 1533\n",
      " 1520\n",
      " 1582\n",
      "13091289 1366\n",
      "Finished querying PeakDetect in 1.29s"
     ]
    },
    {
     "name": "stderr",
     "output_type": "stream",
     "text": [
      "WARNING:root:Not enough peaks were found\n",
      "WARNING:root:Not enough peaks were found\n",
      "WARNING:root:Not enough peaks were found\n",
      "WARNING:root:Not enough peaks were found\n",
      "WARNING:root:Not enough peaks were found\n",
      "WARNING:root:Not enough peaks were found\n",
      "WARNING:root:Not enough peaks were found\n",
      "WARNING:root:Not enough peaks were found\n",
      "WARNING:root:Not enough peaks were found\n",
      "WARNING:root:Not enough peaks were found\n"
     ]
    },
    {
     "data": {
      "text/plain": [
       "1421.9267230033875"
      ]
     },
     "execution_count": 10,
     "metadata": {},
     "output_type": "execute_result"
    },
    {
     "name": "stdout",
     "output_type": "stream",
     "text": [
      " 1515\n",
      "134813591617 1516\n",
      " 1277\n",
      "1394\n",
      "1369 1429\n",
      " 1441\n",
      " 1602\n",
      "12351290 1386\n",
      " 1413\n",
      "131812891618 1309\n",
      " 1289\n",
      "14031366 1348\n",
      " 1359\n",
      " 1617\n",
      "12381291 1394\n",
      " 1369\n",
      "129512891618 1235\n",
      " 1290\n",
      "14121380 1318\n",
      " 1289\n",
      " 1618\n",
      "11731293 1403\n",
      " 1366\n",
      "1281tau = 7.31848144531tau = 1.75317382812 1238\n",
      " 1291\n",
      "14151391 1295\n",
      "\n",
      "\n",
      "12071295 1412\n",
      " 1380\n",
      "1274Finished querying Likelihood in 8.03sFinished querying Likelihood in 9.93s 1173\n",
      " 1293\n",
      "14151400 1281\n",
      "\n",
      "\n",
      "1210tau = 2.46157836914 1415\n",
      " 1391\n",
      "1274Querying OneDSearchQuerying OneDSearch 1207\n",
      "\n",
      "tau = 0.7848510742191400 1274\n",
      "\n",
      "\n",
      "1208Finished querying Likelihood in 8.97s\n",
      " 1400\n",
      "tau = 2.05386352539Finished querying OneDSearch in 125.40sFinished querying OneDSearch in 129.77s 1210\n",
      "\n",
      "Finished querying Likelihood in 8.52stau = 0.881683349609\n",
      "\n",
      "\n",
      "1208Querying OneDSearch\n",
      "\n",
      "Finished querying Likelihood in 7.81sQuerying TwoDSearch\n",
      "Querying TwoDSearch\n",
      " 1208\n",
      "\n",
      "Querying OneDSearchFinished querying Likelihood in 8.74s\n",
      "Finished querying TwoDSearch in 777.66sFinished querying TwoDSearch in 770.89stau = 0.983612060547Finished querying OneDSearch in 116.83s\n",
      "\n",
      "Querying OneDSearch\n",
      "\n",
      "\n",
      "\n",
      "Finished querying OneDSearch in 129.10sQuerying OneDSearch\n",
      "Querying PeakDetectQuerying PeakDetectFinished querying Likelihood in 9.39sQuerying TwoDSearch\n",
      "\n",
      "\n",
      "Finished querying OneDSearch in 89.22s\n",
      "\n",
      "\n",
      "Finished querying TwoDSearch in 781.29sQuerying TwoDSearch\n",
      "Finished querying OneDSearch in 117.65s\n",
      "Finished querying PeakDetect in 1.51sFinished querying PeakDetect in 1.06sQuerying OneDSearch\n",
      "Finished querying TwoDSearch in 778.92s\n",
      "Querying TwoDSearch\n",
      "\n",
      "\n",
      "\n",
      "Querying PeakDetect\n",
      "Querying TwoDSearch\n",
      "Finished querying TwoDSearch in 776.85sFinished querying OneDSearch in 136.06s\n",
      "Querying PeakDetectFinished querying TwoDSearch in 778.28s\n",
      "\n",
      "Finished querying PeakDetect in 1.73s\n",
      "\n",
      "Querying PeakDetectFinished querying PeakDetect in 0.76s\n",
      "Querying TwoDSearch\n",
      "Querying PeakDetect\n",
      "\n",
      "Finished querying TwoDSearch in 765.86s\n",
      "Finished querying PeakDetect in 2.78s\n",
      "Finished querying PeakDetect in 1.27s\n",
      "Querying PeakDetect\n",
      "Querying Data\n",
      "Querying Data\n",
      "Finished querying PeakDetect in 1.60s\n",
      "Finished querying Data in 0.84s\n",
      "Finished querying Data in 0.74s\n",
      "\n",
      "Querying LikelihoodQuerying Likelihood\n",
      "\n",
      "tau = 0.902069091797tau = 0.942840576172\n",
      "\n",
      "179 179\n",
      "167 178\n",
      "tau = 0.902069091797\n",
      "171 167\n",
      "tau = 1.15689086914169 171\n",
      "\n",
      "167 169\n",
      "306 306\n",
      "166 167\n",
      "tau = 1.15689086914\n",
      "165 166\n",
      "tau = 5.69781494141165 165\n",
      "\n",
      "tau = 0.942840576172\n",
      "1658tau = 1.19256591797 1658\n",
      "\n",
      "tau = 5.69781494141291 304\n",
      "\n",
      "285 291\n",
      "Finished querying Likelihood in 3.68s278 285\n",
      "\n",
      "273 278\n",
      "Querying OneDSearch269 273\n",
      "\n",
      "267 269\n",
      "Finished querying OneDSearch in 66.03s266 267\n",
      "\n",
      "266 266\n",
      "Querying TwoDSearch\n",
      "tau = 1.21295166016\n",
      "Finished querying TwoDSearch in 419.96stau = 1.40661621094\n",
      "\n",
      "Querying PeakDetect1612\n",
      " 1661\n",
      "Finished querying PeakDetect in 2.52s1564\n",
      " 1612\n",
      "1535 1564\n",
      "1519 1535\n",
      "1513 1519\n",
      "1510 1513\n",
      "1510 1510\n",
      "tau = 1.40151977539\n",
      "Finished querying Likelihood in 7.20s\n",
      "Querying OneDSearch\n",
      "Finished querying OneDSearch in 57.24s\n",
      "Querying TwoDSearch\n",
      "Finished querying TwoDSearch in 417.79s\n",
      "Querying PeakDetect\n",
      "Finished querying PeakDetect in 2.24s\n"
     ]
    }
   ],
   "source": [
    "ss = time.time()\n",
    "pool = mp.Pool(processes=8)#this computer has 8 cores\n",
    "results = pool.map(single_run, qlist)\n",
    "pool.close()\n",
    "pool.join()\n",
    "print(results)\n",
    "ee = time.time()\n",
    "ee-ss"
   ]
  },
  {
   "cell_type": "markdown",
   "metadata": {},
   "source": [
    "The total runtime was 711 seconds or about 11 minutes."
   ]
  },
  {
   "cell_type": "code",
   "execution_count": 13,
   "metadata": {
    "collapsed": false
   },
   "outputs": [
    {
     "data": {
      "text/plain": [
       "23.698778716723123"
      ]
     },
     "execution_count": 13,
     "metadata": {},
     "output_type": "execute_result"
    }
   ],
   "source": [
    "(ee-ss)/60"
   ]
  },
  {
   "cell_type": "markdown",
   "metadata": {},
   "source": [
    "Interestingly, each individual run varied more using multiprocessing."
   ]
  },
  {
   "cell_type": "code",
   "execution_count": 12,
   "metadata": {
    "collapsed": false
   },
   "outputs": [
    {
     "data": {
      "text/plain": [
       "[925.2708101272583,\n",
       " 932.8666479587555,\n",
       " 890.4222919940948,\n",
       " 925.3213918209076,\n",
       " 931.4404408931732,\n",
       " 934.708135843277,\n",
       " 942.2004339694977,\n",
       " 929.2238481044769,\n",
       " 508.67680191993713,\n",
       " 496.5251100063324]"
      ]
     },
     "execution_count": 12,
     "metadata": {},
     "output_type": "execute_result"
    }
   ],
   "source": [
    "results"
   ]
  },
  {
   "cell_type": "markdown",
   "metadata": {},
   "source": [
    "On average, they took 10 minutes each with a standard deviation of about a minute."
   ]
  },
  {
   "cell_type": "code",
   "execution_count": 32,
   "metadata": {
    "collapsed": false
   },
   "outputs": [
    {
     "data": {
      "text/plain": [
       "10.103913837273916"
      ]
     },
     "execution_count": 32,
     "metadata": {},
     "output_type": "execute_result"
    }
   ],
   "source": [
    "np.mean(results)/60"
   ]
  },
  {
   "cell_type": "code",
   "execution_count": 72,
   "metadata": {
    "collapsed": false
   },
   "outputs": [
    {
     "data": {
      "text/plain": [
       "63.865980797904115"
      ]
     },
     "execution_count": 72,
     "metadata": {},
     "output_type": "execute_result"
    }
   ],
   "source": [
    "np.std(results)"
   ]
  },
  {
   "cell_type": "markdown",
   "metadata": {},
   "source": [
    "This could be because the test was run on a different sample or because of some variable overhead time with multiprocessing."
   ]
  },
  {
   "cell_type": "code",
   "execution_count": 71,
   "metadata": {
    "collapsed": false
   },
   "outputs": [
    {
     "data": {
      "text/plain": [
       "['EPIC202060911.q',\n",
       " 'EPIC202073144.q',\n",
       " 'EPIC202073440.q',\n",
       " 'EPIC202073353.q',\n",
       " 'EPIC202093968.q']"
      ]
     },
     "execution_count": 71,
     "metadata": {},
     "output_type": "execute_result"
    }
   ],
   "source": [
    "qq"
   ]
  },
  {
   "cell_type": "markdown",
   "metadata": {},
   "source": [
    "#Cacheing"
   ]
  },
  {
   "cell_type": "markdown",
   "metadata": {},
   "source": [
    "This test the speed of cacheing versus not cacheing for a multiprocessing run. I anticipate the speed will be about the same, maybe slightly slower since data must be written. "
   ]
  },
  {
   "cell_type": "code",
   "execution_count": 130,
   "metadata": {
    "collapsed": false
   },
   "outputs": [
    {
     "data": {
      "text/plain": [
       "['EPIC202060911.q',\n",
       " 'EPIC202073144.q',\n",
       " 'EPIC202073440.q',\n",
       " 'EPIC202073353.q',\n",
       " 'EPIC202093968.q']"
      ]
     },
     "execution_count": 130,
     "metadata": {},
     "output_type": "execute_result"
    }
   ],
   "source": [
    "qq"
   ]
  },
  {
   "cell_type": "code",
   "execution_count": 96,
   "metadata": {
    "collapsed": false
   },
   "outputs": [],
   "source": [
    "qlist_subset = qq"
   ]
  },
  {
   "cell_type": "code",
   "execution_count": 123,
   "metadata": {
    "collapsed": false
   },
   "outputs": [
    {
     "data": {
      "text/plain": [
       "<module 'run' from 'run.py'>"
      ]
     },
     "execution_count": 123,
     "metadata": {},
     "output_type": "execute_result"
    }
   ],
   "source": [
    "reload(sw)\n",
    "reload(run)"
   ]
  },
  {
   "cell_type": "code",
   "execution_count": 124,
   "metadata": {
    "collapsed": true
   },
   "outputs": [],
   "source": [
    "def single_run(qfile):\n",
    "    start = time.time()\n",
    "    #python run.py epicID campaign query_file_path\n",
    "    #os.system(\"python run.py \" + qfile[4:-2] + \" 0 /k2_data/query/\" + qfile)\n",
    "    run.main([qfile[4:-2], 0, \"/k2_data/query_cache/\" + qfile])\n",
    "    return time.time() - start"
   ]
  },
  {
   "cell_type": "code",
   "execution_count": 125,
   "metadata": {
    "collapsed": false,
    "scrolled": true
   },
   "outputs": [
    {
     "name": "stdout",
     "output_type": "stream",
     "text": [
      "[649.0818219184875, 614.6605250835419, 667.3451302051544, 609.237820148468, 640.0954308509827]\n",
      "Querying Data\n",
      "Querying Data\n",
      "Querying Data\n",
      "Querying Data\n",
      "Querying Data\n",
      "Finished querying Data in 1.17sFinished querying Data in 1.16sFinished querying Data in 1.33sFinished querying Data in 1.29sFinished querying Data in 1.16s\n",
      "\n",
      "\n",
      "\n",
      "\n",
      "Querying LikelihoodQuerying LikelihoodQuerying LikelihoodQuerying LikelihoodQuerying Likelihood\n",
      "\n",
      "\n",
      "\n",
      "\n",
      "tau = 0.902069091797tau = 0.947937011719tau = 0.947937011719tau = 0.942840576172tau = 0.947937011719\n",
      "\n",
      "\n",
      "\n",
      "\n",
      "179 179\n",
      "155 185\n",
      "173 184\n",
      "140 181\n",
      "175 182\n",
      "tau = 0.902069091797\n",
      "146 155\n",
      "168 173\n",
      "127 140\n",
      "169 175\n",
      "tau = 1.15689086914142 146\n",
      "174 168\n",
      "144 127\n",
      "171 169\n",
      "\n",
      "137 142\n",
      "174 174\n",
      "142 144\n",
      "171 171\n",
      "306 306\n",
      "140 137\n",
      "tau = 0.947937011719\n",
      "142 142\n",
      "tau = 0.947937011719\n",
      "tau = 1.15689086914\n",
      "142 140\n",
      "tau = 1.62066650391tau = 0.942840576172\n",
      "tau = 0.795043945312tau = 5.69781494141142 142\n",
      "\n",
      "tau = 0.973419189453\n",
      "\n",
      "tau = 0.947937011719\n",
      "297 311\n",
      "\n",
      "300 312\n",
      "1658tau = 0.703308105469288 297\n",
      "249 313\n",
      "296 300\n",
      " 1658\n",
      "\n",
      "287 288\n",
      "247 249\n",
      "292 296\n",
      "tau = 5.69781494141266 314\n",
      "290 287\n",
      "243 247\n",
      "290 292\n",
      "\n",
      "255 266\n",
      "289 290\n",
      "251 243\n",
      "290 290\n",
      "Finished querying Likelihood in 2.11s255 255\n",
      "292 289\n",
      "252 251\n",
      "tau = 0.800140380859\n",
      "\n",
      "tau = 0.703308105469\n",
      "292 292\n",
      "251 252\n",
      "tau = 3.64904785156Querying OneDSearchtau = 0.647247314453tau = 1.62066650391\n",
      "251 251\n",
      "\n",
      "\n",
      "\n",
      "tau = 1.75317382812tau = 0.973419189453\n",
      "1638Finished querying OneDSearch in 74.73s1500\n",
      "tau = 3.86309814453 1689\n",
      "\n",
      " 1733\n",
      "1630\n",
      "1613Querying TwoDSearch\n",
      "1457 1708\n",
      "1646 1638\n",
      "Finished querying TwoDSearch in 511.90s 1500\n",
      "1585 1679\n",
      "1612\n",
      "1410 1630\n",
      "1610 1613\n",
      "Querying PeakDetect 1457\n",
      "1582 1646\n",
      "1612\n",
      "1394 1585\n",
      "1597 1612\n",
      "Finished querying PeakDetect in 8.09s 1410\n",
      "1602 1610\n",
      "tau = 3.64904785156\n",
      "1381 1582\n",
      "1595\n",
      " 1394\n",
      "1617 1597\n",
      "Finished querying Likelihood in 4.31s\n",
      "1374 1602\n",
      "1595Querying OneDSearch 1381\n",
      "1618 1595\n",
      "\n",
      "1372 1617\n",
      "tau = 3.86309814453Finished querying OneDSearch in 91.48s 1374\n",
      "1618\n",
      "\n",
      "1372 1618\n",
      "Finished querying Likelihood in 5.40sQuerying TwoDSearch\n",
      " 1372\n",
      "tau = 1.75317382812\n",
      "Finished querying TwoDSearch in 531.07stau = 0.647247314453\n",
      "Querying OneDSearch\n",
      "\n",
      "Finished querying Likelihood in 9.53s\n",
      "Querying PeakDetectFinished querying Likelihood in 5.83s\n",
      "Finished querying OneDSearch in 77.60s\n",
      "\n",
      "Querying OneDSearch\n",
      "Finished querying PeakDetect in 0.74sQuerying OneDSearch\n",
      "Querying TwoDSearch\n",
      "\n",
      "\n",
      "Finished querying OneDSearch in 91.89sFinished querying TwoDSearch in 517.68sFinished querying OneDSearch in 96.48s\n",
      "\n",
      "Querying PeakDetect\n",
      "Querying TwoDSearch\n",
      "\n",
      "Querying TwoDSearch\n",
      "Finished querying TwoDSearch in 532.95sFinished querying PeakDetect in 1.15sFinished querying TwoDSearch in 550.76s\n",
      "\n",
      "\n",
      "Querying PeakDetectQuerying PeakDetect\n",
      "Finished querying PeakDetect in 0.61s\n",
      "\n",
      "Finished querying PeakDetect in 0.67s\n"
     ]
    },
    {
     "name": "stderr",
     "output_type": "stream",
     "text": [
      "WARNING:root:Not enough peaks were found\n",
      "WARNING:root:Not enough peaks were found\n",
      "WARNING:root:Not enough peaks were found\n",
      "WARNING:root:Not enough peaks were found\n",
      "WARNING:root:Not enough peaks were found\n"
     ]
    },
    {
     "data": {
      "text/plain": [
       "667.5064611434937"
      ]
     },
     "execution_count": 125,
     "metadata": {},
     "output_type": "execute_result"
    }
   ],
   "source": [
    "ss = time.time()\n",
    "pool = mp.Pool(processes=6)#this computer has 8 cores, I'm only going to use 6\n",
    "results = pool.map(single_run, qq)\n",
    "pool.close()\n",
    "pool.join()\n",
    "print(results)\n",
    "ee = time.time()\n",
    "ee-ss"
   ]
  },
  {
   "cell_type": "markdown",
   "metadata": {},
   "source": [
    "The time was slighlty longer with cacheing than without"
   ]
  },
  {
   "cell_type": "code",
   "execution_count": 126,
   "metadata": {
    "collapsed": false,
    "scrolled": true
   },
   "outputs": [
    {
     "data": {
      "text/plain": [
       "667.5064611434937"
      ]
     },
     "execution_count": 126,
     "metadata": {},
     "output_type": "execute_result"
    }
   ],
   "source": [
    "ee-ss"
   ]
  },
  {
   "cell_type": "code",
   "execution_count": 127,
   "metadata": {
    "collapsed": false
   },
   "outputs": [
    {
     "data": {
      "text/plain": [
       "[649.0818219184875,\n",
       " 614.6605250835419,\n",
       " 667.3451302051544,\n",
       " 609.237820148468,\n",
       " 640.0954308509827]"
      ]
     },
     "execution_count": 127,
     "metadata": {},
     "output_type": "execute_result"
    }
   ],
   "source": [
    "results"
   ]
  },
  {
   "cell_type": "code",
   "execution_count": 128,
   "metadata": {
    "collapsed": false
   },
   "outputs": [
    {
     "data": {
      "text/plain": [
       "10.601402427355449"
      ]
     },
     "execution_count": 128,
     "metadata": {},
     "output_type": "execute_result"
    }
   ],
   "source": [
    "np.mean(results)/60"
   ]
  }
 ],
 "metadata": {
  "kernelspec": {
   "display_name": "Python 2",
   "language": "python",
   "name": "python2"
  },
  "language_info": {
   "codemirror_mode": {
    "name": "ipython",
    "version": 2
   },
   "file_extension": ".py",
   "mimetype": "text/x-python",
   "name": "python",
   "nbconvert_exporter": "python",
   "pygments_lexer": "ipython2",
   "version": "2.7.10"
  }
 },
 "nbformat": 4,
 "nbformat_minor": 0
}
