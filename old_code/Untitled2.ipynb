{
 "cells": [
  {
   "cell_type": "code",
   "execution_count": 13,
   "metadata": {
    "collapsed": false
   },
   "outputs": [],
   "source": [
    "from astropy.io import ascii\n",
    "import shutil"
   ]
  },
  {
   "cell_type": "code",
   "execution_count": 3,
   "metadata": {
    "collapsed": false
   },
   "outputs": [],
   "source": [
    "r = ascii.read(\"/k2_data/c0_EB\")"
   ]
  },
  {
   "cell_type": "code",
   "execution_count": 10,
   "metadata": {
    "collapsed": true
   },
   "outputs": [],
   "source": [
    "def folderpath(epicID, campaign):\n",
    "    epicID, campaign = str(epicID), str(campaign)\n",
    "    inpath = \"/k2_data/lightcurves/\"\n",
    "    path = \"c\" + campaign + \"/\" +  epicID[0:4] + \"00000/\" + epicID[4:6] + \"000/\" \n",
    "    fn = \"ktwo\" + epicID + \"-c0\" + campaign + \"_lpd-lc.fits\"\n",
    "    return inpath + path + fn"
   ]
  },
  {
   "cell_type": "code",
   "execution_count": 14,
   "metadata": {
    "collapsed": true
   },
   "outputs": [],
   "source": [
    "def newpath(inpath,epicID, campaign):\n",
    "    epicID, campaign = str(epicID), str(campaign)\n",
    "    fn = \"ktwo\" + epicID + \"-c0\" + campaign + \"_lpd-lc.fits\"\n",
    "    return inpath + fn"
   ]
  },
  {
   "cell_type": "code",
   "execution_count": 19,
   "metadata": {
    "collapsed": false
   },
   "outputs": [],
   "source": [
    "newlist = [newpath(\"/k2_data/known_sample/\",epicID,0) for epicID in r['KIC/EPIC']]"
   ]
  },
  {
   "cell_type": "code",
   "execution_count": 18,
   "metadata": {
    "collapsed": false
   },
   "outputs": [],
   "source": [
    "oldlist = [folderpath(epicID, 0) for epicID in r['KIC/EPIC']]"
   ]
  },
  {
   "cell_type": "raw",
   "metadata": {},
   "source": []
  },
  {
   "cell_type": "markdown",
   "metadata": {},
   "source": [
    "for i in range(len(newlist)):\n",
    "    old, new = oldlist[i], newlist[i]\n",
    "    shutil.copy2(old, new)    "
   ]
  }
 ],
 "metadata": {
  "kernelspec": {
   "display_name": "Python 2",
   "language": "python",
   "name": "python2"
  },
  "language_info": {
   "codemirror_mode": {
    "name": "ipython",
    "version": 2
   },
   "file_extension": ".py",
   "mimetype": "text/x-python",
   "name": "python",
   "nbconvert_exporter": "python",
   "pygments_lexer": "ipython2",
   "version": "2.7.10"
  }
 },
 "nbformat": 4,
 "nbformat_minor": 0
}
